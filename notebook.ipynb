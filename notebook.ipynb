{
  "cells": [
    {
      "cell_type": "markdown",
      "id": "56955ab4",
      "metadata": {
        "id": "56955ab4"
      },
      "source": [
        "# Assessing Wikipedia Bias"
      ]
    },
    {
      "cell_type": "markdown",
      "id": "d376d2cc",
      "metadata": {
        "id": "d376d2cc"
      },
      "source": [
        "## Introduction"
      ]
    },
    {
      "cell_type": "markdown",
      "id": "3fcdac3e",
      "metadata": {
        "id": "3fcdac3e",
        "vscode": {
          "languageId": "plaintext"
        }
      },
      "source": [
        "Wikipedia is one of the most widely used information platforms in the world, offering free access to knowledge on nearly every imaginable topic. One of the reasons it is so widely used is that anyone can contribute to it, and thus making it knowledge accessible, but also introduces challenges. Since so many different people contribute, it is easy for bias to slip into articles.\n",
        "\n",
        "While Wikipedia does have policies to outright information, it is harder to catch and correct subtle bias in the way information is written. Thus, in reality language can reflect personal opinions, cultural viewpoints, or even political leanings. These influences can affect how information is presented, which might shape how readers understand a topic.\n",
        "\n",
        "The goal of this project is to inverstigate and quantify this bias. Through a combination of data collection, exploratory data analysis (EDA), and supervised learning techniques, we aim to build a model capable of identifying biased language in Wikipedia articles - mostly at the sentence level. This will get us an overall 'bias score' for an article, offering a scalable and interpretable way to assess objectivity."
      ]
    },
    {
      "cell_type": "markdown",
      "id": "91972697",
      "metadata": {
        "id": "91972697"
      },
      "source": [
        "## Data Overview"
      ]
    },
    {
      "cell_type": "code",
      "execution_count": 5,
      "id": "4602f48b",
      "metadata": {
        "id": "4602f48b"
      },
      "outputs": [],
      "source": [
        "# Import necessary libraries\n",
        "import pandas as pd\n",
        "import numpy as np\n",
        "import matplotlib.pyplot as plt\n",
        "import seaborn as sns\n",
        "import re\n",
        "import os\n",
        "import random\n",
        "\n",
        "#models\n",
        "from sklearn.model_selection import train_test_split\n",
        "from sklearn.feature_extraction.text import CountVectorizer, TfidfVectorizer\n",
        "from sklearn.metrics import accuracy_score, classification_report, confusion_matrix\n",
        "from sklearn.ensemble import RandomForestClassifier\n",
        "from lightgbm import LGBMClassifier\n",
        "from xgboost import XGBClassifier\n",
        "from sklearn.preprocessing import LabelEncoder\n",
        "from nltk.tokenize import sent_tokenize\n",
        "from sklearn.linear_model import LogisticRegression\n",
        "from sklearn.model_selection import train_test_split\n",
        "from sklearn.metrics import confusion_matrix, ConfusionMatrixDisplay\n",
        "\n",
        "import nltk\n",
        "from nltk.corpus import stopwords\n",
        "from nltk.tokenize import word_tokenize\n",
        "from nltk.stem import WordNetLemmatizer\n",
        "from sklearn.preprocessing import LabelEncoder\n",
        "\n",
        "\n",
        "from wordcloud import WordCloud\n",
        "\n",
        "import xgboost as xgb\n",
        "from textblob import TextBlob\n",
        "\n",
        "from sklearn.model_selection import GridSearchCV\n",
        "\n",
        "from tqdm import tqdm\n",
        "\n",
        "from transformers import BertTokenizer, BertModel\n",
        "import torch\n",
        "import math\n",
        "import numpy as np\n",
        "from tqdm import tqdm\n",
        "\n",
        "import tensorflow as tf\n",
        "from tensorflow.keras.models import Sequential\n",
        "from tensorflow.keras.layers import Dense, Dropout\n",
        "from tensorflow.keras.callbacks import EarlyStopping\n",
        "from sklearn.metrics import classification_report\n"
      ]
    },
    {
      "cell_type": "markdown",
      "source": [
        "### Useful Functions:"
      ],
      "metadata": {
        "id": "UaGZcegkb4lw"
      },
      "id": "UaGZcegkb4lw"
    },
    {
      "cell_type": "code",
      "execution_count": 6,
      "metadata": {
        "id": "nd49BSs325mk"
      },
      "outputs": [],
      "source": [
        "\n",
        "# Load pre-trained model and tokenizer\n",
        "tokenizer = BertTokenizer.from_pretrained('bert-base-uncased')\n",
        "bert_model = BertModel.from_pretrained('bert-base-uncased')\n",
        "\n",
        "def BERT_text_to_embeddings(texts, max_length=512, batch_size=100, force_device=None, disable_progress_bar=False):\n",
        "    # Tokenize the texts\n",
        "    ids_list = []\n",
        "    attention_mask_list = []\n",
        "\n",
        "    # Tokenize each text and create the input_ids and attention masks\n",
        "    for text in texts:\n",
        "        encoded = tokenizer.encode_plus(\n",
        "            text,\n",
        "            add_special_tokens=True,          # Add [CLS] and [SEP]\n",
        "            max_length=max_length,            # Pad or truncate text to max length\n",
        "            padding='max_length',             # Pad to max length\n",
        "            return_attention_mask=True,       # Create attention mask\n",
        "            return_tensors='pt',              # Return PyTorch tensors\n",
        "            truncation=True\n",
        "        )\n",
        "        ids_list.append(encoded['input_ids'].squeeze().tolist())\n",
        "        attention_mask_list.append(encoded['attention_mask'].squeeze().tolist())\n",
        "\n",
        "    # Set device\n",
        "    if force_device is not None:\n",
        "        device = torch.device(force_device)\n",
        "    else:\n",
        "        device = torch.device('cuda' if torch.cuda.is_available() else 'cpu')\n",
        "\n",
        "    bert_model.to(device)\n",
        "\n",
        "    if not disable_progress_bar:\n",
        "        print(f'Using the {device} device.')\n",
        "\n",
        "    # Getting embeddings in batches\n",
        "    embeddings = []\n",
        "\n",
        "    for i in tqdm(range(math.ceil(len(ids_list) / batch_size)), disable=disable_progress_bar):\n",
        "        ids_batch = torch.LongTensor(ids_list[batch_size * i:batch_size * (i + 1)]).to(device)\n",
        "        attention_mask_batch = torch.LongTensor(attention_mask_list[batch_size * i:batch_size * (i + 1)]).to(device)\n",
        "\n",
        "        with torch.no_grad():\n",
        "            bert_model.eval()\n",
        "            # Extracting the hidden state of the [CLS] token for each batch\n",
        "            batch_embeddings = bert_model(input_ids=ids_batch, attention_mask=attention_mask_batch)\n",
        "\n",
        "        # We only take the embedding corresponding to the [CLS] token (first token)\n",
        "        embeddings.append(batch_embeddings[0][:, 0, :].detach().cpu().numpy())\n",
        "\n",
        "    return np.concatenate(embeddings)\n"
      ],
      "id": "nd49BSs325mk"
    },
    {
      "cell_type": "code",
      "source": [
        "def train_val_test_split (df, rstate = 42, shuffle=True, stratify=None):\n",
        "    if stratify != None:\n",
        "        strat=df[stratify]\n",
        "    else:\n",
        "        strat = None\n",
        "    train_set, test_set = train_test_split(df, test_size=0.4, random_state=rstate, shuffle=shuffle, stratify=strat)\n",
        "\n",
        "    if stratify!=None:\n",
        "        strat=test_set[stratify]\n",
        "    else:\n",
        "        strat = None\n",
        "    val_set, test_set=train_test_split(test_set, test_size=0.5, random_state=rstate, shuffle=shuffle, stratify=strat)\n",
        "\n",
        "    return (train_set, val_set, test_set)"
      ],
      "metadata": {
        "id": "vouc7Ei7cFvo"
      },
      "id": "vouc7Ei7cFvo",
      "execution_count": 7,
      "outputs": []
    },
    {
      "cell_type": "code",
      "execution_count": 8,
      "id": "c8995c44",
      "metadata": {
        "colab": {
          "base_uri": "https://localhost:8080/",
          "height": 379
        },
        "id": "c8995c44",
        "outputId": "2cfa959d-9ae7-4a5f-f75b-4e550f9d3eb3"
      },
      "outputs": [
        {
          "output_type": "display_data",
          "data": {
            "text/plain": [
              "                                                text  \\\n",
              "0  \"Orange Is the New Black\" star Yael Stone is r...   \n",
              "1  \"We have one beautiful law,\" Trump recently sa...   \n",
              "2  ...immigrants as criminals and eugenics, all o...   \n",
              "3  ...we sounded the alarm in the early months of...   \n",
              "4  [Black Lives Matter] is essentially a non-fals...   \n",
              "\n",
              "                                           news_link     outlet  \\\n",
              "0  https://www.foxnews.com/entertainment/australi...   Fox News   \n",
              "1  https://www.alternet.org/2020/06/law-and-order...   Alternet   \n",
              "2  https://www.nbcnews.com/news/latino/after-step...      MSNBC   \n",
              "3  https://www.alternet.org/2019/07/fox-news-has-...   Alternet   \n",
              "4  http://feedproxy.google.com/~r/breitbart/~3/-v...  Breitbart   \n",
              "\n",
              "               topic   type  label_bias  \\\n",
              "0        environment  right  Non-biased   \n",
              "1        gun control   left      Biased   \n",
              "2  white-nationalism   left      Biased   \n",
              "3  white-nationalism   left      Biased   \n",
              "4  marriage-equality    NaN      Biased   \n",
              "\n",
              "                           label_opinion                        biased_words  \n",
              "0                       Entirely factual                                  []  \n",
              "1  Somewhat factual but also opinionated   ['bizarre', 'characteristically']  \n",
              "2             Expresses writer’s opinion  ['criminals', 'fringe', 'extreme']  \n",
              "3  Somewhat factual but also opinionated                                  []  \n",
              "4             Expresses writer’s opinion                            ['cult']  "
            ],
            "text/html": [
              "\n",
              "  <div id=\"df-09d42561-4901-441b-bf0e-317806199f02\" class=\"colab-df-container\">\n",
              "    <div>\n",
              "<style scoped>\n",
              "    .dataframe tbody tr th:only-of-type {\n",
              "        vertical-align: middle;\n",
              "    }\n",
              "\n",
              "    .dataframe tbody tr th {\n",
              "        vertical-align: top;\n",
              "    }\n",
              "\n",
              "    .dataframe thead th {\n",
              "        text-align: right;\n",
              "    }\n",
              "</style>\n",
              "<table border=\"1\" class=\"dataframe\">\n",
              "  <thead>\n",
              "    <tr style=\"text-align: right;\">\n",
              "      <th></th>\n",
              "      <th>text</th>\n",
              "      <th>news_link</th>\n",
              "      <th>outlet</th>\n",
              "      <th>topic</th>\n",
              "      <th>type</th>\n",
              "      <th>label_bias</th>\n",
              "      <th>label_opinion</th>\n",
              "      <th>biased_words</th>\n",
              "    </tr>\n",
              "  </thead>\n",
              "  <tbody>\n",
              "    <tr>\n",
              "      <th>0</th>\n",
              "      <td>\"Orange Is the New Black\" star Yael Stone is r...</td>\n",
              "      <td>https://www.foxnews.com/entertainment/australi...</td>\n",
              "      <td>Fox News</td>\n",
              "      <td>environment</td>\n",
              "      <td>right</td>\n",
              "      <td>Non-biased</td>\n",
              "      <td>Entirely factual</td>\n",
              "      <td>[]</td>\n",
              "    </tr>\n",
              "    <tr>\n",
              "      <th>1</th>\n",
              "      <td>\"We have one beautiful law,\" Trump recently sa...</td>\n",
              "      <td>https://www.alternet.org/2020/06/law-and-order...</td>\n",
              "      <td>Alternet</td>\n",
              "      <td>gun control</td>\n",
              "      <td>left</td>\n",
              "      <td>Biased</td>\n",
              "      <td>Somewhat factual but also opinionated</td>\n",
              "      <td>['bizarre', 'characteristically']</td>\n",
              "    </tr>\n",
              "    <tr>\n",
              "      <th>2</th>\n",
              "      <td>...immigrants as criminals and eugenics, all o...</td>\n",
              "      <td>https://www.nbcnews.com/news/latino/after-step...</td>\n",
              "      <td>MSNBC</td>\n",
              "      <td>white-nationalism</td>\n",
              "      <td>left</td>\n",
              "      <td>Biased</td>\n",
              "      <td>Expresses writer’s opinion</td>\n",
              "      <td>['criminals', 'fringe', 'extreme']</td>\n",
              "    </tr>\n",
              "    <tr>\n",
              "      <th>3</th>\n",
              "      <td>...we sounded the alarm in the early months of...</td>\n",
              "      <td>https://www.alternet.org/2019/07/fox-news-has-...</td>\n",
              "      <td>Alternet</td>\n",
              "      <td>white-nationalism</td>\n",
              "      <td>left</td>\n",
              "      <td>Biased</td>\n",
              "      <td>Somewhat factual but also opinionated</td>\n",
              "      <td>[]</td>\n",
              "    </tr>\n",
              "    <tr>\n",
              "      <th>4</th>\n",
              "      <td>[Black Lives Matter] is essentially a non-fals...</td>\n",
              "      <td>http://feedproxy.google.com/~r/breitbart/~3/-v...</td>\n",
              "      <td>Breitbart</td>\n",
              "      <td>marriage-equality</td>\n",
              "      <td>NaN</td>\n",
              "      <td>Biased</td>\n",
              "      <td>Expresses writer’s opinion</td>\n",
              "      <td>['cult']</td>\n",
              "    </tr>\n",
              "  </tbody>\n",
              "</table>\n",
              "</div>\n",
              "    <div class=\"colab-df-buttons\">\n",
              "\n",
              "  <div class=\"colab-df-container\">\n",
              "    <button class=\"colab-df-convert\" onclick=\"convertToInteractive('df-09d42561-4901-441b-bf0e-317806199f02')\"\n",
              "            title=\"Convert this dataframe to an interactive table.\"\n",
              "            style=\"display:none;\">\n",
              "\n",
              "  <svg xmlns=\"http://www.w3.org/2000/svg\" height=\"24px\" viewBox=\"0 -960 960 960\">\n",
              "    <path d=\"M120-120v-720h720v720H120Zm60-500h600v-160H180v160Zm220 220h160v-160H400v160Zm0 220h160v-160H400v160ZM180-400h160v-160H180v160Zm440 0h160v-160H620v160ZM180-180h160v-160H180v160Zm440 0h160v-160H620v160Z\"/>\n",
              "  </svg>\n",
              "    </button>\n",
              "\n",
              "  <style>\n",
              "    .colab-df-container {\n",
              "      display:flex;\n",
              "      gap: 12px;\n",
              "    }\n",
              "\n",
              "    .colab-df-convert {\n",
              "      background-color: #E8F0FE;\n",
              "      border: none;\n",
              "      border-radius: 50%;\n",
              "      cursor: pointer;\n",
              "      display: none;\n",
              "      fill: #1967D2;\n",
              "      height: 32px;\n",
              "      padding: 0 0 0 0;\n",
              "      width: 32px;\n",
              "    }\n",
              "\n",
              "    .colab-df-convert:hover {\n",
              "      background-color: #E2EBFA;\n",
              "      box-shadow: 0px 1px 2px rgba(60, 64, 67, 0.3), 0px 1px 3px 1px rgba(60, 64, 67, 0.15);\n",
              "      fill: #174EA6;\n",
              "    }\n",
              "\n",
              "    .colab-df-buttons div {\n",
              "      margin-bottom: 4px;\n",
              "    }\n",
              "\n",
              "    [theme=dark] .colab-df-convert {\n",
              "      background-color: #3B4455;\n",
              "      fill: #D2E3FC;\n",
              "    }\n",
              "\n",
              "    [theme=dark] .colab-df-convert:hover {\n",
              "      background-color: #434B5C;\n",
              "      box-shadow: 0px 1px 3px 1px rgba(0, 0, 0, 0.15);\n",
              "      filter: drop-shadow(0px 1px 2px rgba(0, 0, 0, 0.3));\n",
              "      fill: #FFFFFF;\n",
              "    }\n",
              "  </style>\n",
              "\n",
              "    <script>\n",
              "      const buttonEl =\n",
              "        document.querySelector('#df-09d42561-4901-441b-bf0e-317806199f02 button.colab-df-convert');\n",
              "      buttonEl.style.display =\n",
              "        google.colab.kernel.accessAllowed ? 'block' : 'none';\n",
              "\n",
              "      async function convertToInteractive(key) {\n",
              "        const element = document.querySelector('#df-09d42561-4901-441b-bf0e-317806199f02');\n",
              "        const dataTable =\n",
              "          await google.colab.kernel.invokeFunction('convertToInteractive',\n",
              "                                                    [key], {});\n",
              "        if (!dataTable) return;\n",
              "\n",
              "        const docLinkHtml = 'Like what you see? Visit the ' +\n",
              "          '<a target=\"_blank\" href=https://colab.research.google.com/notebooks/data_table.ipynb>data table notebook</a>'\n",
              "          + ' to learn more about interactive tables.';\n",
              "        element.innerHTML = '';\n",
              "        dataTable['output_type'] = 'display_data';\n",
              "        await google.colab.output.renderOutput(dataTable, element);\n",
              "        const docLink = document.createElement('div');\n",
              "        docLink.innerHTML = docLinkHtml;\n",
              "        element.appendChild(docLink);\n",
              "      }\n",
              "    </script>\n",
              "  </div>\n",
              "\n",
              "\n",
              "    <div id=\"df-bfe3fbfa-6ef7-4af5-9044-47427d11f78f\">\n",
              "      <button class=\"colab-df-quickchart\" onclick=\"quickchart('df-bfe3fbfa-6ef7-4af5-9044-47427d11f78f')\"\n",
              "                title=\"Suggest charts\"\n",
              "                style=\"display:none;\">\n",
              "\n",
              "<svg xmlns=\"http://www.w3.org/2000/svg\" height=\"24px\"viewBox=\"0 0 24 24\"\n",
              "     width=\"24px\">\n",
              "    <g>\n",
              "        <path d=\"M19 3H5c-1.1 0-2 .9-2 2v14c0 1.1.9 2 2 2h14c1.1 0 2-.9 2-2V5c0-1.1-.9-2-2-2zM9 17H7v-7h2v7zm4 0h-2V7h2v10zm4 0h-2v-4h2v4z\"/>\n",
              "    </g>\n",
              "</svg>\n",
              "      </button>\n",
              "\n",
              "<style>\n",
              "  .colab-df-quickchart {\n",
              "      --bg-color: #E8F0FE;\n",
              "      --fill-color: #1967D2;\n",
              "      --hover-bg-color: #E2EBFA;\n",
              "      --hover-fill-color: #174EA6;\n",
              "      --disabled-fill-color: #AAA;\n",
              "      --disabled-bg-color: #DDD;\n",
              "  }\n",
              "\n",
              "  [theme=dark] .colab-df-quickchart {\n",
              "      --bg-color: #3B4455;\n",
              "      --fill-color: #D2E3FC;\n",
              "      --hover-bg-color: #434B5C;\n",
              "      --hover-fill-color: #FFFFFF;\n",
              "      --disabled-bg-color: #3B4455;\n",
              "      --disabled-fill-color: #666;\n",
              "  }\n",
              "\n",
              "  .colab-df-quickchart {\n",
              "    background-color: var(--bg-color);\n",
              "    border: none;\n",
              "    border-radius: 50%;\n",
              "    cursor: pointer;\n",
              "    display: none;\n",
              "    fill: var(--fill-color);\n",
              "    height: 32px;\n",
              "    padding: 0;\n",
              "    width: 32px;\n",
              "  }\n",
              "\n",
              "  .colab-df-quickchart:hover {\n",
              "    background-color: var(--hover-bg-color);\n",
              "    box-shadow: 0 1px 2px rgba(60, 64, 67, 0.3), 0 1px 3px 1px rgba(60, 64, 67, 0.15);\n",
              "    fill: var(--button-hover-fill-color);\n",
              "  }\n",
              "\n",
              "  .colab-df-quickchart-complete:disabled,\n",
              "  .colab-df-quickchart-complete:disabled:hover {\n",
              "    background-color: var(--disabled-bg-color);\n",
              "    fill: var(--disabled-fill-color);\n",
              "    box-shadow: none;\n",
              "  }\n",
              "\n",
              "  .colab-df-spinner {\n",
              "    border: 2px solid var(--fill-color);\n",
              "    border-color: transparent;\n",
              "    border-bottom-color: var(--fill-color);\n",
              "    animation:\n",
              "      spin 1s steps(1) infinite;\n",
              "  }\n",
              "\n",
              "  @keyframes spin {\n",
              "    0% {\n",
              "      border-color: transparent;\n",
              "      border-bottom-color: var(--fill-color);\n",
              "      border-left-color: var(--fill-color);\n",
              "    }\n",
              "    20% {\n",
              "      border-color: transparent;\n",
              "      border-left-color: var(--fill-color);\n",
              "      border-top-color: var(--fill-color);\n",
              "    }\n",
              "    30% {\n",
              "      border-color: transparent;\n",
              "      border-left-color: var(--fill-color);\n",
              "      border-top-color: var(--fill-color);\n",
              "      border-right-color: var(--fill-color);\n",
              "    }\n",
              "    40% {\n",
              "      border-color: transparent;\n",
              "      border-right-color: var(--fill-color);\n",
              "      border-top-color: var(--fill-color);\n",
              "    }\n",
              "    60% {\n",
              "      border-color: transparent;\n",
              "      border-right-color: var(--fill-color);\n",
              "    }\n",
              "    80% {\n",
              "      border-color: transparent;\n",
              "      border-right-color: var(--fill-color);\n",
              "      border-bottom-color: var(--fill-color);\n",
              "    }\n",
              "    90% {\n",
              "      border-color: transparent;\n",
              "      border-bottom-color: var(--fill-color);\n",
              "    }\n",
              "  }\n",
              "</style>\n",
              "\n",
              "      <script>\n",
              "        async function quickchart(key) {\n",
              "          const quickchartButtonEl =\n",
              "            document.querySelector('#' + key + ' button');\n",
              "          quickchartButtonEl.disabled = true;  // To prevent multiple clicks.\n",
              "          quickchartButtonEl.classList.add('colab-df-spinner');\n",
              "          try {\n",
              "            const charts = await google.colab.kernel.invokeFunction(\n",
              "                'suggestCharts', [key], {});\n",
              "          } catch (error) {\n",
              "            console.error('Error during call to suggestCharts:', error);\n",
              "          }\n",
              "          quickchartButtonEl.classList.remove('colab-df-spinner');\n",
              "          quickchartButtonEl.classList.add('colab-df-quickchart-complete');\n",
              "        }\n",
              "        (() => {\n",
              "          let quickchartButtonEl =\n",
              "            document.querySelector('#df-bfe3fbfa-6ef7-4af5-9044-47427d11f78f button');\n",
              "          quickchartButtonEl.style.display =\n",
              "            google.colab.kernel.accessAllowed ? 'block' : 'none';\n",
              "        })();\n",
              "      </script>\n",
              "    </div>\n",
              "\n",
              "    </div>\n",
              "  </div>\n"
            ],
            "application/vnd.google.colaboratory.intrinsic+json": {
              "type": "dataframe",
              "summary": "{\n  \"name\": \"display(data\",\n  \"rows\": 5,\n  \"fields\": [\n    {\n      \"column\": \"text\",\n      \"properties\": {\n        \"dtype\": \"string\",\n        \"num_unique_values\": 5,\n        \"samples\": [\n          \"\\\"We have one beautiful law,\\\" Trump recently said in his characteristically bizarre syntax and diction, repeating the word \\\"beautiful.\\\"\",\n          \"[Black Lives Matter] is essentially a non-falsifiable religious cult that sets itself specifically against Christianity, just like the French Revolution did.\",\n          \"...immigrants as criminals and eugenics, all of which were once considered fringe and extreme. White nationalists embrace white supremacist and white separatist views.\"\n        ],\n        \"semantic_type\": \"\",\n        \"description\": \"\"\n      }\n    },\n    {\n      \"column\": \"news_link\",\n      \"properties\": {\n        \"dtype\": \"string\",\n        \"num_unique_values\": 5,\n        \"samples\": [\n          \"https://www.alternet.org/2020/06/law-and-order-is-a-debased-concept-used-to-cover-up-right-wing-crime-and-depravity-heres-why/\",\n          \"http://feedproxy.google.com/~r/breitbart/~3/-vHhfcwC74U/\",\n          \"https://www.nbcnews.com/news/latino/after-stephen-miller-s-white-nationalist-views-outed-latinos-ask-n1096071\"\n        ],\n        \"semantic_type\": \"\",\n        \"description\": \"\"\n      }\n    },\n    {\n      \"column\": \"outlet\",\n      \"properties\": {\n        \"dtype\": \"string\",\n        \"num_unique_values\": 4,\n        \"samples\": [\n          \"Alternet\",\n          \"Breitbart\",\n          \"Fox News\"\n        ],\n        \"semantic_type\": \"\",\n        \"description\": \"\"\n      }\n    },\n    {\n      \"column\": \"topic\",\n      \"properties\": {\n        \"dtype\": \"string\",\n        \"num_unique_values\": 4,\n        \"samples\": [\n          \"gun control\",\n          \"marriage-equality\",\n          \"environment\"\n        ],\n        \"semantic_type\": \"\",\n        \"description\": \"\"\n      }\n    },\n    {\n      \"column\": \"type\",\n      \"properties\": {\n        \"dtype\": \"category\",\n        \"num_unique_values\": 2,\n        \"samples\": [\n          \"left\",\n          \"right\"\n        ],\n        \"semantic_type\": \"\",\n        \"description\": \"\"\n      }\n    },\n    {\n      \"column\": \"label_bias\",\n      \"properties\": {\n        \"dtype\": \"category\",\n        \"num_unique_values\": 2,\n        \"samples\": [\n          \"Biased\",\n          \"Non-biased\"\n        ],\n        \"semantic_type\": \"\",\n        \"description\": \"\"\n      }\n    },\n    {\n      \"column\": \"label_opinion\",\n      \"properties\": {\n        \"dtype\": \"string\",\n        \"num_unique_values\": 3,\n        \"samples\": [\n          \"Entirely factual\",\n          \"Somewhat factual but also opinionated\"\n        ],\n        \"semantic_type\": \"\",\n        \"description\": \"\"\n      }\n    },\n    {\n      \"column\": \"biased_words\",\n      \"properties\": {\n        \"dtype\": \"string\",\n        \"num_unique_values\": 4,\n        \"samples\": [\n          \"['bizarre', 'characteristically']\",\n          \"['cult']\"\n        ],\n        \"semantic_type\": \"\",\n        \"description\": \"\"\n      }\n    }\n  ]\n}"
            }
          },
          "metadata": {}
        }
      ],
      "source": [
        "# Load the datasets\n",
        "try:\n",
        "    data = pd.read_csv('/content/final_labels.csv', sep=';')\n",
        "except:\n",
        "    data = pd.read_csv('final_labels.csv', sep=';')\n",
        "\n",
        "# Display the first few rows of the dataset\n",
        "display(data.head())"
      ]
    },
    {
      "cell_type": "markdown",
      "id": "88f5b3d0",
      "metadata": {
        "id": "88f5b3d0"
      },
      "source": [
        "### Data preprocessing"
      ]
    },
    {
      "cell_type": "code",
      "execution_count": 9,
      "id": "f0d5b3e8",
      "metadata": {
        "colab": {
          "base_uri": "https://localhost:8080/",
          "height": 156
        },
        "id": "f0d5b3e8",
        "outputId": "a35343f2-ba9d-421d-e33d-17103623c1af"
      },
      "outputs": [
        {
          "output_type": "display_data",
          "data": {
            "text/plain": [
              "['text',\n",
              " 'news_link',\n",
              " 'outlet',\n",
              " 'topic',\n",
              " 'type',\n",
              " 'label_bias',\n",
              " 'label_opinion',\n",
              " 'biased_words']"
            ]
          },
          "metadata": {}
        }
      ],
      "source": [
        "# Display the column names of the dataset\n",
        "column_names = data.columns.tolist()\n",
        "display(column_names)"
      ]
    },
    {
      "cell_type": "code",
      "execution_count": 10,
      "id": "ebfa8dbb",
      "metadata": {
        "colab": {
          "base_uri": "https://localhost:8080/"
        },
        "id": "ebfa8dbb",
        "outputId": "8f075460-7aa0-4b7a-b840-7e7e926ebc84"
      },
      "outputs": [
        {
          "output_type": "stream",
          "name": "stdout",
          "text": [
            "The DataFrame has 3674 rows and 8 columns\n"
          ]
        }
      ],
      "source": [
        "# Display the shape of the dataset\n",
        "n_rows, n_cols = data.shape\n",
        "print(f\"The DataFrame has {n_rows} rows and {n_cols} columns\")"
      ]
    },
    {
      "cell_type": "code",
      "execution_count": 11,
      "id": "ec3998e0",
      "metadata": {
        "colab": {
          "base_uri": "https://localhost:8080/"
        },
        "id": "ec3998e0",
        "outputId": "6c48bb22-e452-4525-8d5e-e2014cdc0645"
      },
      "outputs": [
        {
          "output_type": "stream",
          "name": "stdout",
          "text": [
            "<class 'pandas.core.frame.DataFrame'>\n",
            "RangeIndex: 3674 entries, 0 to 3673\n",
            "Data columns (total 8 columns):\n",
            " #   Column         Non-Null Count  Dtype \n",
            "---  ------         --------------  ----- \n",
            " 0   text           3674 non-null   object\n",
            " 1   news_link      3642 non-null   object\n",
            " 2   outlet         3674 non-null   object\n",
            " 3   topic          3674 non-null   object\n",
            " 4   type           2674 non-null   object\n",
            " 5   label_bias     3674 non-null   object\n",
            " 6   label_opinion  3674 non-null   object\n",
            " 7   biased_words   3674 non-null   object\n",
            "dtypes: object(8)\n",
            "memory usage: 229.8+ KB\n"
          ]
        }
      ],
      "source": [
        "# Display the informative summary of the dataset\n",
        "data.info()"
      ]
    },
    {
      "cell_type": "code",
      "execution_count": 12,
      "id": "486f9a2b",
      "metadata": {
        "colab": {
          "base_uri": "https://localhost:8080/",
          "height": 192
        },
        "id": "486f9a2b",
        "outputId": "48e87806-8f79-4560-9240-8fb73f69b25f"
      },
      "outputs": [
        {
          "output_type": "execute_result",
          "data": {
            "text/plain": [
              "                                                     text  \\\n",
              "count                                                3674   \n",
              "unique                                               3674   \n",
              "top     YouTube is making clear there will be no “birt...   \n",
              "freq                                                    1   \n",
              "\n",
              "                                                news_link     outlet  \\\n",
              "count                                                3642       3674   \n",
              "unique                                               2095         11   \n",
              "top     http://feedproxy.google.com/~r/breitbart/~3/2R...  Breitbart   \n",
              "freq                                                   15        943   \n",
              "\n",
              "                    topic   type  label_bias     label_opinion biased_words  \n",
              "count                3674   2674        3674              3674         3674  \n",
              "unique                 23      3           3                 4         1623  \n",
              "top     marriage-equality  right  Non-biased  Entirely factual           []  \n",
              "freq                  347    993        1863              1600         1825  "
            ],
            "text/html": [
              "\n",
              "  <div id=\"df-40efef0b-6ac4-4f6f-916f-fa9a4eafaa94\" class=\"colab-df-container\">\n",
              "    <div>\n",
              "<style scoped>\n",
              "    .dataframe tbody tr th:only-of-type {\n",
              "        vertical-align: middle;\n",
              "    }\n",
              "\n",
              "    .dataframe tbody tr th {\n",
              "        vertical-align: top;\n",
              "    }\n",
              "\n",
              "    .dataframe thead th {\n",
              "        text-align: right;\n",
              "    }\n",
              "</style>\n",
              "<table border=\"1\" class=\"dataframe\">\n",
              "  <thead>\n",
              "    <tr style=\"text-align: right;\">\n",
              "      <th></th>\n",
              "      <th>text</th>\n",
              "      <th>news_link</th>\n",
              "      <th>outlet</th>\n",
              "      <th>topic</th>\n",
              "      <th>type</th>\n",
              "      <th>label_bias</th>\n",
              "      <th>label_opinion</th>\n",
              "      <th>biased_words</th>\n",
              "    </tr>\n",
              "  </thead>\n",
              "  <tbody>\n",
              "    <tr>\n",
              "      <th>count</th>\n",
              "      <td>3674</td>\n",
              "      <td>3642</td>\n",
              "      <td>3674</td>\n",
              "      <td>3674</td>\n",
              "      <td>2674</td>\n",
              "      <td>3674</td>\n",
              "      <td>3674</td>\n",
              "      <td>3674</td>\n",
              "    </tr>\n",
              "    <tr>\n",
              "      <th>unique</th>\n",
              "      <td>3674</td>\n",
              "      <td>2095</td>\n",
              "      <td>11</td>\n",
              "      <td>23</td>\n",
              "      <td>3</td>\n",
              "      <td>3</td>\n",
              "      <td>4</td>\n",
              "      <td>1623</td>\n",
              "    </tr>\n",
              "    <tr>\n",
              "      <th>top</th>\n",
              "      <td>YouTube is making clear there will be no “birt...</td>\n",
              "      <td>http://feedproxy.google.com/~r/breitbart/~3/2R...</td>\n",
              "      <td>Breitbart</td>\n",
              "      <td>marriage-equality</td>\n",
              "      <td>right</td>\n",
              "      <td>Non-biased</td>\n",
              "      <td>Entirely factual</td>\n",
              "      <td>[]</td>\n",
              "    </tr>\n",
              "    <tr>\n",
              "      <th>freq</th>\n",
              "      <td>1</td>\n",
              "      <td>15</td>\n",
              "      <td>943</td>\n",
              "      <td>347</td>\n",
              "      <td>993</td>\n",
              "      <td>1863</td>\n",
              "      <td>1600</td>\n",
              "      <td>1825</td>\n",
              "    </tr>\n",
              "  </tbody>\n",
              "</table>\n",
              "</div>\n",
              "    <div class=\"colab-df-buttons\">\n",
              "\n",
              "  <div class=\"colab-df-container\">\n",
              "    <button class=\"colab-df-convert\" onclick=\"convertToInteractive('df-40efef0b-6ac4-4f6f-916f-fa9a4eafaa94')\"\n",
              "            title=\"Convert this dataframe to an interactive table.\"\n",
              "            style=\"display:none;\">\n",
              "\n",
              "  <svg xmlns=\"http://www.w3.org/2000/svg\" height=\"24px\" viewBox=\"0 -960 960 960\">\n",
              "    <path d=\"M120-120v-720h720v720H120Zm60-500h600v-160H180v160Zm220 220h160v-160H400v160Zm0 220h160v-160H400v160ZM180-400h160v-160H180v160Zm440 0h160v-160H620v160ZM180-180h160v-160H180v160Zm440 0h160v-160H620v160Z\"/>\n",
              "  </svg>\n",
              "    </button>\n",
              "\n",
              "  <style>\n",
              "    .colab-df-container {\n",
              "      display:flex;\n",
              "      gap: 12px;\n",
              "    }\n",
              "\n",
              "    .colab-df-convert {\n",
              "      background-color: #E8F0FE;\n",
              "      border: none;\n",
              "      border-radius: 50%;\n",
              "      cursor: pointer;\n",
              "      display: none;\n",
              "      fill: #1967D2;\n",
              "      height: 32px;\n",
              "      padding: 0 0 0 0;\n",
              "      width: 32px;\n",
              "    }\n",
              "\n",
              "    .colab-df-convert:hover {\n",
              "      background-color: #E2EBFA;\n",
              "      box-shadow: 0px 1px 2px rgba(60, 64, 67, 0.3), 0px 1px 3px 1px rgba(60, 64, 67, 0.15);\n",
              "      fill: #174EA6;\n",
              "    }\n",
              "\n",
              "    .colab-df-buttons div {\n",
              "      margin-bottom: 4px;\n",
              "    }\n",
              "\n",
              "    [theme=dark] .colab-df-convert {\n",
              "      background-color: #3B4455;\n",
              "      fill: #D2E3FC;\n",
              "    }\n",
              "\n",
              "    [theme=dark] .colab-df-convert:hover {\n",
              "      background-color: #434B5C;\n",
              "      box-shadow: 0px 1px 3px 1px rgba(0, 0, 0, 0.15);\n",
              "      filter: drop-shadow(0px 1px 2px rgba(0, 0, 0, 0.3));\n",
              "      fill: #FFFFFF;\n",
              "    }\n",
              "  </style>\n",
              "\n",
              "    <script>\n",
              "      const buttonEl =\n",
              "        document.querySelector('#df-40efef0b-6ac4-4f6f-916f-fa9a4eafaa94 button.colab-df-convert');\n",
              "      buttonEl.style.display =\n",
              "        google.colab.kernel.accessAllowed ? 'block' : 'none';\n",
              "\n",
              "      async function convertToInteractive(key) {\n",
              "        const element = document.querySelector('#df-40efef0b-6ac4-4f6f-916f-fa9a4eafaa94');\n",
              "        const dataTable =\n",
              "          await google.colab.kernel.invokeFunction('convertToInteractive',\n",
              "                                                    [key], {});\n",
              "        if (!dataTable) return;\n",
              "\n",
              "        const docLinkHtml = 'Like what you see? Visit the ' +\n",
              "          '<a target=\"_blank\" href=https://colab.research.google.com/notebooks/data_table.ipynb>data table notebook</a>'\n",
              "          + ' to learn more about interactive tables.';\n",
              "        element.innerHTML = '';\n",
              "        dataTable['output_type'] = 'display_data';\n",
              "        await google.colab.output.renderOutput(dataTable, element);\n",
              "        const docLink = document.createElement('div');\n",
              "        docLink.innerHTML = docLinkHtml;\n",
              "        element.appendChild(docLink);\n",
              "      }\n",
              "    </script>\n",
              "  </div>\n",
              "\n",
              "\n",
              "    <div id=\"df-2a207f09-6d26-47dc-b0f9-de6955a480a1\">\n",
              "      <button class=\"colab-df-quickchart\" onclick=\"quickchart('df-2a207f09-6d26-47dc-b0f9-de6955a480a1')\"\n",
              "                title=\"Suggest charts\"\n",
              "                style=\"display:none;\">\n",
              "\n",
              "<svg xmlns=\"http://www.w3.org/2000/svg\" height=\"24px\"viewBox=\"0 0 24 24\"\n",
              "     width=\"24px\">\n",
              "    <g>\n",
              "        <path d=\"M19 3H5c-1.1 0-2 .9-2 2v14c0 1.1.9 2 2 2h14c1.1 0 2-.9 2-2V5c0-1.1-.9-2-2-2zM9 17H7v-7h2v7zm4 0h-2V7h2v10zm4 0h-2v-4h2v4z\"/>\n",
              "    </g>\n",
              "</svg>\n",
              "      </button>\n",
              "\n",
              "<style>\n",
              "  .colab-df-quickchart {\n",
              "      --bg-color: #E8F0FE;\n",
              "      --fill-color: #1967D2;\n",
              "      --hover-bg-color: #E2EBFA;\n",
              "      --hover-fill-color: #174EA6;\n",
              "      --disabled-fill-color: #AAA;\n",
              "      --disabled-bg-color: #DDD;\n",
              "  }\n",
              "\n",
              "  [theme=dark] .colab-df-quickchart {\n",
              "      --bg-color: #3B4455;\n",
              "      --fill-color: #D2E3FC;\n",
              "      --hover-bg-color: #434B5C;\n",
              "      --hover-fill-color: #FFFFFF;\n",
              "      --disabled-bg-color: #3B4455;\n",
              "      --disabled-fill-color: #666;\n",
              "  }\n",
              "\n",
              "  .colab-df-quickchart {\n",
              "    background-color: var(--bg-color);\n",
              "    border: none;\n",
              "    border-radius: 50%;\n",
              "    cursor: pointer;\n",
              "    display: none;\n",
              "    fill: var(--fill-color);\n",
              "    height: 32px;\n",
              "    padding: 0;\n",
              "    width: 32px;\n",
              "  }\n",
              "\n",
              "  .colab-df-quickchart:hover {\n",
              "    background-color: var(--hover-bg-color);\n",
              "    box-shadow: 0 1px 2px rgba(60, 64, 67, 0.3), 0 1px 3px 1px rgba(60, 64, 67, 0.15);\n",
              "    fill: var(--button-hover-fill-color);\n",
              "  }\n",
              "\n",
              "  .colab-df-quickchart-complete:disabled,\n",
              "  .colab-df-quickchart-complete:disabled:hover {\n",
              "    background-color: var(--disabled-bg-color);\n",
              "    fill: var(--disabled-fill-color);\n",
              "    box-shadow: none;\n",
              "  }\n",
              "\n",
              "  .colab-df-spinner {\n",
              "    border: 2px solid var(--fill-color);\n",
              "    border-color: transparent;\n",
              "    border-bottom-color: var(--fill-color);\n",
              "    animation:\n",
              "      spin 1s steps(1) infinite;\n",
              "  }\n",
              "\n",
              "  @keyframes spin {\n",
              "    0% {\n",
              "      border-color: transparent;\n",
              "      border-bottom-color: var(--fill-color);\n",
              "      border-left-color: var(--fill-color);\n",
              "    }\n",
              "    20% {\n",
              "      border-color: transparent;\n",
              "      border-left-color: var(--fill-color);\n",
              "      border-top-color: var(--fill-color);\n",
              "    }\n",
              "    30% {\n",
              "      border-color: transparent;\n",
              "      border-left-color: var(--fill-color);\n",
              "      border-top-color: var(--fill-color);\n",
              "      border-right-color: var(--fill-color);\n",
              "    }\n",
              "    40% {\n",
              "      border-color: transparent;\n",
              "      border-right-color: var(--fill-color);\n",
              "      border-top-color: var(--fill-color);\n",
              "    }\n",
              "    60% {\n",
              "      border-color: transparent;\n",
              "      border-right-color: var(--fill-color);\n",
              "    }\n",
              "    80% {\n",
              "      border-color: transparent;\n",
              "      border-right-color: var(--fill-color);\n",
              "      border-bottom-color: var(--fill-color);\n",
              "    }\n",
              "    90% {\n",
              "      border-color: transparent;\n",
              "      border-bottom-color: var(--fill-color);\n",
              "    }\n",
              "  }\n",
              "</style>\n",
              "\n",
              "      <script>\n",
              "        async function quickchart(key) {\n",
              "          const quickchartButtonEl =\n",
              "            document.querySelector('#' + key + ' button');\n",
              "          quickchartButtonEl.disabled = true;  // To prevent multiple clicks.\n",
              "          quickchartButtonEl.classList.add('colab-df-spinner');\n",
              "          try {\n",
              "            const charts = await google.colab.kernel.invokeFunction(\n",
              "                'suggestCharts', [key], {});\n",
              "          } catch (error) {\n",
              "            console.error('Error during call to suggestCharts:', error);\n",
              "          }\n",
              "          quickchartButtonEl.classList.remove('colab-df-spinner');\n",
              "          quickchartButtonEl.classList.add('colab-df-quickchart-complete');\n",
              "        }\n",
              "        (() => {\n",
              "          let quickchartButtonEl =\n",
              "            document.querySelector('#df-2a207f09-6d26-47dc-b0f9-de6955a480a1 button');\n",
              "          quickchartButtonEl.style.display =\n",
              "            google.colab.kernel.accessAllowed ? 'block' : 'none';\n",
              "        })();\n",
              "      </script>\n",
              "    </div>\n",
              "\n",
              "    </div>\n",
              "  </div>\n"
            ],
            "application/vnd.google.colaboratory.intrinsic+json": {
              "type": "dataframe",
              "summary": "{\n  \"name\": \"data\",\n  \"rows\": 4,\n  \"fields\": [\n    {\n      \"column\": \"text\",\n      \"properties\": {\n        \"dtype\": \"string\",\n        \"num_unique_values\": 3,\n        \"samples\": [\n          \"3674\",\n          \"YouTube is making clear there will be no \\u201cbirtherism\\u201d on its platform during this year\\u2019s U.S. presidential election \\u2013 a belated response to a type of conspiracy theory more prevalent in the 2012 race.\",\n          \"1\"\n        ],\n        \"semantic_type\": \"\",\n        \"description\": \"\"\n      }\n    },\n    {\n      \"column\": \"news_link\",\n      \"properties\": {\n        \"dtype\": \"string\",\n        \"num_unique_values\": 4,\n        \"samples\": [\n          2095,\n          \"15\",\n          \"3642\"\n        ],\n        \"semantic_type\": \"\",\n        \"description\": \"\"\n      }\n    },\n    {\n      \"column\": \"outlet\",\n      \"properties\": {\n        \"dtype\": \"string\",\n        \"num_unique_values\": 4,\n        \"samples\": [\n          11,\n          \"943\",\n          \"3674\"\n        ],\n        \"semantic_type\": \"\",\n        \"description\": \"\"\n      }\n    },\n    {\n      \"column\": \"topic\",\n      \"properties\": {\n        \"dtype\": \"string\",\n        \"num_unique_values\": 4,\n        \"samples\": [\n          23,\n          \"347\",\n          \"3674\"\n        ],\n        \"semantic_type\": \"\",\n        \"description\": \"\"\n      }\n    },\n    {\n      \"column\": \"type\",\n      \"properties\": {\n        \"dtype\": \"string\",\n        \"num_unique_values\": 4,\n        \"samples\": [\n          3,\n          \"993\",\n          \"2674\"\n        ],\n        \"semantic_type\": \"\",\n        \"description\": \"\"\n      }\n    },\n    {\n      \"column\": \"label_bias\",\n      \"properties\": {\n        \"dtype\": \"string\",\n        \"num_unique_values\": 4,\n        \"samples\": [\n          3,\n          \"1863\",\n          \"3674\"\n        ],\n        \"semantic_type\": \"\",\n        \"description\": \"\"\n      }\n    },\n    {\n      \"column\": \"label_opinion\",\n      \"properties\": {\n        \"dtype\": \"string\",\n        \"num_unique_values\": 4,\n        \"samples\": [\n          4,\n          \"1600\",\n          \"3674\"\n        ],\n        \"semantic_type\": \"\",\n        \"description\": \"\"\n      }\n    },\n    {\n      \"column\": \"biased_words\",\n      \"properties\": {\n        \"dtype\": \"string\",\n        \"num_unique_values\": 4,\n        \"samples\": [\n          1623,\n          \"1825\",\n          \"3674\"\n        ],\n        \"semantic_type\": \"\",\n        \"description\": \"\"\n      }\n    }\n  ]\n}"
            }
          },
          "metadata": {},
          "execution_count": 12
        }
      ],
      "source": [
        "# Display the descriptive statistics of the dataset\n",
        "\n",
        "data.describe()"
      ]
    },
    {
      "cell_type": "markdown",
      "id": "910da4e2",
      "metadata": {
        "id": "910da4e2"
      },
      "source": [
        "## Explorating Data Analysis"
      ]
    },
    {
      "cell_type": "markdown",
      "id": "f9456da3",
      "metadata": {
        "id": "f9456da3"
      },
      "source": [
        "### Duplicates"
      ]
    },
    {
      "cell_type": "code",
      "execution_count": 13,
      "id": "998ad12a",
      "metadata": {
        "colab": {
          "base_uri": "https://localhost:8080/",
          "height": 36
        },
        "id": "998ad12a",
        "outputId": "b4e5acce-facc-4d09-e275-c2cc0b67700f"
      },
      "outputs": [
        {
          "output_type": "display_data",
          "data": {
            "text/plain": [
              "'Number of duplicated data: 0'"
            ],
            "application/vnd.google.colaboratory.intrinsic+json": {
              "type": "string"
            }
          },
          "metadata": {}
        }
      ],
      "source": [
        "# Display the number of duplicates in the dataset\n",
        "duplicates = data[data.duplicated()]\n",
        "display(f\"Number of duplicated data: {duplicates.shape[0]}\")"
      ]
    },
    {
      "cell_type": "markdown",
      "id": "ef46d36b",
      "metadata": {
        "id": "ef46d36b"
      },
      "source": [
        "### Missing Values"
      ]
    },
    {
      "cell_type": "code",
      "execution_count": 14,
      "id": "f75c2a83",
      "metadata": {
        "colab": {
          "base_uri": "https://localhost:8080/",
          "height": 652
        },
        "id": "f75c2a83",
        "outputId": "4b3b8508-2316-4026-ad65-910771f91010"
      },
      "outputs": [
        {
          "output_type": "display_data",
          "data": {
            "text/plain": [
              "text                0\n",
              "news_link          32\n",
              "outlet              0\n",
              "topic               0\n",
              "type             1000\n",
              "label_bias          0\n",
              "label_opinion       0\n",
              "biased_words        0\n",
              "dtype: int64"
            ],
            "text/html": [
              "<div>\n",
              "<style scoped>\n",
              "    .dataframe tbody tr th:only-of-type {\n",
              "        vertical-align: middle;\n",
              "    }\n",
              "\n",
              "    .dataframe tbody tr th {\n",
              "        vertical-align: top;\n",
              "    }\n",
              "\n",
              "    .dataframe thead th {\n",
              "        text-align: right;\n",
              "    }\n",
              "</style>\n",
              "<table border=\"1\" class=\"dataframe\">\n",
              "  <thead>\n",
              "    <tr style=\"text-align: right;\">\n",
              "      <th></th>\n",
              "      <th>0</th>\n",
              "    </tr>\n",
              "  </thead>\n",
              "  <tbody>\n",
              "    <tr>\n",
              "      <th>text</th>\n",
              "      <td>0</td>\n",
              "    </tr>\n",
              "    <tr>\n",
              "      <th>news_link</th>\n",
              "      <td>32</td>\n",
              "    </tr>\n",
              "    <tr>\n",
              "      <th>outlet</th>\n",
              "      <td>0</td>\n",
              "    </tr>\n",
              "    <tr>\n",
              "      <th>topic</th>\n",
              "      <td>0</td>\n",
              "    </tr>\n",
              "    <tr>\n",
              "      <th>type</th>\n",
              "      <td>1000</td>\n",
              "    </tr>\n",
              "    <tr>\n",
              "      <th>label_bias</th>\n",
              "      <td>0</td>\n",
              "    </tr>\n",
              "    <tr>\n",
              "      <th>label_opinion</th>\n",
              "      <td>0</td>\n",
              "    </tr>\n",
              "    <tr>\n",
              "      <th>biased_words</th>\n",
              "      <td>0</td>\n",
              "    </tr>\n",
              "  </tbody>\n",
              "</table>\n",
              "</div><br><label><b>dtype:</b> int64</label>"
            ]
          },
          "metadata": {}
        },
        {
          "output_type": "display_data",
          "data": {
            "text/plain": [
              "text             0.000000\n",
              "news_link        0.008710\n",
              "outlet           0.000000\n",
              "topic            0.000000\n",
              "type             0.272183\n",
              "label_bias       0.000000\n",
              "label_opinion    0.000000\n",
              "biased_words     0.000000\n",
              "dtype: float64"
            ],
            "text/html": [
              "<div>\n",
              "<style scoped>\n",
              "    .dataframe tbody tr th:only-of-type {\n",
              "        vertical-align: middle;\n",
              "    }\n",
              "\n",
              "    .dataframe tbody tr th {\n",
              "        vertical-align: top;\n",
              "    }\n",
              "\n",
              "    .dataframe thead th {\n",
              "        text-align: right;\n",
              "    }\n",
              "</style>\n",
              "<table border=\"1\" class=\"dataframe\">\n",
              "  <thead>\n",
              "    <tr style=\"text-align: right;\">\n",
              "      <th></th>\n",
              "      <th>0</th>\n",
              "    </tr>\n",
              "  </thead>\n",
              "  <tbody>\n",
              "    <tr>\n",
              "      <th>text</th>\n",
              "      <td>0.000000</td>\n",
              "    </tr>\n",
              "    <tr>\n",
              "      <th>news_link</th>\n",
              "      <td>0.008710</td>\n",
              "    </tr>\n",
              "    <tr>\n",
              "      <th>outlet</th>\n",
              "      <td>0.000000</td>\n",
              "    </tr>\n",
              "    <tr>\n",
              "      <th>topic</th>\n",
              "      <td>0.000000</td>\n",
              "    </tr>\n",
              "    <tr>\n",
              "      <th>type</th>\n",
              "      <td>0.272183</td>\n",
              "    </tr>\n",
              "    <tr>\n",
              "      <th>label_bias</th>\n",
              "      <td>0.000000</td>\n",
              "    </tr>\n",
              "    <tr>\n",
              "      <th>label_opinion</th>\n",
              "      <td>0.000000</td>\n",
              "    </tr>\n",
              "    <tr>\n",
              "      <th>biased_words</th>\n",
              "      <td>0.000000</td>\n",
              "    </tr>\n",
              "  </tbody>\n",
              "</table>\n",
              "</div><br><label><b>dtype:</b> float64</label>"
            ]
          },
          "metadata": {}
        }
      ],
      "source": [
        "# Display the number of missing values in the dataset\n",
        "display(data.isna().sum())\n",
        "\n",
        "# Check for missing values in the DataFrame as a percentage\n",
        "display(data.isna().sum()/len(data))"
      ]
    },
    {
      "cell_type": "code",
      "execution_count": 15,
      "id": "40cde572",
      "metadata": {
        "id": "40cde572"
      },
      "outputs": [],
      "source": [
        "# Drop rows with missing values in the 'news_link' and 'article' columns\n",
        "data.dropna(subset=['news_link'], inplace=True)\n",
        "data.dropna(subset=['type'], inplace=True)"
      ]
    },
    {
      "cell_type": "code",
      "execution_count": 16,
      "id": "2b12601f",
      "metadata": {
        "colab": {
          "base_uri": "https://localhost:8080/",
          "height": 335
        },
        "id": "2b12601f",
        "outputId": "8e8c2eac-b7fc-4296-d9ea-778b84b96977"
      },
      "outputs": [
        {
          "output_type": "display_data",
          "data": {
            "text/plain": [
              "text             0.0\n",
              "news_link        0.0\n",
              "outlet           0.0\n",
              "topic            0.0\n",
              "type             0.0\n",
              "label_bias       0.0\n",
              "label_opinion    0.0\n",
              "biased_words     0.0\n",
              "dtype: float64"
            ],
            "text/html": [
              "<div>\n",
              "<style scoped>\n",
              "    .dataframe tbody tr th:only-of-type {\n",
              "        vertical-align: middle;\n",
              "    }\n",
              "\n",
              "    .dataframe tbody tr th {\n",
              "        vertical-align: top;\n",
              "    }\n",
              "\n",
              "    .dataframe thead th {\n",
              "        text-align: right;\n",
              "    }\n",
              "</style>\n",
              "<table border=\"1\" class=\"dataframe\">\n",
              "  <thead>\n",
              "    <tr style=\"text-align: right;\">\n",
              "      <th></th>\n",
              "      <th>0</th>\n",
              "    </tr>\n",
              "  </thead>\n",
              "  <tbody>\n",
              "    <tr>\n",
              "      <th>text</th>\n",
              "      <td>0.0</td>\n",
              "    </tr>\n",
              "    <tr>\n",
              "      <th>news_link</th>\n",
              "      <td>0.0</td>\n",
              "    </tr>\n",
              "    <tr>\n",
              "      <th>outlet</th>\n",
              "      <td>0.0</td>\n",
              "    </tr>\n",
              "    <tr>\n",
              "      <th>topic</th>\n",
              "      <td>0.0</td>\n",
              "    </tr>\n",
              "    <tr>\n",
              "      <th>type</th>\n",
              "      <td>0.0</td>\n",
              "    </tr>\n",
              "    <tr>\n",
              "      <th>label_bias</th>\n",
              "      <td>0.0</td>\n",
              "    </tr>\n",
              "    <tr>\n",
              "      <th>label_opinion</th>\n",
              "      <td>0.0</td>\n",
              "    </tr>\n",
              "    <tr>\n",
              "      <th>biased_words</th>\n",
              "      <td>0.0</td>\n",
              "    </tr>\n",
              "  </tbody>\n",
              "</table>\n",
              "</div><br><label><b>dtype:</b> float64</label>"
            ]
          },
          "metadata": {}
        }
      ],
      "source": [
        "# Check for missing values in the DataFrame as a percentage\n",
        "display(data.isna().sum()/len(data))"
      ]
    },
    {
      "cell_type": "code",
      "execution_count": 17,
      "id": "81246efe",
      "metadata": {
        "id": "81246efe"
      },
      "outputs": [],
      "source": [
        "# Cleaning the text data in the 'text' column\n",
        "# Define a function to clean the text data\n",
        "def clear_text(text):\n",
        "    text = text.lower()\n",
        "    text = re.sub(r\"http\\S+\", \"\", text)\n",
        "    text = re.sub(r\"[^a-z\\s]\",\"\", text)\n",
        "    text = text.split()\n",
        "    return \" \".join(text)"
      ]
    },
    {
      "cell_type": "code",
      "execution_count": 18,
      "id": "f55422bf",
      "metadata": {
        "id": "f55422bf"
      },
      "outputs": [],
      "source": [
        "data['label_bias'] = data['label_bias'].str.lower()\n",
        "data['topic'] = data['topic'].str.replace('-', ' ').str.lower()"
      ]
    },
    {
      "cell_type": "code",
      "execution_count": 19,
      "id": "dIj8PjWZMvFO",
      "metadata": {
        "id": "dIj8PjWZMvFO"
      },
      "outputs": [],
      "source": [
        "data['biased_words'] = data['biased_words'].str.replace(r\"[\\[\\]']\", \"\", regex=True).str.replace(\",\", \" \").str.strip()"
      ]
    },
    {
      "cell_type": "code",
      "source": [
        "data.columns"
      ],
      "metadata": {
        "colab": {
          "base_uri": "https://localhost:8080/"
        },
        "id": "RhCLXUgU4aEF",
        "outputId": "35b7aac7-4142-4405-e54e-eba8a88bd750"
      },
      "id": "RhCLXUgU4aEF",
      "execution_count": 20,
      "outputs": [
        {
          "output_type": "execute_result",
          "data": {
            "text/plain": [
              "Index(['text', 'news_link', 'outlet', 'topic', 'type', 'label_bias',\n",
              "       'label_opinion', 'biased_words'],\n",
              "      dtype='object')"
            ]
          },
          "metadata": {},
          "execution_count": 20
        }
      ]
    },
    {
      "cell_type": "code",
      "execution_count": 21,
      "id": "abffc4ea",
      "metadata": {
        "colab": {
          "base_uri": "https://localhost:8080/",
          "height": 379
        },
        "id": "abffc4ea",
        "outputId": "cff1fc20-4df7-4d94-984d-fa6d02189137"
      },
      "outputs": [
        {
          "output_type": "display_data",
          "data": {
            "text/plain": [
              "                                              news_link     outlet  \\\n",
              "2599  https://www.breitbart.com/politics/2019/02/21/...  Breitbart   \n",
              "769   https://www.nbcnews.com/news/us-news/cbp-says-...      MSNBC   \n",
              "1467  https://www.reuters.com/article/us-health-chil...    Reuters   \n",
              "3426  https://www.breitbart.com/sports/2020/02/22/uf...  Breitbart   \n",
              "2477  https://www.huffpost.com/entry/bank-fees-high-...   HuffPost   \n",
              "\n",
              "             topic    type  label_bias                          label_opinion  \\\n",
              "2599        gender   right      biased             Expresses writer’s opinion   \n",
              "769    immigration    left  non-biased                       Entirely factual   \n",
              "1467   gun control  center  non-biased                       Entirely factual   \n",
              "3426         sport   right      biased             Expresses writer’s opinion   \n",
              "2477  student debt    left      biased  Somewhat factual but also opinionated   \n",
              "\n",
              "         biased_words                                         clean_text  \n",
              "2599  claim  declares  the declaration that a mans penis becomes a fe...  \n",
              "769                    critics of the trump administrations immigrati...  \n",
              "1467                   irearms kill almost american youngsters each y...  \n",
              "3426         terrible  ufc middleweight champion israel adesanyas com...  \n",
              "2477  fee  harvesting  that meant anyone walking into a branch with a...  "
            ],
            "text/html": [
              "\n",
              "  <div id=\"df-9f89cb03-5a5c-4368-bd0d-6ca957c91696\" class=\"colab-df-container\">\n",
              "    <div>\n",
              "<style scoped>\n",
              "    .dataframe tbody tr th:only-of-type {\n",
              "        vertical-align: middle;\n",
              "    }\n",
              "\n",
              "    .dataframe tbody tr th {\n",
              "        vertical-align: top;\n",
              "    }\n",
              "\n",
              "    .dataframe thead th {\n",
              "        text-align: right;\n",
              "    }\n",
              "</style>\n",
              "<table border=\"1\" class=\"dataframe\">\n",
              "  <thead>\n",
              "    <tr style=\"text-align: right;\">\n",
              "      <th></th>\n",
              "      <th>news_link</th>\n",
              "      <th>outlet</th>\n",
              "      <th>topic</th>\n",
              "      <th>type</th>\n",
              "      <th>label_bias</th>\n",
              "      <th>label_opinion</th>\n",
              "      <th>biased_words</th>\n",
              "      <th>clean_text</th>\n",
              "    </tr>\n",
              "  </thead>\n",
              "  <tbody>\n",
              "    <tr>\n",
              "      <th>2599</th>\n",
              "      <td>https://www.breitbart.com/politics/2019/02/21/...</td>\n",
              "      <td>Breitbart</td>\n",
              "      <td>gender</td>\n",
              "      <td>right</td>\n",
              "      <td>biased</td>\n",
              "      <td>Expresses writer’s opinion</td>\n",
              "      <td>claim  declares</td>\n",
              "      <td>the declaration that a mans penis becomes a fe...</td>\n",
              "    </tr>\n",
              "    <tr>\n",
              "      <th>769</th>\n",
              "      <td>https://www.nbcnews.com/news/us-news/cbp-says-...</td>\n",
              "      <td>MSNBC</td>\n",
              "      <td>immigration</td>\n",
              "      <td>left</td>\n",
              "      <td>non-biased</td>\n",
              "      <td>Entirely factual</td>\n",
              "      <td></td>\n",
              "      <td>critics of the trump administrations immigrati...</td>\n",
              "    </tr>\n",
              "    <tr>\n",
              "      <th>1467</th>\n",
              "      <td>https://www.reuters.com/article/us-health-chil...</td>\n",
              "      <td>Reuters</td>\n",
              "      <td>gun control</td>\n",
              "      <td>center</td>\n",
              "      <td>non-biased</td>\n",
              "      <td>Entirely factual</td>\n",
              "      <td></td>\n",
              "      <td>irearms kill almost american youngsters each y...</td>\n",
              "    </tr>\n",
              "    <tr>\n",
              "      <th>3426</th>\n",
              "      <td>https://www.breitbart.com/sports/2020/02/22/uf...</td>\n",
              "      <td>Breitbart</td>\n",
              "      <td>sport</td>\n",
              "      <td>right</td>\n",
              "      <td>biased</td>\n",
              "      <td>Expresses writer’s opinion</td>\n",
              "      <td>terrible</td>\n",
              "      <td>ufc middleweight champion israel adesanyas com...</td>\n",
              "    </tr>\n",
              "    <tr>\n",
              "      <th>2477</th>\n",
              "      <td>https://www.huffpost.com/entry/bank-fees-high-...</td>\n",
              "      <td>HuffPost</td>\n",
              "      <td>student debt</td>\n",
              "      <td>left</td>\n",
              "      <td>biased</td>\n",
              "      <td>Somewhat factual but also opinionated</td>\n",
              "      <td>fee  harvesting</td>\n",
              "      <td>that meant anyone walking into a branch with a...</td>\n",
              "    </tr>\n",
              "  </tbody>\n",
              "</table>\n",
              "</div>\n",
              "    <div class=\"colab-df-buttons\">\n",
              "\n",
              "  <div class=\"colab-df-container\">\n",
              "    <button class=\"colab-df-convert\" onclick=\"convertToInteractive('df-9f89cb03-5a5c-4368-bd0d-6ca957c91696')\"\n",
              "            title=\"Convert this dataframe to an interactive table.\"\n",
              "            style=\"display:none;\">\n",
              "\n",
              "  <svg xmlns=\"http://www.w3.org/2000/svg\" height=\"24px\" viewBox=\"0 -960 960 960\">\n",
              "    <path d=\"M120-120v-720h720v720H120Zm60-500h600v-160H180v160Zm220 220h160v-160H400v160Zm0 220h160v-160H400v160ZM180-400h160v-160H180v160Zm440 0h160v-160H620v160ZM180-180h160v-160H180v160Zm440 0h160v-160H620v160Z\"/>\n",
              "  </svg>\n",
              "    </button>\n",
              "\n",
              "  <style>\n",
              "    .colab-df-container {\n",
              "      display:flex;\n",
              "      gap: 12px;\n",
              "    }\n",
              "\n",
              "    .colab-df-convert {\n",
              "      background-color: #E8F0FE;\n",
              "      border: none;\n",
              "      border-radius: 50%;\n",
              "      cursor: pointer;\n",
              "      display: none;\n",
              "      fill: #1967D2;\n",
              "      height: 32px;\n",
              "      padding: 0 0 0 0;\n",
              "      width: 32px;\n",
              "    }\n",
              "\n",
              "    .colab-df-convert:hover {\n",
              "      background-color: #E2EBFA;\n",
              "      box-shadow: 0px 1px 2px rgba(60, 64, 67, 0.3), 0px 1px 3px 1px rgba(60, 64, 67, 0.15);\n",
              "      fill: #174EA6;\n",
              "    }\n",
              "\n",
              "    .colab-df-buttons div {\n",
              "      margin-bottom: 4px;\n",
              "    }\n",
              "\n",
              "    [theme=dark] .colab-df-convert {\n",
              "      background-color: #3B4455;\n",
              "      fill: #D2E3FC;\n",
              "    }\n",
              "\n",
              "    [theme=dark] .colab-df-convert:hover {\n",
              "      background-color: #434B5C;\n",
              "      box-shadow: 0px 1px 3px 1px rgba(0, 0, 0, 0.15);\n",
              "      filter: drop-shadow(0px 1px 2px rgba(0, 0, 0, 0.3));\n",
              "      fill: #FFFFFF;\n",
              "    }\n",
              "  </style>\n",
              "\n",
              "    <script>\n",
              "      const buttonEl =\n",
              "        document.querySelector('#df-9f89cb03-5a5c-4368-bd0d-6ca957c91696 button.colab-df-convert');\n",
              "      buttonEl.style.display =\n",
              "        google.colab.kernel.accessAllowed ? 'block' : 'none';\n",
              "\n",
              "      async function convertToInteractive(key) {\n",
              "        const element = document.querySelector('#df-9f89cb03-5a5c-4368-bd0d-6ca957c91696');\n",
              "        const dataTable =\n",
              "          await google.colab.kernel.invokeFunction('convertToInteractive',\n",
              "                                                    [key], {});\n",
              "        if (!dataTable) return;\n",
              "\n",
              "        const docLinkHtml = 'Like what you see? Visit the ' +\n",
              "          '<a target=\"_blank\" href=https://colab.research.google.com/notebooks/data_table.ipynb>data table notebook</a>'\n",
              "          + ' to learn more about interactive tables.';\n",
              "        element.innerHTML = '';\n",
              "        dataTable['output_type'] = 'display_data';\n",
              "        await google.colab.output.renderOutput(dataTable, element);\n",
              "        const docLink = document.createElement('div');\n",
              "        docLink.innerHTML = docLinkHtml;\n",
              "        element.appendChild(docLink);\n",
              "      }\n",
              "    </script>\n",
              "  </div>\n",
              "\n",
              "\n",
              "    <div id=\"df-677eb3fc-9479-416c-868d-d6f9530b350c\">\n",
              "      <button class=\"colab-df-quickchart\" onclick=\"quickchart('df-677eb3fc-9479-416c-868d-d6f9530b350c')\"\n",
              "                title=\"Suggest charts\"\n",
              "                style=\"display:none;\">\n",
              "\n",
              "<svg xmlns=\"http://www.w3.org/2000/svg\" height=\"24px\"viewBox=\"0 0 24 24\"\n",
              "     width=\"24px\">\n",
              "    <g>\n",
              "        <path d=\"M19 3H5c-1.1 0-2 .9-2 2v14c0 1.1.9 2 2 2h14c1.1 0 2-.9 2-2V5c0-1.1-.9-2-2-2zM9 17H7v-7h2v7zm4 0h-2V7h2v10zm4 0h-2v-4h2v4z\"/>\n",
              "    </g>\n",
              "</svg>\n",
              "      </button>\n",
              "\n",
              "<style>\n",
              "  .colab-df-quickchart {\n",
              "      --bg-color: #E8F0FE;\n",
              "      --fill-color: #1967D2;\n",
              "      --hover-bg-color: #E2EBFA;\n",
              "      --hover-fill-color: #174EA6;\n",
              "      --disabled-fill-color: #AAA;\n",
              "      --disabled-bg-color: #DDD;\n",
              "  }\n",
              "\n",
              "  [theme=dark] .colab-df-quickchart {\n",
              "      --bg-color: #3B4455;\n",
              "      --fill-color: #D2E3FC;\n",
              "      --hover-bg-color: #434B5C;\n",
              "      --hover-fill-color: #FFFFFF;\n",
              "      --disabled-bg-color: #3B4455;\n",
              "      --disabled-fill-color: #666;\n",
              "  }\n",
              "\n",
              "  .colab-df-quickchart {\n",
              "    background-color: var(--bg-color);\n",
              "    border: none;\n",
              "    border-radius: 50%;\n",
              "    cursor: pointer;\n",
              "    display: none;\n",
              "    fill: var(--fill-color);\n",
              "    height: 32px;\n",
              "    padding: 0;\n",
              "    width: 32px;\n",
              "  }\n",
              "\n",
              "  .colab-df-quickchart:hover {\n",
              "    background-color: var(--hover-bg-color);\n",
              "    box-shadow: 0 1px 2px rgba(60, 64, 67, 0.3), 0 1px 3px 1px rgba(60, 64, 67, 0.15);\n",
              "    fill: var(--button-hover-fill-color);\n",
              "  }\n",
              "\n",
              "  .colab-df-quickchart-complete:disabled,\n",
              "  .colab-df-quickchart-complete:disabled:hover {\n",
              "    background-color: var(--disabled-bg-color);\n",
              "    fill: var(--disabled-fill-color);\n",
              "    box-shadow: none;\n",
              "  }\n",
              "\n",
              "  .colab-df-spinner {\n",
              "    border: 2px solid var(--fill-color);\n",
              "    border-color: transparent;\n",
              "    border-bottom-color: var(--fill-color);\n",
              "    animation:\n",
              "      spin 1s steps(1) infinite;\n",
              "  }\n",
              "\n",
              "  @keyframes spin {\n",
              "    0% {\n",
              "      border-color: transparent;\n",
              "      border-bottom-color: var(--fill-color);\n",
              "      border-left-color: var(--fill-color);\n",
              "    }\n",
              "    20% {\n",
              "      border-color: transparent;\n",
              "      border-left-color: var(--fill-color);\n",
              "      border-top-color: var(--fill-color);\n",
              "    }\n",
              "    30% {\n",
              "      border-color: transparent;\n",
              "      border-left-color: var(--fill-color);\n",
              "      border-top-color: var(--fill-color);\n",
              "      border-right-color: var(--fill-color);\n",
              "    }\n",
              "    40% {\n",
              "      border-color: transparent;\n",
              "      border-right-color: var(--fill-color);\n",
              "      border-top-color: var(--fill-color);\n",
              "    }\n",
              "    60% {\n",
              "      border-color: transparent;\n",
              "      border-right-color: var(--fill-color);\n",
              "    }\n",
              "    80% {\n",
              "      border-color: transparent;\n",
              "      border-right-color: var(--fill-color);\n",
              "      border-bottom-color: var(--fill-color);\n",
              "    }\n",
              "    90% {\n",
              "      border-color: transparent;\n",
              "      border-bottom-color: var(--fill-color);\n",
              "    }\n",
              "  }\n",
              "</style>\n",
              "\n",
              "      <script>\n",
              "        async function quickchart(key) {\n",
              "          const quickchartButtonEl =\n",
              "            document.querySelector('#' + key + ' button');\n",
              "          quickchartButtonEl.disabled = true;  // To prevent multiple clicks.\n",
              "          quickchartButtonEl.classList.add('colab-df-spinner');\n",
              "          try {\n",
              "            const charts = await google.colab.kernel.invokeFunction(\n",
              "                'suggestCharts', [key], {});\n",
              "          } catch (error) {\n",
              "            console.error('Error during call to suggestCharts:', error);\n",
              "          }\n",
              "          quickchartButtonEl.classList.remove('colab-df-spinner');\n",
              "          quickchartButtonEl.classList.add('colab-df-quickchart-complete');\n",
              "        }\n",
              "        (() => {\n",
              "          let quickchartButtonEl =\n",
              "            document.querySelector('#df-677eb3fc-9479-416c-868d-d6f9530b350c button');\n",
              "          quickchartButtonEl.style.display =\n",
              "            google.colab.kernel.accessAllowed ? 'block' : 'none';\n",
              "        })();\n",
              "      </script>\n",
              "    </div>\n",
              "\n",
              "    </div>\n",
              "  </div>\n"
            ],
            "application/vnd.google.colaboratory.intrinsic+json": {
              "type": "dataframe",
              "summary": "{\n  \"name\": \"display(data\",\n  \"rows\": 5,\n  \"fields\": [\n    {\n      \"column\": \"news_link\",\n      \"properties\": {\n        \"dtype\": \"string\",\n        \"num_unique_values\": 5,\n        \"samples\": [\n          \"https://www.nbcnews.com/news/us-news/cbp-says-u-s-mexico-border-apprehensions-continue-decline-n1113011?cid=public-rss_20200109\",\n          \"https://www.huffpost.com/entry/bank-fees-high-cost-low-income_l_5c5ccfd9e4b03afe8d65f468\",\n          \"https://www.reuters.com/article/us-health-children-gun-casualties/nearly-1300-u-s-kids-die-from-gunshot-wounds-each-year-idUSKBN19A2HF\"\n        ],\n        \"semantic_type\": \"\",\n        \"description\": \"\"\n      }\n    },\n    {\n      \"column\": \"outlet\",\n      \"properties\": {\n        \"dtype\": \"string\",\n        \"num_unique_values\": 4,\n        \"samples\": [\n          \"MSNBC\",\n          \"HuffPost\",\n          \"Breitbart\"\n        ],\n        \"semantic_type\": \"\",\n        \"description\": \"\"\n      }\n    },\n    {\n      \"column\": \"topic\",\n      \"properties\": {\n        \"dtype\": \"string\",\n        \"num_unique_values\": 5,\n        \"samples\": [\n          \"immigration\",\n          \"student debt\",\n          \"gun control\"\n        ],\n        \"semantic_type\": \"\",\n        \"description\": \"\"\n      }\n    },\n    {\n      \"column\": \"type\",\n      \"properties\": {\n        \"dtype\": \"string\",\n        \"num_unique_values\": 3,\n        \"samples\": [\n          \"right\",\n          \"left\",\n          \"center\"\n        ],\n        \"semantic_type\": \"\",\n        \"description\": \"\"\n      }\n    },\n    {\n      \"column\": \"label_bias\",\n      \"properties\": {\n        \"dtype\": \"category\",\n        \"num_unique_values\": 2,\n        \"samples\": [\n          \"non-biased\",\n          \"biased\"\n        ],\n        \"semantic_type\": \"\",\n        \"description\": \"\"\n      }\n    },\n    {\n      \"column\": \"label_opinion\",\n      \"properties\": {\n        \"dtype\": \"string\",\n        \"num_unique_values\": 3,\n        \"samples\": [\n          \"Expresses writer\\u2019s opinion\",\n          \"Entirely factual\"\n        ],\n        \"semantic_type\": \"\",\n        \"description\": \"\"\n      }\n    },\n    {\n      \"column\": \"biased_words\",\n      \"properties\": {\n        \"dtype\": \"string\",\n        \"num_unique_values\": 4,\n        \"samples\": [\n          \"\",\n          \"fee  harvesting\"\n        ],\n        \"semantic_type\": \"\",\n        \"description\": \"\"\n      }\n    },\n    {\n      \"column\": \"clean_text\",\n      \"properties\": {\n        \"dtype\": \"string\",\n        \"num_unique_values\": 5,\n        \"samples\": [\n          \"critics of the trump administrations immigration policies have said such policies violate migrants rights and further endanger them by making them wait in dangerous border towns or in one of the most violent countries in the world lacking robust asylum systems\",\n          \"that meant anyone walking into a branch with a certain level of assets instantly became a target for multiple offers customers with lower incomes were less of a priority increasingly treated as little more than a source of fee harvesting\"\n        ],\n        \"semantic_type\": \"\",\n        \"description\": \"\"\n      }\n    }\n  ]\n}"
            }
          },
          "metadata": {}
        }
      ],
      "source": [
        "# Apply the clear_text function to the 'comment_text' column\n",
        "data['clean_text'] = data['text'].astype(str).apply(clear_text)\n",
        "data= data.drop(columns=['text'])\n",
        "\n",
        "# Display the first 5 rows of the comments DataFrame after cleaning\n",
        "display(data.sample(5))\n"
      ]
    },
    {
      "cell_type": "code",
      "execution_count": 22,
      "id": "41b0b8c2",
      "metadata": {
        "colab": {
          "base_uri": "https://localhost:8080/"
        },
        "id": "41b0b8c2",
        "outputId": "aaa6d770-807f-4cdb-cdee-1cdb40c07259"
      },
      "outputs": [
        {
          "output_type": "stream",
          "name": "stdout",
          "text": [
            "0\n"
          ]
        }
      ],
      "source": [
        "# Check for missing values\n",
        "print(data['clean_text'].isna().sum())"
      ]
    },
    {
      "cell_type": "code",
      "execution_count": 23,
      "id": "9744ad9d",
      "metadata": {
        "colab": {
          "base_uri": "https://localhost:8080/"
        },
        "id": "9744ad9d",
        "outputId": "91ac26f2-284f-421a-c51b-b4fb6ac81cf9"
      },
      "outputs": [
        {
          "output_type": "stream",
          "name": "stdout",
          "text": [
            "<class 'pandas.core.frame.DataFrame'>\n",
            "Index: 2644 entries, 0 to 3673\n",
            "Data columns (total 8 columns):\n",
            " #   Column         Non-Null Count  Dtype \n",
            "---  ------         --------------  ----- \n",
            " 0   news_link      2644 non-null   object\n",
            " 1   outlet         2644 non-null   object\n",
            " 2   topic          2644 non-null   object\n",
            " 3   type           2644 non-null   object\n",
            " 4   label_bias     2644 non-null   object\n",
            " 5   label_opinion  2644 non-null   object\n",
            " 6   biased_words   2644 non-null   object\n",
            " 7   clean_text     2644 non-null   object\n",
            "dtypes: object(8)\n",
            "memory usage: 185.9+ KB\n"
          ]
        }
      ],
      "source": [
        "data.info()"
      ]
    },
    {
      "cell_type": "code",
      "execution_count": 24,
      "id": "OGpGB3ewv4dR",
      "metadata": {
        "colab": {
          "base_uri": "https://localhost:8080/"
        },
        "id": "OGpGB3ewv4dR",
        "outputId": "ac5de614-a119-4e62-9319-110a5b0349f3"
      },
      "outputs": [
        {
          "output_type": "stream",
          "name": "stderr",
          "text": [
            "[nltk_data] Downloading package stopwords to /root/nltk_data...\n",
            "[nltk_data]   Unzipping corpora/stopwords.zip.\n"
          ]
        },
        {
          "output_type": "execute_result",
          "data": {
            "text/plain": [
              "True"
            ]
          },
          "metadata": {},
          "execution_count": 24
        }
      ],
      "source": [
        "  >>> import nltk\n",
        "  >>> nltk.download('stopwords')"
      ]
    },
    {
      "cell_type": "code",
      "execution_count": 25,
      "id": "16c8b8ae",
      "metadata": {
        "id": "16c8b8ae"
      },
      "outputs": [],
      "source": [
        "## Set of English stop words\n",
        "stop_words =  set(stopwords.words('english'))"
      ]
    },
    {
      "cell_type": "code",
      "execution_count": 26,
      "id": "f458c7dc",
      "metadata": {
        "id": "f458c7dc"
      },
      "outputs": [],
      "source": [
        "# Initialize the lemmatizer\n",
        "lemmatizer = WordNetLemmatizer()\n",
        "\n",
        "def lemmatize(text):\n",
        "    tokens = word_tokenize(text.lower())\n",
        "    tokens = [token for token in tokens if token not in stop_words]\n",
        "    lemmas = [lemmatizer.lemmatize(token) for token in tokens]\n",
        "    return \" \".join(lemmas)"
      ]
    },
    {
      "cell_type": "code",
      "execution_count": 27,
      "id": "J_JAKJo8v949",
      "metadata": {
        "colab": {
          "base_uri": "https://localhost:8080/"
        },
        "id": "J_JAKJo8v949",
        "outputId": "04b8bc3e-ab8d-418c-d023-0353c7d489d0"
      },
      "outputs": [
        {
          "output_type": "stream",
          "name": "stderr",
          "text": [
            "[nltk_data] Downloading package punkt_tab to /root/nltk_data...\n",
            "[nltk_data]   Unzipping tokenizers/punkt_tab.zip.\n",
            "[nltk_data] Downloading package wordnet to /root/nltk_data...\n"
          ]
        },
        {
          "output_type": "execute_result",
          "data": {
            "text/plain": [
              "True"
            ]
          },
          "metadata": {},
          "execution_count": 27
        }
      ],
      "source": [
        "\n",
        "  >>> import nltk\n",
        "  >>> nltk.download('punkt_tab')\n",
        "\n",
        "\n",
        "  >>> import nltk\n",
        "  >>> nltk.download('wordnet')"
      ]
    },
    {
      "cell_type": "code",
      "execution_count": 28,
      "id": "57095114",
      "metadata": {
        "id": "57095114"
      },
      "outputs": [],
      "source": [
        "# Apply the clear_text function to the 'comment_text' column\n",
        "data['lemmatize_text'] = data['clean_text'].apply(lemmatize)"
      ]
    },
    {
      "cell_type": "code",
      "execution_count": 29,
      "id": "e568e71b",
      "metadata": {
        "colab": {
          "base_uri": "https://localhost:8080/",
          "height": 676
        },
        "id": "e568e71b",
        "outputId": "0ba85f52-975b-4db4-b1fe-627ec33e2e57"
      },
      "outputs": [
        {
          "output_type": "display_data",
          "data": {
            "text/plain": [
              "                                           clean_text  \\\n",
              "0   orange is the new black star yael stone is ren...   \n",
              "1   we have one beautiful law trump recently said ...   \n",
              "2   immigrants as criminals and eugenics all of wh...   \n",
              "3   we sounded the alarm in the early months of tr...   \n",
              "9   a new low washington post media critic blows u...   \n",
              "10  gangster capitalist trump is running a mafia s...   \n",
              "11  the most progressive president since fdr biden...   \n",
              "18  the goal is to send a message of peace the yea...   \n",
              "20  you know theres over million people with preex...   \n",
              "21  people were arrested for offences including as...   \n",
              "22  a hour hearing broadcast on the courts website...   \n",
              "23  a time nba all star who is considered one of t...   \n",
              "25  a foot chunk of the ocean cleanup device deplo...   \n",
              "26  a majority of americans view the economy as un...   \n",
              "31  a bill proposed by a group of republican lawma...   \n",
              "33  a black man shot in the back by police in keno...   \n",
              "34  a black man who was stopped on his bicycle for...   \n",
              "35  a black man floyd died in police custody may a...   \n",
              "36  a black policewoman was injured and at least f...   \n",
              "37  a bold statement wednesday from former secreta...   \n",
              "\n",
              "                                       lemmatize_text  \n",
              "0   orange new black star yael stone renouncing u ...  \n",
              "1   one beautiful law trump recently said characte...  \n",
              "2   immigrant criminal eugenics considered fringe ...  \n",
              "3   sounded alarm early month trump presidency pri...  \n",
              "9   new low washington post medium critic blow tuc...  \n",
              "10  gangster capitalist trump running mafia state ...  \n",
              "11  progressive president since fdr bidens policy ...  \n",
              "18  goal send message peace yearold claimed insist...  \n",
              "20  know there million people preexisting conditio...  \n",
              "21  people arrested offence including assaulting p...  \n",
              "22  hour hearing broadcast court website showed su...  \n",
              "23  time nba star considered one greatest basketba...  \n",
              "25  foot chunk ocean cleanup device deployed much ...  \n",
              "26  majority american view economy unfairly favori...  \n",
              "31  bill proposed group republican lawmaker wednes...  \n",
              "33  black man shot back police kenosha wisconsin l...  \n",
              "34  black man stopped bicycle alleged vehicle code...  \n",
              "35  black man floyd died police custody may minnea...  \n",
              "36  black policewoman injured least four people st...  \n",
              "37  bold statement wednesday former secretary defe...  "
            ],
            "text/html": [
              "\n",
              "  <div id=\"df-d01eafd2-b063-4597-bef3-32928e192e6e\" class=\"colab-df-container\">\n",
              "    <div>\n",
              "<style scoped>\n",
              "    .dataframe tbody tr th:only-of-type {\n",
              "        vertical-align: middle;\n",
              "    }\n",
              "\n",
              "    .dataframe tbody tr th {\n",
              "        vertical-align: top;\n",
              "    }\n",
              "\n",
              "    .dataframe thead th {\n",
              "        text-align: right;\n",
              "    }\n",
              "</style>\n",
              "<table border=\"1\" class=\"dataframe\">\n",
              "  <thead>\n",
              "    <tr style=\"text-align: right;\">\n",
              "      <th></th>\n",
              "      <th>clean_text</th>\n",
              "      <th>lemmatize_text</th>\n",
              "    </tr>\n",
              "  </thead>\n",
              "  <tbody>\n",
              "    <tr>\n",
              "      <th>0</th>\n",
              "      <td>orange is the new black star yael stone is ren...</td>\n",
              "      <td>orange new black star yael stone renouncing u ...</td>\n",
              "    </tr>\n",
              "    <tr>\n",
              "      <th>1</th>\n",
              "      <td>we have one beautiful law trump recently said ...</td>\n",
              "      <td>one beautiful law trump recently said characte...</td>\n",
              "    </tr>\n",
              "    <tr>\n",
              "      <th>2</th>\n",
              "      <td>immigrants as criminals and eugenics all of wh...</td>\n",
              "      <td>immigrant criminal eugenics considered fringe ...</td>\n",
              "    </tr>\n",
              "    <tr>\n",
              "      <th>3</th>\n",
              "      <td>we sounded the alarm in the early months of tr...</td>\n",
              "      <td>sounded alarm early month trump presidency pri...</td>\n",
              "    </tr>\n",
              "    <tr>\n",
              "      <th>9</th>\n",
              "      <td>a new low washington post media critic blows u...</td>\n",
              "      <td>new low washington post medium critic blow tuc...</td>\n",
              "    </tr>\n",
              "    <tr>\n",
              "      <th>10</th>\n",
              "      <td>gangster capitalist trump is running a mafia s...</td>\n",
              "      <td>gangster capitalist trump running mafia state ...</td>\n",
              "    </tr>\n",
              "    <tr>\n",
              "      <th>11</th>\n",
              "      <td>the most progressive president since fdr biden...</td>\n",
              "      <td>progressive president since fdr bidens policy ...</td>\n",
              "    </tr>\n",
              "    <tr>\n",
              "      <th>18</th>\n",
              "      <td>the goal is to send a message of peace the yea...</td>\n",
              "      <td>goal send message peace yearold claimed insist...</td>\n",
              "    </tr>\n",
              "    <tr>\n",
              "      <th>20</th>\n",
              "      <td>you know theres over million people with preex...</td>\n",
              "      <td>know there million people preexisting conditio...</td>\n",
              "    </tr>\n",
              "    <tr>\n",
              "      <th>21</th>\n",
              "      <td>people were arrested for offences including as...</td>\n",
              "      <td>people arrested offence including assaulting p...</td>\n",
              "    </tr>\n",
              "    <tr>\n",
              "      <th>22</th>\n",
              "      <td>a hour hearing broadcast on the courts website...</td>\n",
              "      <td>hour hearing broadcast court website showed su...</td>\n",
              "    </tr>\n",
              "    <tr>\n",
              "      <th>23</th>\n",
              "      <td>a time nba all star who is considered one of t...</td>\n",
              "      <td>time nba star considered one greatest basketba...</td>\n",
              "    </tr>\n",
              "    <tr>\n",
              "      <th>25</th>\n",
              "      <td>a foot chunk of the ocean cleanup device deplo...</td>\n",
              "      <td>foot chunk ocean cleanup device deployed much ...</td>\n",
              "    </tr>\n",
              "    <tr>\n",
              "      <th>26</th>\n",
              "      <td>a majority of americans view the economy as un...</td>\n",
              "      <td>majority american view economy unfairly favori...</td>\n",
              "    </tr>\n",
              "    <tr>\n",
              "      <th>31</th>\n",
              "      <td>a bill proposed by a group of republican lawma...</td>\n",
              "      <td>bill proposed group republican lawmaker wednes...</td>\n",
              "    </tr>\n",
              "    <tr>\n",
              "      <th>33</th>\n",
              "      <td>a black man shot in the back by police in keno...</td>\n",
              "      <td>black man shot back police kenosha wisconsin l...</td>\n",
              "    </tr>\n",
              "    <tr>\n",
              "      <th>34</th>\n",
              "      <td>a black man who was stopped on his bicycle for...</td>\n",
              "      <td>black man stopped bicycle alleged vehicle code...</td>\n",
              "    </tr>\n",
              "    <tr>\n",
              "      <th>35</th>\n",
              "      <td>a black man floyd died in police custody may a...</td>\n",
              "      <td>black man floyd died police custody may minnea...</td>\n",
              "    </tr>\n",
              "    <tr>\n",
              "      <th>36</th>\n",
              "      <td>a black policewoman was injured and at least f...</td>\n",
              "      <td>black policewoman injured least four people st...</td>\n",
              "    </tr>\n",
              "    <tr>\n",
              "      <th>37</th>\n",
              "      <td>a bold statement wednesday from former secreta...</td>\n",
              "      <td>bold statement wednesday former secretary defe...</td>\n",
              "    </tr>\n",
              "  </tbody>\n",
              "</table>\n",
              "</div>\n",
              "    <div class=\"colab-df-buttons\">\n",
              "\n",
              "  <div class=\"colab-df-container\">\n",
              "    <button class=\"colab-df-convert\" onclick=\"convertToInteractive('df-d01eafd2-b063-4597-bef3-32928e192e6e')\"\n",
              "            title=\"Convert this dataframe to an interactive table.\"\n",
              "            style=\"display:none;\">\n",
              "\n",
              "  <svg xmlns=\"http://www.w3.org/2000/svg\" height=\"24px\" viewBox=\"0 -960 960 960\">\n",
              "    <path d=\"M120-120v-720h720v720H120Zm60-500h600v-160H180v160Zm220 220h160v-160H400v160Zm0 220h160v-160H400v160ZM180-400h160v-160H180v160Zm440 0h160v-160H620v160ZM180-180h160v-160H180v160Zm440 0h160v-160H620v160Z\"/>\n",
              "  </svg>\n",
              "    </button>\n",
              "\n",
              "  <style>\n",
              "    .colab-df-container {\n",
              "      display:flex;\n",
              "      gap: 12px;\n",
              "    }\n",
              "\n",
              "    .colab-df-convert {\n",
              "      background-color: #E8F0FE;\n",
              "      border: none;\n",
              "      border-radius: 50%;\n",
              "      cursor: pointer;\n",
              "      display: none;\n",
              "      fill: #1967D2;\n",
              "      height: 32px;\n",
              "      padding: 0 0 0 0;\n",
              "      width: 32px;\n",
              "    }\n",
              "\n",
              "    .colab-df-convert:hover {\n",
              "      background-color: #E2EBFA;\n",
              "      box-shadow: 0px 1px 2px rgba(60, 64, 67, 0.3), 0px 1px 3px 1px rgba(60, 64, 67, 0.15);\n",
              "      fill: #174EA6;\n",
              "    }\n",
              "\n",
              "    .colab-df-buttons div {\n",
              "      margin-bottom: 4px;\n",
              "    }\n",
              "\n",
              "    [theme=dark] .colab-df-convert {\n",
              "      background-color: #3B4455;\n",
              "      fill: #D2E3FC;\n",
              "    }\n",
              "\n",
              "    [theme=dark] .colab-df-convert:hover {\n",
              "      background-color: #434B5C;\n",
              "      box-shadow: 0px 1px 3px 1px rgba(0, 0, 0, 0.15);\n",
              "      filter: drop-shadow(0px 1px 2px rgba(0, 0, 0, 0.3));\n",
              "      fill: #FFFFFF;\n",
              "    }\n",
              "  </style>\n",
              "\n",
              "    <script>\n",
              "      const buttonEl =\n",
              "        document.querySelector('#df-d01eafd2-b063-4597-bef3-32928e192e6e button.colab-df-convert');\n",
              "      buttonEl.style.display =\n",
              "        google.colab.kernel.accessAllowed ? 'block' : 'none';\n",
              "\n",
              "      async function convertToInteractive(key) {\n",
              "        const element = document.querySelector('#df-d01eafd2-b063-4597-bef3-32928e192e6e');\n",
              "        const dataTable =\n",
              "          await google.colab.kernel.invokeFunction('convertToInteractive',\n",
              "                                                    [key], {});\n",
              "        if (!dataTable) return;\n",
              "\n",
              "        const docLinkHtml = 'Like what you see? Visit the ' +\n",
              "          '<a target=\"_blank\" href=https://colab.research.google.com/notebooks/data_table.ipynb>data table notebook</a>'\n",
              "          + ' to learn more about interactive tables.';\n",
              "        element.innerHTML = '';\n",
              "        dataTable['output_type'] = 'display_data';\n",
              "        await google.colab.output.renderOutput(dataTable, element);\n",
              "        const docLink = document.createElement('div');\n",
              "        docLink.innerHTML = docLinkHtml;\n",
              "        element.appendChild(docLink);\n",
              "      }\n",
              "    </script>\n",
              "  </div>\n",
              "\n",
              "\n",
              "    <div id=\"df-0adbf7a9-71fc-45d3-9d3c-bb403fb06a60\">\n",
              "      <button class=\"colab-df-quickchart\" onclick=\"quickchart('df-0adbf7a9-71fc-45d3-9d3c-bb403fb06a60')\"\n",
              "                title=\"Suggest charts\"\n",
              "                style=\"display:none;\">\n",
              "\n",
              "<svg xmlns=\"http://www.w3.org/2000/svg\" height=\"24px\"viewBox=\"0 0 24 24\"\n",
              "     width=\"24px\">\n",
              "    <g>\n",
              "        <path d=\"M19 3H5c-1.1 0-2 .9-2 2v14c0 1.1.9 2 2 2h14c1.1 0 2-.9 2-2V5c0-1.1-.9-2-2-2zM9 17H7v-7h2v7zm4 0h-2V7h2v10zm4 0h-2v-4h2v4z\"/>\n",
              "    </g>\n",
              "</svg>\n",
              "      </button>\n",
              "\n",
              "<style>\n",
              "  .colab-df-quickchart {\n",
              "      --bg-color: #E8F0FE;\n",
              "      --fill-color: #1967D2;\n",
              "      --hover-bg-color: #E2EBFA;\n",
              "      --hover-fill-color: #174EA6;\n",
              "      --disabled-fill-color: #AAA;\n",
              "      --disabled-bg-color: #DDD;\n",
              "  }\n",
              "\n",
              "  [theme=dark] .colab-df-quickchart {\n",
              "      --bg-color: #3B4455;\n",
              "      --fill-color: #D2E3FC;\n",
              "      --hover-bg-color: #434B5C;\n",
              "      --hover-fill-color: #FFFFFF;\n",
              "      --disabled-bg-color: #3B4455;\n",
              "      --disabled-fill-color: #666;\n",
              "  }\n",
              "\n",
              "  .colab-df-quickchart {\n",
              "    background-color: var(--bg-color);\n",
              "    border: none;\n",
              "    border-radius: 50%;\n",
              "    cursor: pointer;\n",
              "    display: none;\n",
              "    fill: var(--fill-color);\n",
              "    height: 32px;\n",
              "    padding: 0;\n",
              "    width: 32px;\n",
              "  }\n",
              "\n",
              "  .colab-df-quickchart:hover {\n",
              "    background-color: var(--hover-bg-color);\n",
              "    box-shadow: 0 1px 2px rgba(60, 64, 67, 0.3), 0 1px 3px 1px rgba(60, 64, 67, 0.15);\n",
              "    fill: var(--button-hover-fill-color);\n",
              "  }\n",
              "\n",
              "  .colab-df-quickchart-complete:disabled,\n",
              "  .colab-df-quickchart-complete:disabled:hover {\n",
              "    background-color: var(--disabled-bg-color);\n",
              "    fill: var(--disabled-fill-color);\n",
              "    box-shadow: none;\n",
              "  }\n",
              "\n",
              "  .colab-df-spinner {\n",
              "    border: 2px solid var(--fill-color);\n",
              "    border-color: transparent;\n",
              "    border-bottom-color: var(--fill-color);\n",
              "    animation:\n",
              "      spin 1s steps(1) infinite;\n",
              "  }\n",
              "\n",
              "  @keyframes spin {\n",
              "    0% {\n",
              "      border-color: transparent;\n",
              "      border-bottom-color: var(--fill-color);\n",
              "      border-left-color: var(--fill-color);\n",
              "    }\n",
              "    20% {\n",
              "      border-color: transparent;\n",
              "      border-left-color: var(--fill-color);\n",
              "      border-top-color: var(--fill-color);\n",
              "    }\n",
              "    30% {\n",
              "      border-color: transparent;\n",
              "      border-left-color: var(--fill-color);\n",
              "      border-top-color: var(--fill-color);\n",
              "      border-right-color: var(--fill-color);\n",
              "    }\n",
              "    40% {\n",
              "      border-color: transparent;\n",
              "      border-right-color: var(--fill-color);\n",
              "      border-top-color: var(--fill-color);\n",
              "    }\n",
              "    60% {\n",
              "      border-color: transparent;\n",
              "      border-right-color: var(--fill-color);\n",
              "    }\n",
              "    80% {\n",
              "      border-color: transparent;\n",
              "      border-right-color: var(--fill-color);\n",
              "      border-bottom-color: var(--fill-color);\n",
              "    }\n",
              "    90% {\n",
              "      border-color: transparent;\n",
              "      border-bottom-color: var(--fill-color);\n",
              "    }\n",
              "  }\n",
              "</style>\n",
              "\n",
              "      <script>\n",
              "        async function quickchart(key) {\n",
              "          const quickchartButtonEl =\n",
              "            document.querySelector('#' + key + ' button');\n",
              "          quickchartButtonEl.disabled = true;  // To prevent multiple clicks.\n",
              "          quickchartButtonEl.classList.add('colab-df-spinner');\n",
              "          try {\n",
              "            const charts = await google.colab.kernel.invokeFunction(\n",
              "                'suggestCharts', [key], {});\n",
              "          } catch (error) {\n",
              "            console.error('Error during call to suggestCharts:', error);\n",
              "          }\n",
              "          quickchartButtonEl.classList.remove('colab-df-spinner');\n",
              "          quickchartButtonEl.classList.add('colab-df-quickchart-complete');\n",
              "        }\n",
              "        (() => {\n",
              "          let quickchartButtonEl =\n",
              "            document.querySelector('#df-0adbf7a9-71fc-45d3-9d3c-bb403fb06a60 button');\n",
              "          quickchartButtonEl.style.display =\n",
              "            google.colab.kernel.accessAllowed ? 'block' : 'none';\n",
              "        })();\n",
              "      </script>\n",
              "    </div>\n",
              "\n",
              "    </div>\n",
              "  </div>\n"
            ],
            "application/vnd.google.colaboratory.intrinsic+json": {
              "type": "dataframe",
              "summary": "{\n  \"name\": \"display(data[['clean_text', 'lemmatize_text']]\",\n  \"rows\": 20,\n  \"fields\": [\n    {\n      \"column\": \"clean_text\",\n      \"properties\": {\n        \"dtype\": \"string\",\n        \"num_unique_values\": 20,\n        \"samples\": [\n          \"orange is the new black star yael stone is renouncing her us green card to return to her native australia in order to fight climate change\",\n          \"a black man floyd died in police custody may after a minneapolis cop kneeled on his neck for more than eight minutes\",\n          \"a black man shot in the back by police in kenosha wisconsin was left paralyzed and fighting for his life his family and lawyers said on tuesday hours before protesters and authorities clashed for a third night of civil unrest in the lakefront town\"\n        ],\n        \"semantic_type\": \"\",\n        \"description\": \"\"\n      }\n    },\n    {\n      \"column\": \"lemmatize_text\",\n      \"properties\": {\n        \"dtype\": \"string\",\n        \"num_unique_values\": 20,\n        \"samples\": [\n          \"orange new black star yael stone renouncing u green card return native australia order fight climate change\",\n          \"black man floyd died police custody may minneapolis cop kneeled neck eight minute\",\n          \"black man shot back police kenosha wisconsin left paralyzed fighting life family lawyer said tuesday hour protester authority clashed third night civil unrest lakefront town\"\n        ],\n        \"semantic_type\": \"\",\n        \"description\": \"\"\n      }\n    }\n  ]\n}"
            }
          },
          "metadata": {}
        }
      ],
      "source": [
        "# Display the first rows of the comments DataFrame after cleaning\n",
        "display(data[['clean_text', 'lemmatize_text']].head(20))"
      ]
    },
    {
      "cell_type": "code",
      "execution_count": 30,
      "id": "5d425285",
      "metadata": {
        "id": "5d425285"
      },
      "outputs": [],
      "source": [
        "# Added a new column to convert 'biased' to 1 and 'non-biased' to 0\n",
        "data['is_biased'] = data['label_bias'].apply(lambda x: 1 if x == 'biased' else 0)\n"
      ]
    },
    {
      "cell_type": "code",
      "execution_count": 31,
      "id": "a21dd12b",
      "metadata": {
        "colab": {
          "base_uri": "https://localhost:8080/",
          "height": 590
        },
        "id": "a21dd12b",
        "outputId": "60baf6e5-12dc-4492-826c-9b3ebae338aa"
      },
      "outputs": [
        {
          "output_type": "execute_result",
          "data": {
            "text/plain": [
              "                                           news_link    outlet  \\\n",
              "0  https://www.foxnews.com/entertainment/australi...  Fox News   \n",
              "1  https://www.alternet.org/2020/06/law-and-order...  Alternet   \n",
              "2  https://www.nbcnews.com/news/latino/after-step...     MSNBC   \n",
              "3  https://www.alternet.org/2019/07/fox-news-has-...  Alternet   \n",
              "9  https://www.alternet.org/2019/08/a-new-low-was...  Alternet   \n",
              "\n",
              "               topic   type  label_bias  \\\n",
              "0        environment  right  non-biased   \n",
              "1        gun control   left      biased   \n",
              "2  white nationalism   left      biased   \n",
              "3  white nationalism   left      biased   \n",
              "9  white nationalism   left      biased   \n",
              "\n",
              "                           label_opinion  \\\n",
              "0                       Entirely factual   \n",
              "1  Somewhat factual but also opinionated   \n",
              "2             Expresses writer’s opinion   \n",
              "3  Somewhat factual but also opinionated   \n",
              "9             Expresses writer’s opinion   \n",
              "\n",
              "                                  biased_words  \\\n",
              "0                                                \n",
              "1                  bizarre  characteristically   \n",
              "2                   criminals  fringe  extreme   \n",
              "3                                                \n",
              "9  blows  up  absurd  lies  nationalism  white   \n",
              "\n",
              "                                          clean_text  \\\n",
              "0  orange is the new black star yael stone is ren...   \n",
              "1  we have one beautiful law trump recently said ...   \n",
              "2  immigrants as criminals and eugenics all of wh...   \n",
              "3  we sounded the alarm in the early months of tr...   \n",
              "9  a new low washington post media critic blows u...   \n",
              "\n",
              "                                      lemmatize_text  is_biased  \n",
              "0  orange new black star yael stone renouncing u ...          0  \n",
              "1  one beautiful law trump recently said characte...          1  \n",
              "2  immigrant criminal eugenics considered fringe ...          1  \n",
              "3  sounded alarm early month trump presidency pri...          1  \n",
              "9  new low washington post medium critic blow tuc...          1  "
            ],
            "text/html": [
              "\n",
              "  <div id=\"df-20abb326-ad96-4736-8649-f64e5331057e\" class=\"colab-df-container\">\n",
              "    <div>\n",
              "<style scoped>\n",
              "    .dataframe tbody tr th:only-of-type {\n",
              "        vertical-align: middle;\n",
              "    }\n",
              "\n",
              "    .dataframe tbody tr th {\n",
              "        vertical-align: top;\n",
              "    }\n",
              "\n",
              "    .dataframe thead th {\n",
              "        text-align: right;\n",
              "    }\n",
              "</style>\n",
              "<table border=\"1\" class=\"dataframe\">\n",
              "  <thead>\n",
              "    <tr style=\"text-align: right;\">\n",
              "      <th></th>\n",
              "      <th>news_link</th>\n",
              "      <th>outlet</th>\n",
              "      <th>topic</th>\n",
              "      <th>type</th>\n",
              "      <th>label_bias</th>\n",
              "      <th>label_opinion</th>\n",
              "      <th>biased_words</th>\n",
              "      <th>clean_text</th>\n",
              "      <th>lemmatize_text</th>\n",
              "      <th>is_biased</th>\n",
              "    </tr>\n",
              "  </thead>\n",
              "  <tbody>\n",
              "    <tr>\n",
              "      <th>0</th>\n",
              "      <td>https://www.foxnews.com/entertainment/australi...</td>\n",
              "      <td>Fox News</td>\n",
              "      <td>environment</td>\n",
              "      <td>right</td>\n",
              "      <td>non-biased</td>\n",
              "      <td>Entirely factual</td>\n",
              "      <td></td>\n",
              "      <td>orange is the new black star yael stone is ren...</td>\n",
              "      <td>orange new black star yael stone renouncing u ...</td>\n",
              "      <td>0</td>\n",
              "    </tr>\n",
              "    <tr>\n",
              "      <th>1</th>\n",
              "      <td>https://www.alternet.org/2020/06/law-and-order...</td>\n",
              "      <td>Alternet</td>\n",
              "      <td>gun control</td>\n",
              "      <td>left</td>\n",
              "      <td>biased</td>\n",
              "      <td>Somewhat factual but also opinionated</td>\n",
              "      <td>bizarre  characteristically</td>\n",
              "      <td>we have one beautiful law trump recently said ...</td>\n",
              "      <td>one beautiful law trump recently said characte...</td>\n",
              "      <td>1</td>\n",
              "    </tr>\n",
              "    <tr>\n",
              "      <th>2</th>\n",
              "      <td>https://www.nbcnews.com/news/latino/after-step...</td>\n",
              "      <td>MSNBC</td>\n",
              "      <td>white nationalism</td>\n",
              "      <td>left</td>\n",
              "      <td>biased</td>\n",
              "      <td>Expresses writer’s opinion</td>\n",
              "      <td>criminals  fringe  extreme</td>\n",
              "      <td>immigrants as criminals and eugenics all of wh...</td>\n",
              "      <td>immigrant criminal eugenics considered fringe ...</td>\n",
              "      <td>1</td>\n",
              "    </tr>\n",
              "    <tr>\n",
              "      <th>3</th>\n",
              "      <td>https://www.alternet.org/2019/07/fox-news-has-...</td>\n",
              "      <td>Alternet</td>\n",
              "      <td>white nationalism</td>\n",
              "      <td>left</td>\n",
              "      <td>biased</td>\n",
              "      <td>Somewhat factual but also opinionated</td>\n",
              "      <td></td>\n",
              "      <td>we sounded the alarm in the early months of tr...</td>\n",
              "      <td>sounded alarm early month trump presidency pri...</td>\n",
              "      <td>1</td>\n",
              "    </tr>\n",
              "    <tr>\n",
              "      <th>9</th>\n",
              "      <td>https://www.alternet.org/2019/08/a-new-low-was...</td>\n",
              "      <td>Alternet</td>\n",
              "      <td>white nationalism</td>\n",
              "      <td>left</td>\n",
              "      <td>biased</td>\n",
              "      <td>Expresses writer’s opinion</td>\n",
              "      <td>blows  up  absurd  lies  nationalism  white</td>\n",
              "      <td>a new low washington post media critic blows u...</td>\n",
              "      <td>new low washington post medium critic blow tuc...</td>\n",
              "      <td>1</td>\n",
              "    </tr>\n",
              "  </tbody>\n",
              "</table>\n",
              "</div>\n",
              "    <div class=\"colab-df-buttons\">\n",
              "\n",
              "  <div class=\"colab-df-container\">\n",
              "    <button class=\"colab-df-convert\" onclick=\"convertToInteractive('df-20abb326-ad96-4736-8649-f64e5331057e')\"\n",
              "            title=\"Convert this dataframe to an interactive table.\"\n",
              "            style=\"display:none;\">\n",
              "\n",
              "  <svg xmlns=\"http://www.w3.org/2000/svg\" height=\"24px\" viewBox=\"0 -960 960 960\">\n",
              "    <path d=\"M120-120v-720h720v720H120Zm60-500h600v-160H180v160Zm220 220h160v-160H400v160Zm0 220h160v-160H400v160ZM180-400h160v-160H180v160Zm440 0h160v-160H620v160ZM180-180h160v-160H180v160Zm440 0h160v-160H620v160Z\"/>\n",
              "  </svg>\n",
              "    </button>\n",
              "\n",
              "  <style>\n",
              "    .colab-df-container {\n",
              "      display:flex;\n",
              "      gap: 12px;\n",
              "    }\n",
              "\n",
              "    .colab-df-convert {\n",
              "      background-color: #E8F0FE;\n",
              "      border: none;\n",
              "      border-radius: 50%;\n",
              "      cursor: pointer;\n",
              "      display: none;\n",
              "      fill: #1967D2;\n",
              "      height: 32px;\n",
              "      padding: 0 0 0 0;\n",
              "      width: 32px;\n",
              "    }\n",
              "\n",
              "    .colab-df-convert:hover {\n",
              "      background-color: #E2EBFA;\n",
              "      box-shadow: 0px 1px 2px rgba(60, 64, 67, 0.3), 0px 1px 3px 1px rgba(60, 64, 67, 0.15);\n",
              "      fill: #174EA6;\n",
              "    }\n",
              "\n",
              "    .colab-df-buttons div {\n",
              "      margin-bottom: 4px;\n",
              "    }\n",
              "\n",
              "    [theme=dark] .colab-df-convert {\n",
              "      background-color: #3B4455;\n",
              "      fill: #D2E3FC;\n",
              "    }\n",
              "\n",
              "    [theme=dark] .colab-df-convert:hover {\n",
              "      background-color: #434B5C;\n",
              "      box-shadow: 0px 1px 3px 1px rgba(0, 0, 0, 0.15);\n",
              "      filter: drop-shadow(0px 1px 2px rgba(0, 0, 0, 0.3));\n",
              "      fill: #FFFFFF;\n",
              "    }\n",
              "  </style>\n",
              "\n",
              "    <script>\n",
              "      const buttonEl =\n",
              "        document.querySelector('#df-20abb326-ad96-4736-8649-f64e5331057e button.colab-df-convert');\n",
              "      buttonEl.style.display =\n",
              "        google.colab.kernel.accessAllowed ? 'block' : 'none';\n",
              "\n",
              "      async function convertToInteractive(key) {\n",
              "        const element = document.querySelector('#df-20abb326-ad96-4736-8649-f64e5331057e');\n",
              "        const dataTable =\n",
              "          await google.colab.kernel.invokeFunction('convertToInteractive',\n",
              "                                                    [key], {});\n",
              "        if (!dataTable) return;\n",
              "\n",
              "        const docLinkHtml = 'Like what you see? Visit the ' +\n",
              "          '<a target=\"_blank\" href=https://colab.research.google.com/notebooks/data_table.ipynb>data table notebook</a>'\n",
              "          + ' to learn more about interactive tables.';\n",
              "        element.innerHTML = '';\n",
              "        dataTable['output_type'] = 'display_data';\n",
              "        await google.colab.output.renderOutput(dataTable, element);\n",
              "        const docLink = document.createElement('div');\n",
              "        docLink.innerHTML = docLinkHtml;\n",
              "        element.appendChild(docLink);\n",
              "      }\n",
              "    </script>\n",
              "  </div>\n",
              "\n",
              "\n",
              "    <div id=\"df-d425c676-f101-43e9-8670-8529edfc3150\">\n",
              "      <button class=\"colab-df-quickchart\" onclick=\"quickchart('df-d425c676-f101-43e9-8670-8529edfc3150')\"\n",
              "                title=\"Suggest charts\"\n",
              "                style=\"display:none;\">\n",
              "\n",
              "<svg xmlns=\"http://www.w3.org/2000/svg\" height=\"24px\"viewBox=\"0 0 24 24\"\n",
              "     width=\"24px\">\n",
              "    <g>\n",
              "        <path d=\"M19 3H5c-1.1 0-2 .9-2 2v14c0 1.1.9 2 2 2h14c1.1 0 2-.9 2-2V5c0-1.1-.9-2-2-2zM9 17H7v-7h2v7zm4 0h-2V7h2v10zm4 0h-2v-4h2v4z\"/>\n",
              "    </g>\n",
              "</svg>\n",
              "      </button>\n",
              "\n",
              "<style>\n",
              "  .colab-df-quickchart {\n",
              "      --bg-color: #E8F0FE;\n",
              "      --fill-color: #1967D2;\n",
              "      --hover-bg-color: #E2EBFA;\n",
              "      --hover-fill-color: #174EA6;\n",
              "      --disabled-fill-color: #AAA;\n",
              "      --disabled-bg-color: #DDD;\n",
              "  }\n",
              "\n",
              "  [theme=dark] .colab-df-quickchart {\n",
              "      --bg-color: #3B4455;\n",
              "      --fill-color: #D2E3FC;\n",
              "      --hover-bg-color: #434B5C;\n",
              "      --hover-fill-color: #FFFFFF;\n",
              "      --disabled-bg-color: #3B4455;\n",
              "      --disabled-fill-color: #666;\n",
              "  }\n",
              "\n",
              "  .colab-df-quickchart {\n",
              "    background-color: var(--bg-color);\n",
              "    border: none;\n",
              "    border-radius: 50%;\n",
              "    cursor: pointer;\n",
              "    display: none;\n",
              "    fill: var(--fill-color);\n",
              "    height: 32px;\n",
              "    padding: 0;\n",
              "    width: 32px;\n",
              "  }\n",
              "\n",
              "  .colab-df-quickchart:hover {\n",
              "    background-color: var(--hover-bg-color);\n",
              "    box-shadow: 0 1px 2px rgba(60, 64, 67, 0.3), 0 1px 3px 1px rgba(60, 64, 67, 0.15);\n",
              "    fill: var(--button-hover-fill-color);\n",
              "  }\n",
              "\n",
              "  .colab-df-quickchart-complete:disabled,\n",
              "  .colab-df-quickchart-complete:disabled:hover {\n",
              "    background-color: var(--disabled-bg-color);\n",
              "    fill: var(--disabled-fill-color);\n",
              "    box-shadow: none;\n",
              "  }\n",
              "\n",
              "  .colab-df-spinner {\n",
              "    border: 2px solid var(--fill-color);\n",
              "    border-color: transparent;\n",
              "    border-bottom-color: var(--fill-color);\n",
              "    animation:\n",
              "      spin 1s steps(1) infinite;\n",
              "  }\n",
              "\n",
              "  @keyframes spin {\n",
              "    0% {\n",
              "      border-color: transparent;\n",
              "      border-bottom-color: var(--fill-color);\n",
              "      border-left-color: var(--fill-color);\n",
              "    }\n",
              "    20% {\n",
              "      border-color: transparent;\n",
              "      border-left-color: var(--fill-color);\n",
              "      border-top-color: var(--fill-color);\n",
              "    }\n",
              "    30% {\n",
              "      border-color: transparent;\n",
              "      border-left-color: var(--fill-color);\n",
              "      border-top-color: var(--fill-color);\n",
              "      border-right-color: var(--fill-color);\n",
              "    }\n",
              "    40% {\n",
              "      border-color: transparent;\n",
              "      border-right-color: var(--fill-color);\n",
              "      border-top-color: var(--fill-color);\n",
              "    }\n",
              "    60% {\n",
              "      border-color: transparent;\n",
              "      border-right-color: var(--fill-color);\n",
              "    }\n",
              "    80% {\n",
              "      border-color: transparent;\n",
              "      border-right-color: var(--fill-color);\n",
              "      border-bottom-color: var(--fill-color);\n",
              "    }\n",
              "    90% {\n",
              "      border-color: transparent;\n",
              "      border-bottom-color: var(--fill-color);\n",
              "    }\n",
              "  }\n",
              "</style>\n",
              "\n",
              "      <script>\n",
              "        async function quickchart(key) {\n",
              "          const quickchartButtonEl =\n",
              "            document.querySelector('#' + key + ' button');\n",
              "          quickchartButtonEl.disabled = true;  // To prevent multiple clicks.\n",
              "          quickchartButtonEl.classList.add('colab-df-spinner');\n",
              "          try {\n",
              "            const charts = await google.colab.kernel.invokeFunction(\n",
              "                'suggestCharts', [key], {});\n",
              "          } catch (error) {\n",
              "            console.error('Error during call to suggestCharts:', error);\n",
              "          }\n",
              "          quickchartButtonEl.classList.remove('colab-df-spinner');\n",
              "          quickchartButtonEl.classList.add('colab-df-quickchart-complete');\n",
              "        }\n",
              "        (() => {\n",
              "          let quickchartButtonEl =\n",
              "            document.querySelector('#df-d425c676-f101-43e9-8670-8529edfc3150 button');\n",
              "          quickchartButtonEl.style.display =\n",
              "            google.colab.kernel.accessAllowed ? 'block' : 'none';\n",
              "        })();\n",
              "      </script>\n",
              "    </div>\n",
              "\n",
              "    </div>\n",
              "  </div>\n"
            ],
            "application/vnd.google.colaboratory.intrinsic+json": {
              "type": "dataframe",
              "variable_name": "data",
              "summary": "{\n  \"name\": \"data\",\n  \"rows\": 2644,\n  \"fields\": [\n    {\n      \"column\": \"news_link\",\n      \"properties\": {\n        \"dtype\": \"string\",\n        \"num_unique_values\": 1592,\n        \"samples\": [\n          \"https://www.reuters.com/article/us-minneapolis-police-protests-britain-s/uk-pm-johnson-defends-churchill-criticises-distortion-of-our-history-telegraph-idUSKBN23L0Z7\",\n          \"https://www.reuters.com/article/us-usa-election-tweet/senior-trump-aide-apologizes-for-promoting-racially-charged-video-idUSKBN23D0X6\",\n          \"https://www.alternet.org/2020/07/nyu-fascism-expert-explains-the-next-moves-in-trumps-authoritarian-playbook-hes-a-fundamental-break-from-american-tradition/\"\n        ],\n        \"semantic_type\": \"\",\n        \"description\": \"\"\n      }\n    },\n    {\n      \"column\": \"outlet\",\n      \"properties\": {\n        \"dtype\": \"category\",\n        \"num_unique_values\": 8,\n        \"samples\": [\n          \"Alternet\",\n          \"USA Today\",\n          \"Fox News\"\n        ],\n        \"semantic_type\": \"\",\n        \"description\": \"\"\n      }\n    },\n    {\n      \"column\": \"topic\",\n      \"properties\": {\n        \"dtype\": \"category\",\n        \"num_unique_values\": 18,\n        \"samples\": [\n          \"environment\",\n          \"gun control\",\n          \"trump presidency\"\n        ],\n        \"semantic_type\": \"\",\n        \"description\": \"\"\n      }\n    },\n    {\n      \"column\": \"type\",\n      \"properties\": {\n        \"dtype\": \"category\",\n        \"num_unique_values\": 3,\n        \"samples\": [\n          \"right\",\n          \"left\",\n          \"center\"\n        ],\n        \"semantic_type\": \"\",\n        \"description\": \"\"\n      }\n    },\n    {\n      \"column\": \"label_bias\",\n      \"properties\": {\n        \"dtype\": \"category\",\n        \"num_unique_values\": 3,\n        \"samples\": [\n          \"non-biased\",\n          \"biased\",\n          \"no agreement\"\n        ],\n        \"semantic_type\": \"\",\n        \"description\": \"\"\n      }\n    },\n    {\n      \"column\": \"label_opinion\",\n      \"properties\": {\n        \"dtype\": \"category\",\n        \"num_unique_values\": 4,\n        \"samples\": [\n          \"Somewhat factual but also opinionated\",\n          \"No agreement\",\n          \"Entirely factual\"\n        ],\n        \"semantic_type\": \"\",\n        \"description\": \"\"\n      }\n    },\n    {\n      \"column\": \"biased_words\",\n      \"properties\": {\n        \"dtype\": \"category\",\n        \"num_unique_values\": 1177,\n        \"samples\": [\n          \"stolid  damning  bureaucratic\",\n          \"filter\",\n          \"illegal  alien\"\n        ],\n        \"semantic_type\": \"\",\n        \"description\": \"\"\n      }\n    },\n    {\n      \"column\": \"clean_text\",\n      \"properties\": {\n        \"dtype\": \"string\",\n        \"num_unique_values\": 2641,\n        \"samples\": [\n          \"trump had been responding to a question about his health care policy since he knows almost nothing about health care policy and cares even less he launched into a meaningless and obfuscatory rant about how his administration will supposedly protect preexisting conditions\",\n          \"a federal visa program allowing international students to work at firms in the united states after graduation appears to have been exploited by fake companies providing false employment verifications according to an nbc newsnbc bay area investigation\",\n          \"shortcomings in the technology used by the transportation security administration tsa and insufficient training of the agencys staff have made transgender and gender nonconforming travelers particularly vulnerable to invasive searches at airport checkpoints interviews and a review of documents and data shows\"\n        ],\n        \"semantic_type\": \"\",\n        \"description\": \"\"\n      }\n    },\n    {\n      \"column\": \"lemmatize_text\",\n      \"properties\": {\n        \"dtype\": \"string\",\n        \"num_unique_values\": 2640,\n        \"samples\": [\n          \"never trumper republican lincoln project mobilized former defense secretary jim mattiss scathing broadside president latest attack donald trump\",\n          \"federal visa program allowing international student work firm united state graduation appears exploited fake company providing false employment verification according nbc newsnbc bay area investigation\",\n          \"addition u making vaccine hatfill said must drastic change national pandemic plan\"\n        ],\n        \"semantic_type\": \"\",\n        \"description\": \"\"\n      }\n    },\n    {\n      \"column\": \"is_biased\",\n      \"properties\": {\n        \"dtype\": \"number\",\n        \"std\": 0,\n        \"min\": 0,\n        \"max\": 1,\n        \"num_unique_values\": 2,\n        \"samples\": [\n          1,\n          0\n        ],\n        \"semantic_type\": \"\",\n        \"description\": \"\"\n      }\n    }\n  ]\n}"
            }
          },
          "metadata": {},
          "execution_count": 31
        }
      ],
      "source": [
        "# Making sure the new column 'is_biased' is present in the dataset\n",
        "data.head()"
      ]
    },
    {
      "cell_type": "code",
      "execution_count": 32,
      "id": "7112d341",
      "metadata": {
        "colab": {
          "base_uri": "https://localhost:8080/"
        },
        "id": "7112d341",
        "outputId": "c5fabcc8-c4f2-4f82-d12d-d873990fd233"
      },
      "outputs": [
        {
          "output_type": "stream",
          "name": "stdout",
          "text": [
            "The DataFrame has 2644 rows and 10 columns\n"
          ]
        }
      ],
      "source": [
        "# Display the shape of the dataset after completing EDA.\n",
        "n_rows, n_cols = data.shape\n",
        "print(f\"The DataFrame has {n_rows} rows and {n_cols} columns\")"
      ]
    },
    {
      "cell_type": "markdown",
      "id": "DoCbWmjjEQJB",
      "metadata": {
        "id": "DoCbWmjjEQJB"
      },
      "source": [
        "### Conclusion: Data Preprocessing and EDA"
      ]
    },
    {
      "cell_type": "markdown",
      "id": "i_UGjn3DEXBr",
      "metadata": {
        "id": "i_UGjn3DEXBr"
      },
      "source": [
        "In this part, we conducted a thorough preprocessing and exploratory data analysis (EDA) to prepare the dataset for bias detection modeling. Firstly, we reviewed the dataset's structure, identifying the number of rows and columns, and inspecting its basic information and summary statistics. We then addressed data quality issues, including duplicates, and handling missing values. Doing this, there were no duplicates found in the data, while missing values were found in two columns 'news_link' and 'type' in negligible percentage of the dataset. Thus, rows will missing values were dropped.\n",
        "\n",
        "Next, we focused on cleaning and standarizing the text data. This included lowercasing, removing URLs, special characters, and stopwords, as well as lemmatizing words to reduce them to their root forms. These steps help normalize the text and reduce noise, which is essential for any NLP-based modeling.\n",
        "\n",
        "To better analyze bias, we created a binary label column ('is_biased') to distinguish between biased and unbiased texts. This will serve as our target variable in supervised which will be used as input features for further linguistic anaylsis and model training.\n",
        "\n",
        "Overall, the dataset is now well-structured, cleaned, and ready for feature extraction, model building, and further investigation into biased language patterns."
      ]
    },
    {
      "cell_type": "markdown",
      "id": "972245f8",
      "metadata": {
        "id": "972245f8"
      },
      "source": [
        "#### Which topics have the most biased words on average per article?"
      ]
    },
    {
      "cell_type": "code",
      "execution_count": 33,
      "id": "GkH1QwZ4BzdZ",
      "metadata": {
        "colab": {
          "base_uri": "https://localhost:8080/",
          "height": 472
        },
        "id": "GkH1QwZ4BzdZ",
        "outputId": "b563ec4f-4990-4a07-f489-6461d7d8f0ad"
      },
      "outputs": [
        {
          "output_type": "display_data",
          "data": {
            "text/plain": [
              "<Figure size 640x480 with 1 Axes>"
            ],
            "image/png": "[encoded data removed]"
          },
          "metadata": {}
        }
      ],
      "source": [
        "bias_by_topic = data.groupby('topic')['is_biased'].mean().sort_values(ascending=False).head(10)\n",
        "bias_by_topic.plot(kind='barh')\n",
        "plt.title('Average Bias Rate by Topic')\n",
        "plt.xlabel('Proportion of Biased Sentences')\n",
        "plt.show()"
      ]
    },
    {
      "cell_type": "markdown",
      "id": "UHfIv4RuIZyr",
      "metadata": {
        "id": "UHfIv4RuIZyr"
      },
      "source": [
        "The graph above reveals that certain topics attract more biased language than others. 'Trump presidency' and 'white nationalism' have the highest average bias rates, with over 70% of sentences labeled as biased. These findings suggest that politically and socially charged topics are more prone to emotionally loaded language. On the other hand, topics like 'immigration', 'universal healthercare', and 'gun control' show lower bias rates, though they still remain near 45-50%, indicating that even these texts are not free from bias.\n",
        "\n",
        "Understanding which topics are more likely to contain biased language helps contextualize the limitations of people-contributed platforms like Wikipedia and can inform targeted moderation or review efforts."
      ]
    },
    {
      "cell_type": "markdown",
      "id": "egM_MAGPHAJB",
      "metadata": {
        "id": "egM_MAGPHAJB"
      },
      "source": [
        "#### Is the dataset balanced between biased and unbiased data rows?"
      ]
    },
    {
      "cell_type": "code",
      "execution_count": 34,
      "id": "auSGceEfBnj1",
      "metadata": {
        "colab": {
          "base_uri": "https://localhost:8080/",
          "height": 472
        },
        "id": "auSGceEfBnj1",
        "outputId": "ace154f8-4501-4547-841a-d75a36449fb1"
      },
      "outputs": [
        {
          "output_type": "display_data",
          "data": {
            "text/plain": [
              "<Figure size 640x480 with 1 Axes>"
            ],
            "image/png": "[encoded data removed]"
          },
          "metadata": {}
        }
      ],
      "source": [
        "sns.countplot(x='is_biased', data=data)\n",
        "plt.title('Class Distribution of Bias')\n",
        "plt.xticks([0,1], ['Unbiased (0)', 'Biased (1)'])\n",
        "plt.show()"
      ]
    },
    {
      "cell_type": "markdown",
      "id": "FamvAhPpG7Co",
      "metadata": {
        "id": "FamvAhPpG7Co"
      },
      "source": [
        "The graph indicates that the dataset is nearly balanced, with a slightly higher number of unbiased (0) data rows compared to biased (1). This is ideal for supervising learning, as a balanced dataset helps prevent the model from becoming biased toward the majority class. It increases the likelihood of accurate predictions for both biased and unbiased text during model training and evaluation."
      ]
    },
    {
      "cell_type": "markdown",
      "id": "39e87a62",
      "metadata": {
        "id": "39e87a62"
      },
      "source": [
        "#### Which words are most frequently flagged as biased across the dataset?"
      ]
    },
    {
      "cell_type": "code",
      "execution_count": 35,
      "id": "i-PY_EPdJ5HG",
      "metadata": {
        "colab": {
          "base_uri": "https://localhost:8080/",
          "height": 607
        },
        "id": "i-PY_EPdJ5HG",
        "outputId": "f0746c17-f648-4499-ff76-a62d160f6759"
      },
      "outputs": [
        {
          "output_type": "display_data",
          "data": {
            "text/plain": [
              "<Figure size 1000x600 with 1 Axes>"
            ],
            "image/png": "[encoded data removed]"
          },
          "metadata": {}
        }
      ],
      "source": [
        "all_biased_words = data['biased_words'].dropna().astype(str).str.split()\n",
        "\n",
        "all_biased_words = [word for sublist in all_biased_words for word in sublist]\n",
        "\n",
        "top_words = pd.Series(all_biased_words).value_counts().head(15)\n",
        "\n",
        "excluded_words = ['the', 'of']\n",
        "\n",
        "# Count top words, then filter out the excluded ones\n",
        "top_words = (\n",
        "    pd.Series(all_biased_words)\n",
        "    .value_counts()\n",
        "    .drop(labels=excluded_words, errors='ignore')  # drop excluded\n",
        "    .head(15)\n",
        ")\n",
        "\n",
        "# Plot\n",
        "top_words.plot(kind='barh', figsize=(10,6), color='slateblue')\n",
        "plt.xlabel('Frequency')\n",
        "plt.title('Top 15 Most Frequently Flagged Biased Words')\n",
        "plt.gca().invert_yaxis()\n",
        "plt.tight_layout()\n",
        "plt.show()"
      ]
    },
    {
      "cell_type": "code",
      "source": [
        "top_words.head(25)"
      ],
      "metadata": {
        "colab": {
          "base_uri": "https://localhost:8080/",
          "height": 554
        },
        "id": "O_5KwELxW8TM",
        "outputId": "2a6f422f-40bf-4ca7-d372-8c7097eb656d"
      },
      "id": "O_5KwELxW8TM",
      "execution_count": 36,
      "outputs": [
        {
          "output_type": "execute_result",
          "data": {
            "text/plain": [
              "claim       28\n",
              "claiming    27\n",
              "claimed     25\n",
              "illegal     23\n",
              "claims      23\n",
              "aliens      22\n",
              "out         14\n",
              "mob         13\n",
              "leftist     12\n",
              "white       12\n",
              "slammed     11\n",
              "bizarre     10\n",
              "racist      10\n",
              "blasted     10\n",
              "radical      9\n",
              "Name: count, dtype: int64"
            ],
            "text/html": [
              "<div>\n",
              "<style scoped>\n",
              "    .dataframe tbody tr th:only-of-type {\n",
              "        vertical-align: middle;\n",
              "    }\n",
              "\n",
              "    .dataframe tbody tr th {\n",
              "        vertical-align: top;\n",
              "    }\n",
              "\n",
              "    .dataframe thead th {\n",
              "        text-align: right;\n",
              "    }\n",
              "</style>\n",
              "<table border=\"1\" class=\"dataframe\">\n",
              "  <thead>\n",
              "    <tr style=\"text-align: right;\">\n",
              "      <th></th>\n",
              "      <th>count</th>\n",
              "    </tr>\n",
              "  </thead>\n",
              "  <tbody>\n",
              "    <tr>\n",
              "      <th>claim</th>\n",
              "      <td>28</td>\n",
              "    </tr>\n",
              "    <tr>\n",
              "      <th>claiming</th>\n",
              "      <td>27</td>\n",
              "    </tr>\n",
              "    <tr>\n",
              "      <th>claimed</th>\n",
              "      <td>25</td>\n",
              "    </tr>\n",
              "    <tr>\n",
              "      <th>illegal</th>\n",
              "      <td>23</td>\n",
              "    </tr>\n",
              "    <tr>\n",
              "      <th>claims</th>\n",
              "      <td>23</td>\n",
              "    </tr>\n",
              "    <tr>\n",
              "      <th>aliens</th>\n",
              "      <td>22</td>\n",
              "    </tr>\n",
              "    <tr>\n",
              "      <th>out</th>\n",
              "      <td>14</td>\n",
              "    </tr>\n",
              "    <tr>\n",
              "      <th>mob</th>\n",
              "      <td>13</td>\n",
              "    </tr>\n",
              "    <tr>\n",
              "      <th>leftist</th>\n",
              "      <td>12</td>\n",
              "    </tr>\n",
              "    <tr>\n",
              "      <th>white</th>\n",
              "      <td>12</td>\n",
              "    </tr>\n",
              "    <tr>\n",
              "      <th>slammed</th>\n",
              "      <td>11</td>\n",
              "    </tr>\n",
              "    <tr>\n",
              "      <th>bizarre</th>\n",
              "      <td>10</td>\n",
              "    </tr>\n",
              "    <tr>\n",
              "      <th>racist</th>\n",
              "      <td>10</td>\n",
              "    </tr>\n",
              "    <tr>\n",
              "      <th>blasted</th>\n",
              "      <td>10</td>\n",
              "    </tr>\n",
              "    <tr>\n",
              "      <th>radical</th>\n",
              "      <td>9</td>\n",
              "    </tr>\n",
              "  </tbody>\n",
              "</table>\n",
              "</div><br><label><b>dtype:</b> int64</label>"
            ]
          },
          "metadata": {},
          "execution_count": 36
        }
      ]
    },
    {
      "cell_type": "markdown",
      "id": "0d7e7b23",
      "metadata": {
        "id": "0d7e7b23"
      },
      "source": [
        "#### How does sentiment differ between biased and unbiased texts?"
      ]
    },
    {
      "cell_type": "markdown",
      "source": [
        "MRCP_Concereteness_Ratings is a rating of  tangiblility of a word.\n",
        "MRCP_Imagability_Ratings is how easily a word evokes a mental image.\n",
        "\n",
        "Overall these ideas are connected so that:\n",
        "Low concreteness + high imagability can suggest emotional or persuasive bias.\n",
        "High concreteness + low imagability often points to factual reporting.\n"
      ],
      "metadata": {
        "id": "tS2eU2tI8NP0"
      },
      "id": "tS2eU2tI8NP0"
    },
    {
      "cell_type": "markdown",
      "id": "a3929fc3",
      "metadata": {
        "id": "a3929fc3"
      },
      "source": [
        "#### What proportion of an article's sentences are labeled as biased or opinionated?"
      ]
    },
    {
      "cell_type": "code",
      "source": [
        "data['sentiment'] = data['clean_text'].apply(lambda x: TextBlob(x).sentiment.polarity)\n"
      ],
      "metadata": {
        "id": "55YwtbyJ8L-N"
      },
      "id": "55YwtbyJ8L-N",
      "execution_count": 37,
      "outputs": []
    },
    {
      "cell_type": "code",
      "source": [
        "plt.figure(figsize=(10, 6))\n",
        "sns.boxplot(x='is_biased', y='sentiment', data=data)\n",
        "plt.title('Sentiment Polarity by Bias Label')\n",
        "plt.xlabel('Is Biased (1 = Yes, 0 = No)')\n",
        "plt.ylabel('Sentiment Polarity')\n",
        "plt.xticks([0, 1], ['Unbiased', 'Biased'])\n",
        "plt.show()"
      ],
      "metadata": {
        "colab": {
          "base_uri": "https://localhost:8080/",
          "height": 564
        },
        "id": "kvQAzZOf8MSO",
        "outputId": "e87ab32f-f313-40ba-dc2c-1a0793c1dd15"
      },
      "id": "kvQAzZOf8MSO",
      "execution_count": 38,
      "outputs": [
        {
          "output_type": "display_data",
          "data": {
            "text/plain": [
              "<Figure size 1000x600 with 1 Axes>"
            ],
            "image/png": "[encoded data removed]"
          },
          "metadata": {}
        }
      ]
    },
    {
      "cell_type": "markdown",
      "source": [
        "The graph above analyzes the sentiment polarity across biased and unbiased text of different articles. It reveals that while both categories generally maintain fa neutral tone on average, biased articles tend to exhibit a wider range of sentiment. This includes a higher frequency of strongly positive or negative sentiment, indicating that biased writing often uses more emotionally charge language. In contrast, unbiased texts shows a tighter sentiment distribution, reflecting a more balanced and objective tone. This suggests that sentiment polarity can serve as a useful signal in detecting bias, particularly when combined with other linguistic and contextual features."
      ],
      "metadata": {
        "id": "XshvWq9hmXqd"
      },
      "id": "XshvWq9hmXqd"
    },
    {
      "cell_type": "markdown",
      "id": "32055e9b",
      "metadata": {
        "id": "32055e9b"
      },
      "source": [
        "#### Which news outlet have the highest average bias score?\n",
        "\n"
      ]
    },
    {
      "cell_type": "code",
      "source": [
        "avg_bias_by_outlet = data.groupby('outlet')['is_biased'].mean().sort_values(ascending=False).reset_index()\n",
        "\n",
        "# Display top outlets by average bias score\n",
        "print(avg_bias_by_outlet.head())"
      ],
      "metadata": {
        "colab": {
          "base_uri": "https://localhost:8080/"
        },
        "id": "NU5MgGTImUSu",
        "outputId": "e8181339-ff2c-49e5-e363-caf2e0ba2ba4"
      },
      "id": "NU5MgGTImUSu",
      "execution_count": 39,
      "outputs": [
        {
          "output_type": "stream",
          "name": "stdout",
          "text": [
            "       outlet  is_biased\n",
            "0    Alternet   0.720379\n",
            "1  Federalist   0.716418\n",
            "2   Breitbart   0.592868\n",
            "3    HuffPost   0.539823\n",
            "4       MSNBC   0.411765\n"
          ]
        }
      ]
    },
    {
      "cell_type": "code",
      "source": [
        "\n",
        "plt.figure(figsize=(12,6))\n",
        "sns.barplot(data=avg_bias_by_outlet, x='outlet', y='is_biased', palette='Reds_r')\n",
        "plt.xticks(rotation=45, ha='right')\n",
        "plt.ylabel('Average Bias Score')\n",
        "plt.title('Average Bias Score by News Outlet')\n",
        "plt.tight_layout()\n",
        "plt.show()"
      ],
      "metadata": {
        "colab": {
          "base_uri": "https://localhost:8080/",
          "height": 676
        },
        "id": "1RnRFOAWmUhi",
        "outputId": "f91700cb-4ecf-4211-9d89-7dc2dbacb1f6"
      },
      "id": "1RnRFOAWmUhi",
      "execution_count": 40,
      "outputs": [
        {
          "output_type": "stream",
          "name": "stderr",
          "text": [
            "<ipython-input-40-1473ec452d49>:2: FutureWarning: \n",
            "\n",
            "Passing `palette` without assigning `hue` is deprecated and will be removed in v0.14.0. Assign the `x` variable to `hue` and set `legend=False` for the same effect.\n",
            "\n",
            "  sns.barplot(data=avg_bias_by_outlet, x='outlet', y='is_biased', palette='Reds_r')\n"
          ]
        },
        {
          "output_type": "display_data",
          "data": {
            "text/plain": [
              "<Figure size 1200x600 with 1 Axes>"
            ],
            "image/png": "[encoded data removed]"
          },
          "metadata": {}
        }
      ]
    },
    {
      "cell_type": "markdown",
      "source": [
        "The bar graph displays the average proportion of biased sentences per article across different news outlets. The data suggests that media outlets vary widely in how frequently they use biased language. Alternet and Federalist have the highest average bias scores, suggesting strong ideological framing. Breitbart and HuffPost also show high bias, while MSNBC and Fox News despite opposing views - have similar moderate scores.Reuters and USA Today stand out for their low bias, reflecting more neutral reporting. Overall, outlets with a strong ideological orientation tend to have higher bias scores, whereas mainstream or centrist outlets tend to score lower. In particular, Reuters stands out for having the most neutral tone in its reporting."
      ],
      "metadata": {
        "id": "ULGziExymhqo"
      },
      "id": "ULGziExymhqo"
    },
    {
      "cell_type": "markdown",
      "id": "ba3a9600",
      "metadata": {
        "id": "ba3a9600"
      },
      "source": [
        "## Modeling"
      ]
    },
    {
      "cell_type": "code",
      "execution_count": 41,
      "id": "e8e87c87",
      "metadata": {
        "id": "e8e87c87",
        "colab": {
          "base_uri": "https://localhost:8080/",
          "height": 178
        },
        "outputId": "8d149532-3de6-4730-8c84-5710cb1f68dc"
      },
      "outputs": [
        {
          "output_type": "execute_result",
          "data": {
            "text/plain": [
              "is_biased\n",
              "0    1345\n",
              "1    1299\n",
              "Name: count, dtype: int64"
            ],
            "text/html": [
              "<div>\n",
              "<style scoped>\n",
              "    .dataframe tbody tr th:only-of-type {\n",
              "        vertical-align: middle;\n",
              "    }\n",
              "\n",
              "    .dataframe tbody tr th {\n",
              "        vertical-align: top;\n",
              "    }\n",
              "\n",
              "    .dataframe thead th {\n",
              "        text-align: right;\n",
              "    }\n",
              "</style>\n",
              "<table border=\"1\" class=\"dataframe\">\n",
              "  <thead>\n",
              "    <tr style=\"text-align: right;\">\n",
              "      <th></th>\n",
              "      <th>count</th>\n",
              "    </tr>\n",
              "    <tr>\n",
              "      <th>is_biased</th>\n",
              "      <th></th>\n",
              "    </tr>\n",
              "  </thead>\n",
              "  <tbody>\n",
              "    <tr>\n",
              "      <th>0</th>\n",
              "      <td>1345</td>\n",
              "    </tr>\n",
              "    <tr>\n",
              "      <th>1</th>\n",
              "      <td>1299</td>\n",
              "    </tr>\n",
              "  </tbody>\n",
              "</table>\n",
              "</div><br><label><b>dtype:</b> int64</label>"
            ]
          },
          "metadata": {},
          "execution_count": 41
        }
      ],
      "source": [
        "# Before modeling, checking the total counts for 'biased' and 'non-biased'.\n",
        "data['is_biased'].value_counts()"
      ]
    },
    {
      "cell_type": "code",
      "source": [
        "data.columns"
      ],
      "metadata": {
        "colab": {
          "base_uri": "https://localhost:8080/"
        },
        "id": "_17OmB4Limar",
        "outputId": "babbcbaa-b12d-47b7-d661-abed66f56e33"
      },
      "id": "_17OmB4Limar",
      "execution_count": 42,
      "outputs": [
        {
          "output_type": "execute_result",
          "data": {
            "text/plain": [
              "Index(['news_link', 'outlet', 'topic', 'type', 'label_bias', 'label_opinion',\n",
              "       'biased_words', 'clean_text', 'lemmatize_text', 'is_biased',\n",
              "       'sentiment'],\n",
              "      dtype='object')"
            ]
          },
          "metadata": {},
          "execution_count": 42
        }
      ]
    },
    {
      "cell_type": "code",
      "source": [
        "# Only keeping input and output\n",
        "df = data[['clean_text', 'label_bias']]"
      ],
      "metadata": {
        "id": "chUWO-hmh9LP"
      },
      "id": "chUWO-hmh9LP",
      "execution_count": 43,
      "outputs": []
    },
    {
      "cell_type": "code",
      "source": [
        "le = LabelEncoder()\n",
        "df['label_encoded'] = le.fit_transform(df['label_bias'])\n"
      ],
      "metadata": {
        "colab": {
          "base_uri": "https://localhost:8080/"
        },
        "id": "_ydkI66pji4i",
        "outputId": "4c8deeee-5628-4192-cfb8-f49835092ce3"
      },
      "id": "_ydkI66pji4i",
      "execution_count": 44,
      "outputs": [
        {
          "output_type": "stream",
          "name": "stderr",
          "text": [
            "<ipython-input-44-dbcf99169fb4>:2: SettingWithCopyWarning: \n",
            "A value is trying to be set on a copy of a slice from a DataFrame.\n",
            "Try using .loc[row_indexer,col_indexer] = value instead\n",
            "\n",
            "See the caveats in the documentation: https://pandas.pydata.org/pandas-docs/stable/user_guide/indexing.html#returning-a-view-versus-a-copy\n",
            "  df['label_encoded'] = le.fit_transform(df['label_bias'])\n"
          ]
        }
      ]
    },
    {
      "cell_type": "code",
      "source": [
        "df.columns"
      ],
      "metadata": {
        "colab": {
          "base_uri": "https://localhost:8080/"
        },
        "id": "YmI_1xCQ5BTA",
        "outputId": "e79992a8-0f4e-4f8c-85db-9295d5b9579f"
      },
      "id": "YmI_1xCQ5BTA",
      "execution_count": 45,
      "outputs": [
        {
          "output_type": "execute_result",
          "data": {
            "text/plain": [
              "Index(['clean_text', 'label_bias', 'label_encoded'], dtype='object')"
            ]
          },
          "metadata": {},
          "execution_count": 45
        }
      ]
    },
    {
      "cell_type": "code",
      "source": [
        "# Splitting in train and test (from Tirso)\n",
        "# Remove stratification if a class has only one instance\n",
        "if df['label_encoded'].nunique() > 1 and df['label_encoded'].value_counts().min() >= 2:\n",
        "    train_set, val_set, test_set = train_val_test_split(df, stratify='label_encoded')\n",
        "else:\n",
        "    # If stratification is not possible, perform a regular split\n",
        "    train_set, val_set, test_set = train_val_test_split(df)\n",
        "\n",
        "xtrain, ytrain = train_set['clean_text'], train_set['label_encoded']\n",
        "xval, yval = val_set['clean_text'], val_set['label_encoded']\n",
        "xtest, ytest = test_set['clean_text'], test_set['label_encoded']\n",
        "\n",
        "# Splitting in train and test (from Tirso)\n",
        "#train_set, val_set, test_set = train_val_test_split(df, stratify='label_encoded')\n",
        "#xtrain, ytrain = train_set['clean_text'], train_set['label_encoded']\n",
        "#xval, yval = val_set['clean_text'], val_set['label_encoded']\n",
        "#xtest, ytest = test_set['clean_text'], test_set['label_encoded']"
      ],
      "metadata": {
        "id": "VfMxmMjidHIf"
      },
      "id": "VfMxmMjidHIf",
      "execution_count": 46,
      "outputs": []
    },
    {
      "cell_type": "markdown",
      "source": [],
      "metadata": {
        "id": "wQ2skDv1dgVO"
      },
      "id": "wQ2skDv1dgVO"
    },
    {
      "cell_type": "markdown",
      "metadata": {
        "id": "gEET0w9Tdji9"
      },
      "source": [
        "### BERT Model:"
      ],
      "id": "gEET0w9Tdji9"
    },
    {
      "cell_type": "code",
      "execution_count": 47,
      "metadata": {
        "id": "_DT5xKVNCeUI",
        "colab": {
          "base_uri": "https://localhost:8080/",
          "height": 458
        },
        "outputId": "61b1bb80-d38a-466e-f281-d1a5772710f9"
      },
      "outputs": [
        {
          "output_type": "execute_result",
          "data": {
            "text/plain": [
              "999     few could have anticipated that the historic r...\n",
              "2058    president donald trump favors ending obamacare...\n",
              "958     ever since sanders has portrayed himself as a ...\n",
              "3135    this would be enough of a problem in normal ti...\n",
              "441     at the time moynihan was primarily concerned t...\n",
              "                              ...                        \n",
              "2269    sanders team feels he has been unfairly and in...\n",
              "1506    it would indeed be out of character for the tr...\n",
              "1554    joe biden told wall street donors to his campa...\n",
              "1795    navalvny has for years been accusing putin and...\n",
              "1187    here for example is a tweet video of woke hips...\n",
              "Name: clean_text, Length: 1586, dtype: object"
            ],
            "text/html": [
              "<div>\n",
              "<style scoped>\n",
              "    .dataframe tbody tr th:only-of-type {\n",
              "        vertical-align: middle;\n",
              "    }\n",
              "\n",
              "    .dataframe tbody tr th {\n",
              "        vertical-align: top;\n",
              "    }\n",
              "\n",
              "    .dataframe thead th {\n",
              "        text-align: right;\n",
              "    }\n",
              "</style>\n",
              "<table border=\"1\" class=\"dataframe\">\n",
              "  <thead>\n",
              "    <tr style=\"text-align: right;\">\n",
              "      <th></th>\n",
              "      <th>clean_text</th>\n",
              "    </tr>\n",
              "  </thead>\n",
              "  <tbody>\n",
              "    <tr>\n",
              "      <th>999</th>\n",
              "      <td>few could have anticipated that the historic r...</td>\n",
              "    </tr>\n",
              "    <tr>\n",
              "      <th>2058</th>\n",
              "      <td>president donald trump favors ending obamacare...</td>\n",
              "    </tr>\n",
              "    <tr>\n",
              "      <th>958</th>\n",
              "      <td>ever since sanders has portrayed himself as a ...</td>\n",
              "    </tr>\n",
              "    <tr>\n",
              "      <th>3135</th>\n",
              "      <td>this would be enough of a problem in normal ti...</td>\n",
              "    </tr>\n",
              "    <tr>\n",
              "      <th>441</th>\n",
              "      <td>at the time moynihan was primarily concerned t...</td>\n",
              "    </tr>\n",
              "    <tr>\n",
              "      <th>...</th>\n",
              "      <td>...</td>\n",
              "    </tr>\n",
              "    <tr>\n",
              "      <th>2269</th>\n",
              "      <td>sanders team feels he has been unfairly and in...</td>\n",
              "    </tr>\n",
              "    <tr>\n",
              "      <th>1506</th>\n",
              "      <td>it would indeed be out of character for the tr...</td>\n",
              "    </tr>\n",
              "    <tr>\n",
              "      <th>1554</th>\n",
              "      <td>joe biden told wall street donors to his campa...</td>\n",
              "    </tr>\n",
              "    <tr>\n",
              "      <th>1795</th>\n",
              "      <td>navalvny has for years been accusing putin and...</td>\n",
              "    </tr>\n",
              "    <tr>\n",
              "      <th>1187</th>\n",
              "      <td>here for example is a tweet video of woke hips...</td>\n",
              "    </tr>\n",
              "  </tbody>\n",
              "</table>\n",
              "<p>1586 rows × 1 columns</p>\n",
              "</div><br><label><b>dtype:</b> object</label>"
            ]
          },
          "metadata": {},
          "execution_count": 47
        }
      ],
      "source": [
        "xtrain"
      ],
      "id": "_DT5xKVNCeUI"
    },
    {
      "cell_type": "code",
      "source": [
        "embeddings_train = BERT_text_to_embeddings(xtrain)\n",
        "embeddings_val = BERT_text_to_embeddings(xval)\n",
        "embeddings_test = BERT_text_to_embeddings(xtest)"
      ],
      "metadata": {
        "colab": {
          "base_uri": "https://localhost:8080/"
        },
        "id": "EJXQqBpbdsZ9",
        "outputId": "af754760-4bd7-4eef-d0fb-48b85e757087"
      },
      "id": "EJXQqBpbdsZ9",
      "execution_count": 48,
      "outputs": [
        {
          "output_type": "stream",
          "name": "stdout",
          "text": [
            "Using the cuda device.\n"
          ]
        },
        {
          "output_type": "stream",
          "name": "stderr",
          "text": [
            "100%|██████████| 16/16 [00:39<00:00,  2.49s/it]\n"
          ]
        },
        {
          "output_type": "stream",
          "name": "stdout",
          "text": [
            "Using the cuda device.\n"
          ]
        },
        {
          "output_type": "stream",
          "name": "stderr",
          "text": [
            "100%|██████████| 6/6 [00:13<00:00,  2.27s/it]\n"
          ]
        },
        {
          "output_type": "stream",
          "name": "stdout",
          "text": [
            "Using the cuda device.\n"
          ]
        },
        {
          "output_type": "stream",
          "name": "stderr",
          "text": [
            "100%|██████████| 6/6 [00:14<00:00,  2.34s/it]\n"
          ]
        }
      ]
    },
    {
      "cell_type": "code",
      "source": [
        "print(le.classes_)\n",
        "print(type(le.classes_[0]))"
      ],
      "metadata": {
        "id": "k5rTFORbdsed",
        "colab": {
          "base_uri": "https://localhost:8080/"
        },
        "outputId": "1fce2dce-47fc-4be4-d31f-662073fdfa55"
      },
      "id": "k5rTFORbdsed",
      "execution_count": 49,
      "outputs": [
        {
          "output_type": "stream",
          "name": "stdout",
          "text": [
            "['biased' 'no agreement' 'non-biased']\n",
            "<class 'str'>\n"
          ]
        }
      ]
    },
    {
      "cell_type": "markdown",
      "id": "de64253d",
      "metadata": {
        "id": "de64253d"
      },
      "source": [
        "### TF-IDF & Logistic Regression:"
      ]
    },
    {
      "cell_type": "code",
      "execution_count": 50,
      "id": "410a4dbf",
      "metadata": {
        "id": "410a4dbf"
      },
      "outputs": [],
      "source": [
        "X_train, X_test, y_train, y_test = train_test_split(\n",
        "    data['lemmatize_text'], data['is_biased'], test_size=0.2, random_state=42\n",
        ")"
      ]
    },
    {
      "cell_type": "code",
      "execution_count": 51,
      "id": "ca9c9a5d",
      "metadata": {
        "id": "ca9c9a5d"
      },
      "outputs": [],
      "source": [
        "vectorizer = TfidfVectorizer(max_features=5000)\n",
        "X_train_vec = vectorizer.fit_transform(X_train)\n",
        "X_test_vec = vectorizer.transform(X_test)\n"
      ]
    },
    {
      "cell_type": "code",
      "execution_count": 52,
      "id": "4511e44e",
      "metadata": {
        "id": "4511e44e",
        "colab": {
          "base_uri": "https://localhost:8080/"
        },
        "outputId": "9bef5eac-47e5-4335-f7a0-164d9363c2c5"
      },
      "outputs": [
        {
          "output_type": "execute_result",
          "data": {
            "text/plain": [
              "(2115,)"
            ]
          },
          "metadata": {},
          "execution_count": 52
        }
      ],
      "source": [
        "X_train.shape"
      ]
    },
    {
      "cell_type": "code",
      "execution_count": 53,
      "id": "b87e1887",
      "metadata": {
        "id": "b87e1887",
        "colab": {
          "base_uri": "https://localhost:8080/"
        },
        "outputId": "47d5ab1f-05e1-4931-e556-8181feacb0e9"
      },
      "outputs": [
        {
          "output_type": "execute_result",
          "data": {
            "text/plain": [
              "(2115, 5000)"
            ]
          },
          "metadata": {},
          "execution_count": 53
        }
      ],
      "source": [
        "X_train_vec.shape"
      ]
    },
    {
      "cell_type": "code",
      "execution_count": 54,
      "id": "04795e17",
      "metadata": {
        "id": "04795e17",
        "colab": {
          "base_uri": "https://localhost:8080/"
        },
        "outputId": "9895e4fc-4fae-48ae-8812-72f61bd7663e"
      },
      "outputs": [
        {
          "output_type": "execute_result",
          "data": {
            "text/plain": [
              "(2115,)"
            ]
          },
          "metadata": {},
          "execution_count": 54
        }
      ],
      "source": [
        "y_train.shape"
      ]
    },
    {
      "cell_type": "code",
      "execution_count": 55,
      "id": "fb422447",
      "metadata": {
        "id": "fb422447",
        "colab": {
          "base_uri": "https://localhost:8080/"
        },
        "outputId": "65c125e4-d1f4-45b9-8c61-0a4eb6724bf0"
      },
      "outputs": [
        {
          "output_type": "stream",
          "name": "stdout",
          "text": [
            "Accuracy: 0.718336483931947\n",
            "[[197  67]\n",
            " [ 82 183]]\n",
            "              precision    recall  f1-score   support\n",
            "\n",
            "           0       0.71      0.75      0.73       264\n",
            "           1       0.73      0.69      0.71       265\n",
            "\n",
            "    accuracy                           0.72       529\n",
            "   macro avg       0.72      0.72      0.72       529\n",
            "weighted avg       0.72      0.72      0.72       529\n",
            "\n"
          ]
        }
      ],
      "source": [
        "model = LogisticRegression()\n",
        "model.fit(X_train_vec, y_train)\n",
        "\n",
        "y_pred = model.predict(X_test_vec)\n",
        "\n",
        "print(\"Accuracy:\", accuracy_score(y_test, y_pred))\n",
        "print(confusion_matrix(y_test, y_pred))\n",
        "print(classification_report(y_test, y_pred))"
      ]
    },
    {
      "cell_type": "code",
      "execution_count": 56,
      "id": "fe6533f4",
      "metadata": {
        "id": "fe6533f4"
      },
      "outputs": [],
      "source": [
        "param_grid = {\n",
        "    'n_estimators': [50, 100],\n",
        "    'max_depth': [None, 10, 20],\n",
        "    'min_samples_split': [2, 5],\n",
        "    'min_samples_leaf': [1, 2],\n",
        "}"
      ]
    },
    {
      "cell_type": "code",
      "execution_count": 57,
      "id": "a85173fe",
      "metadata": {
        "id": "a85173fe",
        "colab": {
          "base_uri": "https://localhost:8080/"
        },
        "outputId": "1a98a2ff-f630-4561-f52d-4955dfb0852d"
      },
      "outputs": [
        {
          "output_type": "stream",
          "name": "stdout",
          "text": [
            "Fitting 5 folds for each of 24 candidates, totalling 120 fits\n",
            "[CV] END max_depth=None, min_samples_leaf=1, min_samples_split=2, n_estimators=50; total time=   0.8s\n",
            "[CV] END max_depth=None, min_samples_leaf=1, min_samples_split=2, n_estimators=50; total time=   0.7s\n",
            "[CV] END max_depth=None, min_samples_leaf=1, min_samples_split=2, n_estimators=50; total time=   0.7s\n",
            "[CV] END max_depth=None, min_samples_leaf=1, min_samples_split=2, n_estimators=50; total time=   0.7s\n",
            "[CV] END max_depth=None, min_samples_leaf=1, min_samples_split=2, n_estimators=50; total time=   0.7s\n",
            "[CV] END max_depth=None, min_samples_leaf=1, min_samples_split=2, n_estimators=100; total time=   1.4s\n",
            "[CV] END max_depth=None, min_samples_leaf=1, min_samples_split=2, n_estimators=100; total time=   1.4s\n",
            "[CV] END max_depth=None, min_samples_leaf=1, min_samples_split=2, n_estimators=100; total time=   1.9s\n",
            "[CV] END max_depth=None, min_samples_leaf=1, min_samples_split=2, n_estimators=100; total time=   1.6s\n",
            "[CV] END max_depth=None, min_samples_leaf=1, min_samples_split=2, n_estimators=100; total time=   1.4s\n",
            "[CV] END max_depth=None, min_samples_leaf=1, min_samples_split=5, n_estimators=50; total time=   0.6s\n",
            "[CV] END max_depth=None, min_samples_leaf=1, min_samples_split=5, n_estimators=50; total time=   0.6s\n",
            "[CV] END max_depth=None, min_samples_leaf=1, min_samples_split=5, n_estimators=50; total time=   0.6s\n",
            "[CV] END max_depth=None, min_samples_leaf=1, min_samples_split=5, n_estimators=50; total time=   0.7s\n",
            "[CV] END max_depth=None, min_samples_leaf=1, min_samples_split=5, n_estimators=50; total time=   0.6s\n",
            "[CV] END max_depth=None, min_samples_leaf=1, min_samples_split=5, n_estimators=100; total time=   1.3s\n",
            "[CV] END max_depth=None, min_samples_leaf=1, min_samples_split=5, n_estimators=100; total time=   1.3s\n",
            "[CV] END max_depth=None, min_samples_leaf=1, min_samples_split=5, n_estimators=100; total time=   1.3s\n",
            "[CV] END max_depth=None, min_samples_leaf=1, min_samples_split=5, n_estimators=100; total time=   1.6s\n",
            "[CV] END max_depth=None, min_samples_leaf=1, min_samples_split=5, n_estimators=100; total time=   1.6s\n",
            "[CV] END max_depth=None, min_samples_leaf=2, min_samples_split=2, n_estimators=50; total time=   0.5s\n",
            "[CV] END max_depth=None, min_samples_leaf=2, min_samples_split=2, n_estimators=50; total time=   0.5s\n",
            "[CV] END max_depth=None, min_samples_leaf=2, min_samples_split=2, n_estimators=50; total time=   0.5s\n",
            "[CV] END max_depth=None, min_samples_leaf=2, min_samples_split=2, n_estimators=50; total time=   0.5s\n",
            "[CV] END max_depth=None, min_samples_leaf=2, min_samples_split=2, n_estimators=50; total time=   0.5s\n",
            "[CV] END max_depth=None, min_samples_leaf=2, min_samples_split=2, n_estimators=100; total time=   0.9s\n",
            "[CV] END max_depth=None, min_samples_leaf=2, min_samples_split=2, n_estimators=100; total time=   0.9s\n",
            "[CV] END max_depth=None, min_samples_leaf=2, min_samples_split=2, n_estimators=100; total time=   1.0s\n",
            "[CV] END max_depth=None, min_samples_leaf=2, min_samples_split=2, n_estimators=100; total time=   1.0s\n",
            "[CV] END max_depth=None, min_samples_leaf=2, min_samples_split=2, n_estimators=100; total time=   0.9s\n",
            "[CV] END max_depth=None, min_samples_leaf=2, min_samples_split=5, n_estimators=50; total time=   0.5s\n",
            "[CV] END max_depth=None, min_samples_leaf=2, min_samples_split=5, n_estimators=50; total time=   0.5s\n",
            "[CV] END max_depth=None, min_samples_leaf=2, min_samples_split=5, n_estimators=50; total time=   0.5s\n",
            "[CV] END max_depth=None, min_samples_leaf=2, min_samples_split=5, n_estimators=50; total time=   0.5s\n",
            "[CV] END max_depth=None, min_samples_leaf=2, min_samples_split=5, n_estimators=50; total time=   0.5s\n",
            "[CV] END max_depth=None, min_samples_leaf=2, min_samples_split=5, n_estimators=100; total time=   1.3s\n",
            "[CV] END max_depth=None, min_samples_leaf=2, min_samples_split=5, n_estimators=100; total time=   1.2s\n",
            "[CV] END max_depth=None, min_samples_leaf=2, min_samples_split=5, n_estimators=100; total time=   1.0s\n",
            "[CV] END max_depth=None, min_samples_leaf=2, min_samples_split=5, n_estimators=100; total time=   1.0s\n",
            "[CV] END max_depth=None, min_samples_leaf=2, min_samples_split=5, n_estimators=100; total time=   0.9s\n",
            "[CV] END max_depth=10, min_samples_leaf=1, min_samples_split=2, n_estimators=50; total time=   0.2s\n",
            "[CV] END max_depth=10, min_samples_leaf=1, min_samples_split=2, n_estimators=50; total time=   0.1s\n",
            "[CV] END max_depth=10, min_samples_leaf=1, min_samples_split=2, n_estimators=50; total time=   0.1s\n",
            "[CV] END max_depth=10, min_samples_leaf=1, min_samples_split=2, n_estimators=50; total time=   0.1s\n",
            "[CV] END max_depth=10, min_samples_leaf=1, min_samples_split=2, n_estimators=50; total time=   0.1s\n",
            "[CV] END max_depth=10, min_samples_leaf=1, min_samples_split=2, n_estimators=100; total time=   0.3s\n",
            "[CV] END max_depth=10, min_samples_leaf=1, min_samples_split=2, n_estimators=100; total time=   0.3s\n",
            "[CV] END max_depth=10, min_samples_leaf=1, min_samples_split=2, n_estimators=100; total time=   0.3s\n",
            "[CV] END max_depth=10, min_samples_leaf=1, min_samples_split=2, n_estimators=100; total time=   0.3s\n",
            "[CV] END max_depth=10, min_samples_leaf=1, min_samples_split=2, n_estimators=100; total time=   0.3s\n",
            "[CV] END max_depth=10, min_samples_leaf=1, min_samples_split=5, n_estimators=50; total time=   0.2s\n",
            "[CV] END max_depth=10, min_samples_leaf=1, min_samples_split=5, n_estimators=50; total time=   0.1s\n",
            "[CV] END max_depth=10, min_samples_leaf=1, min_samples_split=5, n_estimators=50; total time=   0.1s\n",
            "[CV] END max_depth=10, min_samples_leaf=1, min_samples_split=5, n_estimators=50; total time=   0.1s\n",
            "[CV] END max_depth=10, min_samples_leaf=1, min_samples_split=5, n_estimators=50; total time=   0.2s\n",
            "[CV] END max_depth=10, min_samples_leaf=1, min_samples_split=5, n_estimators=100; total time=   0.3s\n",
            "[CV] END max_depth=10, min_samples_leaf=1, min_samples_split=5, n_estimators=100; total time=   0.3s\n",
            "[CV] END max_depth=10, min_samples_leaf=1, min_samples_split=5, n_estimators=100; total time=   0.3s\n",
            "[CV] END max_depth=10, min_samples_leaf=1, min_samples_split=5, n_estimators=100; total time=   0.3s\n",
            "[CV] END max_depth=10, min_samples_leaf=1, min_samples_split=5, n_estimators=100; total time=   0.3s\n",
            "[CV] END max_depth=10, min_samples_leaf=2, min_samples_split=2, n_estimators=50; total time=   0.1s\n",
            "[CV] END max_depth=10, min_samples_leaf=2, min_samples_split=2, n_estimators=50; total time=   0.1s\n",
            "[CV] END max_depth=10, min_samples_leaf=2, min_samples_split=2, n_estimators=50; total time=   0.1s\n",
            "[CV] END max_depth=10, min_samples_leaf=2, min_samples_split=2, n_estimators=50; total time=   0.1s\n",
            "[CV] END max_depth=10, min_samples_leaf=2, min_samples_split=2, n_estimators=50; total time=   0.1s\n",
            "[CV] END max_depth=10, min_samples_leaf=2, min_samples_split=2, n_estimators=100; total time=   0.3s\n",
            "[CV] END max_depth=10, min_samples_leaf=2, min_samples_split=2, n_estimators=100; total time=   0.3s\n",
            "[CV] END max_depth=10, min_samples_leaf=2, min_samples_split=2, n_estimators=100; total time=   0.3s\n",
            "[CV] END max_depth=10, min_samples_leaf=2, min_samples_split=2, n_estimators=100; total time=   0.3s\n",
            "[CV] END max_depth=10, min_samples_leaf=2, min_samples_split=2, n_estimators=100; total time=   0.3s\n",
            "[CV] END max_depth=10, min_samples_leaf=2, min_samples_split=5, n_estimators=50; total time=   0.1s\n",
            "[CV] END max_depth=10, min_samples_leaf=2, min_samples_split=5, n_estimators=50; total time=   0.1s\n",
            "[CV] END max_depth=10, min_samples_leaf=2, min_samples_split=5, n_estimators=50; total time=   0.2s\n",
            "[CV] END max_depth=10, min_samples_leaf=2, min_samples_split=5, n_estimators=50; total time=   0.2s\n",
            "[CV] END max_depth=10, min_samples_leaf=2, min_samples_split=5, n_estimators=50; total time=   0.2s\n",
            "[CV] END max_depth=10, min_samples_leaf=2, min_samples_split=5, n_estimators=100; total time=   0.4s\n",
            "[CV] END max_depth=10, min_samples_leaf=2, min_samples_split=5, n_estimators=100; total time=   0.4s\n",
            "[CV] END max_depth=10, min_samples_leaf=2, min_samples_split=5, n_estimators=100; total time=   0.4s\n",
            "[CV] END max_depth=10, min_samples_leaf=2, min_samples_split=5, n_estimators=100; total time=   0.4s\n",
            "[CV] END max_depth=10, min_samples_leaf=2, min_samples_split=5, n_estimators=100; total time=   0.3s\n",
            "[CV] END max_depth=20, min_samples_leaf=1, min_samples_split=2, n_estimators=50; total time=   0.2s\n",
            "[CV] END max_depth=20, min_samples_leaf=1, min_samples_split=2, n_estimators=50; total time=   0.2s\n",
            "[CV] END max_depth=20, min_samples_leaf=1, min_samples_split=2, n_estimators=50; total time=   0.2s\n",
            "[CV] END max_depth=20, min_samples_leaf=1, min_samples_split=2, n_estimators=50; total time=   0.2s\n",
            "[CV] END max_depth=20, min_samples_leaf=1, min_samples_split=2, n_estimators=50; total time=   0.2s\n",
            "[CV] END max_depth=20, min_samples_leaf=1, min_samples_split=2, n_estimators=100; total time=   0.5s\n",
            "[CV] END max_depth=20, min_samples_leaf=1, min_samples_split=2, n_estimators=100; total time=   0.5s\n",
            "[CV] END max_depth=20, min_samples_leaf=1, min_samples_split=2, n_estimators=100; total time=   0.5s\n",
            "[CV] END max_depth=20, min_samples_leaf=1, min_samples_split=2, n_estimators=100; total time=   0.5s\n",
            "[CV] END max_depth=20, min_samples_leaf=1, min_samples_split=2, n_estimators=100; total time=   0.5s\n",
            "[CV] END max_depth=20, min_samples_leaf=1, min_samples_split=5, n_estimators=50; total time=   0.2s\n",
            "[CV] END max_depth=20, min_samples_leaf=1, min_samples_split=5, n_estimators=50; total time=   0.2s\n",
            "[CV] END max_depth=20, min_samples_leaf=1, min_samples_split=5, n_estimators=50; total time=   0.2s\n",
            "[CV] END max_depth=20, min_samples_leaf=1, min_samples_split=5, n_estimators=50; total time=   0.2s\n",
            "[CV] END max_depth=20, min_samples_leaf=1, min_samples_split=5, n_estimators=50; total time=   0.2s\n",
            "[CV] END max_depth=20, min_samples_leaf=1, min_samples_split=5, n_estimators=100; total time=   0.4s\n",
            "[CV] END max_depth=20, min_samples_leaf=1, min_samples_split=5, n_estimators=100; total time=   0.4s\n",
            "[CV] END max_depth=20, min_samples_leaf=1, min_samples_split=5, n_estimators=100; total time=   0.5s\n",
            "[CV] END max_depth=20, min_samples_leaf=1, min_samples_split=5, n_estimators=100; total time=   0.4s\n",
            "[CV] END max_depth=20, min_samples_leaf=1, min_samples_split=5, n_estimators=100; total time=   0.4s\n",
            "[CV] END max_depth=20, min_samples_leaf=2, min_samples_split=2, n_estimators=50; total time=   0.2s\n",
            "[CV] END max_depth=20, min_samples_leaf=2, min_samples_split=2, n_estimators=50; total time=   0.2s\n",
            "[CV] END max_depth=20, min_samples_leaf=2, min_samples_split=2, n_estimators=50; total time=   0.2s\n",
            "[CV] END max_depth=20, min_samples_leaf=2, min_samples_split=2, n_estimators=50; total time=   0.2s\n",
            "[CV] END max_depth=20, min_samples_leaf=2, min_samples_split=2, n_estimators=50; total time=   0.2s\n",
            "[CV] END max_depth=20, min_samples_leaf=2, min_samples_split=2, n_estimators=100; total time=   0.4s\n",
            "[CV] END max_depth=20, min_samples_leaf=2, min_samples_split=2, n_estimators=100; total time=   0.4s\n",
            "[CV] END max_depth=20, min_samples_leaf=2, min_samples_split=2, n_estimators=100; total time=   0.4s\n",
            "[CV] END max_depth=20, min_samples_leaf=2, min_samples_split=2, n_estimators=100; total time=   0.4s\n",
            "[CV] END max_depth=20, min_samples_leaf=2, min_samples_split=2, n_estimators=100; total time=   0.4s\n",
            "[CV] END max_depth=20, min_samples_leaf=2, min_samples_split=5, n_estimators=50; total time=   0.3s\n",
            "[CV] END max_depth=20, min_samples_leaf=2, min_samples_split=5, n_estimators=50; total time=   0.3s\n",
            "[CV] END max_depth=20, min_samples_leaf=2, min_samples_split=5, n_estimators=50; total time=   0.3s\n",
            "[CV] END max_depth=20, min_samples_leaf=2, min_samples_split=5, n_estimators=50; total time=   0.3s\n",
            "[CV] END max_depth=20, min_samples_leaf=2, min_samples_split=5, n_estimators=50; total time=   0.3s\n",
            "[CV] END max_depth=20, min_samples_leaf=2, min_samples_split=5, n_estimators=100; total time=   0.5s\n",
            "[CV] END max_depth=20, min_samples_leaf=2, min_samples_split=5, n_estimators=100; total time=   0.5s\n",
            "[CV] END max_depth=20, min_samples_leaf=2, min_samples_split=5, n_estimators=100; total time=   0.4s\n",
            "[CV] END max_depth=20, min_samples_leaf=2, min_samples_split=5, n_estimators=100; total time=   0.4s\n",
            "[CV] END max_depth=20, min_samples_leaf=2, min_samples_split=5, n_estimators=100; total time=   0.4s\n",
            "Best Parameters: {'max_depth': None, 'min_samples_leaf': 1, 'min_samples_split': 5, 'n_estimators': 50}\n"
          ]
        }
      ],
      "source": [
        "model_rf = RandomForestClassifier(random_state=7)\n",
        "\n",
        "grid_search = GridSearchCV(\n",
        "    estimator=model_rf,\n",
        "    param_grid=param_grid,\n",
        "    cv=5,\n",
        "    scoring='f1',\n",
        "    verbose=2,\n",
        ")\n",
        "\n",
        "grid_search.fit(X_train_vec, y_train)\n",
        "\n",
        "print(\"Best Parameters:\", grid_search.best_params_)\n",
        "\n",
        "best_rf = grid_search.best_estimator_\n",
        "y_pred = best_rf.predict(X_test_vec)"
      ]
    },
    {
      "cell_type": "code",
      "execution_count": 58,
      "id": "d2214cae",
      "metadata": {
        "id": "d2214cae",
        "colab": {
          "base_uri": "https://localhost:8080/"
        },
        "outputId": "b8981be6-5dbd-46c0-f167-e60002965cc2"
      },
      "outputs": [
        {
          "output_type": "stream",
          "name": "stdout",
          "text": [
            "Accuracy: 0.6710775047258979\n",
            "[[179  85]\n",
            " [ 89 176]]\n",
            "              precision    recall  f1-score   support\n",
            "\n",
            "           0       0.67      0.68      0.67       264\n",
            "           1       0.67      0.66      0.67       265\n",
            "\n",
            "    accuracy                           0.67       529\n",
            "   macro avg       0.67      0.67      0.67       529\n",
            "weighted avg       0.67      0.67      0.67       529\n",
            "\n"
          ]
        }
      ],
      "source": [
        "print(\"Accuracy:\", accuracy_score(y_test, y_pred))\n",
        "print(confusion_matrix(y_test, y_pred))\n",
        "print(classification_report(y_test, y_pred))"
      ]
    },
    {
      "cell_type": "code",
      "execution_count": 59,
      "id": "380985d9",
      "metadata": {
        "id": "380985d9"
      },
      "outputs": [],
      "source": [
        "param_grid = {\n",
        "    'n_estimators': [50, 100,],\n",
        "    'learning_rate': [0.01, 0.05, 0.1],\n",
        "    'max_depth': [3, 4, 5],\n",
        "    'subsample': [0.7, 0.8, 1.0],\n",
        "    'colsample_bytree': [0.7, 0.8, 1.0],\n",
        "    'scale_pos_weight': [1, 2, 3],\n",
        "}"
      ]
    },
    {
      "cell_type": "markdown",
      "source": [
        "## XGB Classifier:"
      ],
      "metadata": {
        "id": "9zsnJhPsd6f-"
      },
      "id": "9zsnJhPsd6f-"
    },
    {
      "cell_type": "code",
      "execution_count": null,
      "id": "bf14dae5",
      "metadata": {
        "id": "bf14dae5",
        "colab": {
          "base_uri": "https://localhost:8080/"
        },
        "outputId": "f6ecb690-fd19-472a-ba85-6c42d8cb29b0"
      },
      "outputs": [
        {
          "output_type": "stream",
          "name": "stdout",
          "text": [
            "Fitting 3 folds for each of 486 candidates, totalling 1458 fits\n"
          ]
        }
      ],
      "source": [
        "model_xg = XGBClassifier(eval_metric='logloss')\n",
        "\n",
        "grid_search = GridSearchCV(estimator=model_xg, param_grid=param_grid,\n",
        "                           scoring='f1', cv=3, verbose=1, n_jobs=-1)\n",
        "\n",
        "grid_search.fit(X_train_vec, y_train)\n",
        "\n",
        "print(\"Best Hyperparameters:\", grid_search.best_params_)\n",
        "\n",
        "best_model = grid_search.best_estimator_\n",
        "y_pred = best_model.predict(X_test_vec)\n",
        "\n",
        "print(\"Accuracy:\", accuracy_score(y_test, y_pred))\n",
        "print(confusion_matrix(y_test, y_pred))\n",
        "print(classification_report(y_test, y_pred))"
      ]
    },
    {
      "cell_type": "markdown",
      "source": [
        "## LGBM Classifier:"
      ],
      "metadata": {
        "id": "vx3lsFxOeJ_8"
      },
      "id": "vx3lsFxOeJ_8"
    },
    {
      "cell_type": "code",
      "execution_count": null,
      "id": "17f2e017",
      "metadata": {
        "id": "17f2e017"
      },
      "outputs": [],
      "source": [
        "param_grid = {\n",
        "    'num_leaves': [15, 31, 63],\n",
        "    'learning_rate': [0.01, 0.05, 0.1],\n",
        "    'n_estimators': [100],\n",
        "    'max_depth': [-1, 10, 20],\n",
        "}"
      ]
    },
    {
      "cell_type": "code",
      "execution_count": null,
      "id": "730d1de6",
      "metadata": {
        "id": "730d1de6"
      },
      "outputs": [],
      "source": [
        "model_lg = LGBMClassifier(eval_metric='logloss')\n",
        "\n",
        "grid_search = GridSearchCV(estimator=model_lg, param_grid=param_grid,\n",
        "                           scoring='f1', cv=3, verbose=1)\n",
        "\n",
        "grid_search.fit(X_train_vec, y_train)\n",
        "\n",
        "print(\"Best Hyperparameters:\", grid_search.best_params_)\n",
        "\n",
        "best_model = grid_search.best_estimator_\n",
        "y_pred = best_model.predict(X_test_vec)"
      ]
    },
    {
      "cell_type": "code",
      "execution_count": null,
      "id": "b2e2728c",
      "metadata": {
        "id": "b2e2728c"
      },
      "outputs": [],
      "source": [
        "print(\"Accuracy:\", accuracy_score(y_test, y_pred))\n",
        "print(confusion_matrix(y_test, y_pred))\n",
        "print(classification_report(y_test, y_pred))"
      ]
    },
    {
      "cell_type": "markdown",
      "source": [
        "## Neural Network with Keras"
      ],
      "metadata": {
        "id": "vqDIXIuNeSsE"
      },
      "id": "vqDIXIuNeSsE"
    },
    {
      "cell_type": "code",
      "source": [
        "ytrain_nn = ytrain.values\n",
        "yval_nn = yval.values\n",
        "ytest_nn = ytest.values"
      ],
      "metadata": {
        "id": "LudSPTmxeUm2"
      },
      "id": "LudSPTmxeUm2",
      "execution_count": null,
      "outputs": []
    },
    {
      "cell_type": "code",
      "source": [
        "model = Sequential([\n",
        "    Dense(512, activation='gelu', input_shape=(embeddings_train.shape[1],)),\n",
        "    Dropout(0.3),\n",
        "    Dense(256, activation='gelu'),\n",
        "    Dropout(0.3),\n",
        "    # Dense(128, activation='gelu'),\n",
        "    # Dropout(0.3),\n",
        "    # Dense(64, activation='gelu'),\n",
        "    # Dropout(0.3),\n",
        "    Dense(len(set(ytrain)), activation='softmax')\n",
        "])\n",
        "\n",
        "\n",
        "model.compile(\n",
        "    optimizer=tf.keras.optimizers.Adam(learning_rate=0.0001),\n",
        "    loss='sparse_categorical_crossentropy',  # use this for integer labels\n",
        "    metrics=['accuracy']\n",
        ")\n"
      ],
      "metadata": {
        "id": "KFKfCgJ4eUrb"
      },
      "id": "KFKfCgJ4eUrb",
      "execution_count": null,
      "outputs": []
    },
    {
      "cell_type": "code",
      "source": [
        "early_stop = EarlyStopping(monitor='val_loss', patience=3, restore_best_weights=True)\n",
        "\n",
        "history = model.fit(\n",
        "    embeddings_train, ytrain,\n",
        "    validation_data=(embeddings_val, yval),\n",
        "    epochs=60,\n",
        "    batch_size=32,\n",
        "    callbacks=[early_stop],\n",
        "    verbose=1\n",
        ")"
      ],
      "metadata": {
        "id": "na_m_j7jeU6n"
      },
      "id": "na_m_j7jeU6n",
      "execution_count": null,
      "outputs": []
    },
    {
      "cell_type": "code",
      "source": [
        "# Get unique labels from ytest and ypred\n",
        "unique_labels = np.unique(np.concatenate((ytest, ypred)))\n",
        "\n",
        "# Filter le.classes_ to include only the unique labels\n",
        "display_labels = [label for label in le.classes_ if label in unique_labels.astype(type(le.classes_[0]))] #convert unique labels to the correct type\n",
        "ypred = model.predict(embeddings_test).argmax(axis=1)\n",
        "# Plot the confusion matrix with the filtered display labels\n",
        "ConfusionMatrixDisplay.from_predictions(ytest, ypred, display_labels=display_labels)"
      ],
      "metadata": {
        "id": "Gr8YI_G6U7NF"
      },
      "id": "Gr8YI_G6U7NF",
      "execution_count": null,
      "outputs": []
    },
    {
      "cell_type": "code",
      "source": [
        "# Neural Network\n",
        "ypred_nn = model.predict(embeddings_test).argmax(axis=1)\n",
        "accuracy_nn = accuracy_score(ytest, ypred_nn)\n",
        "print(f\"Neural Network Accuracy: {accuracy_nn}\")\n"
      ],
      "metadata": {
        "id": "AxCdL4eONZZp"
      },
      "id": "AxCdL4eONZZp",
      "execution_count": null,
      "outputs": []
    },
    {
      "cell_type": "markdown",
      "source": [
        "The neural network is the best performing one so this will be used."
      ],
      "metadata": {
        "id": "z4OUfv19eqoj"
      },
      "id": "z4OUfv19eqoj"
    },
    {
      "cell_type": "markdown",
      "id": "d0321534",
      "metadata": {
        "id": "d0321534"
      },
      "source": [
        "## 4. You need to have a prediction function that can take in a new wikipedia article and predict how biased it is. You can do this by predicting if each sentence in an article is biased, then perhaps scaling the results by the length of the article to get somewhat of a“bias score”"
      ]
    },
    {
      "cell_type": "code",
      "source": [
        "def get_bias_score(article_text, bert_model, classifier_model, le):\n",
        "    \"\"\"\n",
        "    Predicts how biased a Wikipedia article is using a BERT + Keras classifier.\n",
        "    Returns a float between 0 and 1.\n",
        "    \"\"\"\n",
        "    sentences = sent_tokenize(article_text)\n",
        "    if not sentences:\n",
        "        return 0.0\n",
        "\n",
        "    embeddings = BERT_text_to_embeddings(sentences)\n",
        "  #added tokenizer=tokenizer, bert_model=bert_model) as suggested\n",
        "    preds = classifier_model.predict(embeddings)\n",
        "    predicted_classes = np.argmax(preds, axis=1)\n",
        "\n",
        "    # Get the integer value that corresponds to 'biased'\n",
        "    biased_index = np.where(le.classes_ == 'biased')[0][0]\n",
        "    bias_score = np.mean(predicted_classes == biased_index)\n",
        "\n",
        "    return round(bias_score, 3)"
      ],
      "metadata": {
        "id": "AG8O7uYRfemp"
      },
      "id": "AG8O7uYRfemp",
      "execution_count": null,
      "outputs": []
    },
    {
      "cell_type": "code",
      "execution_count": null,
      "id": "b18d7acb",
      "metadata": {
        "id": "b18d7acb"
      },
      "outputs": [],
      "source": [
        "import requests\n",
        "\n",
        "def get_wikipedia_article(title, lang='en'):\n",
        "    \"\"\"\n",
        "    Robustly fetches the plain text content of a Wikipedia article using the MediaWiki API.\n",
        "    Supports redirects and unusual titles.\n",
        "    \"\"\"\n",
        "    api_url = f\"https://{lang}.wikipedia.org/w/api.php\"\n",
        "    params = {\n",
        "        \"action\": \"query\",\n",
        "        \"format\": \"json\",\n",
        "        \"prop\": \"extracts\",\n",
        "        \"explaintext\": True,\n",
        "        \"redirects\": 1,\n",
        "        \"titles\": title\n",
        "    }\n",
        "\n",
        "    response = requests.get(api_url, params=params)\n",
        "    data = response.json()\n",
        "\n",
        "    pages = data[\"query\"][\"pages\"]\n",
        "    page = next(iter(pages.values()))\n",
        "\n",
        "    if \"extract\" in page:\n",
        "        print(f\"✅ Article found: {title}\")\n",
        "        return page[\"extract\"]\n",
        "    else:\n",
        "        print(f\"❌ Article not found: {title}\")\n",
        "        return None"
      ]
    },
    {
      "cell_type": "code",
      "source": [
        "sample_article = \"\"\"\n",
        "The politician claimed the tax cut would help the middle class, but experts say it overwhelmingly benefits the wealthy.\n",
        "Critics have called this policy a disaster, citing numerous studies.\n",
        "Meanwhile, supporters insist the economy has improved as a result.\n",
        "\"\"\"\n",
        "\n",
        "bias_score = get_bias_score(sample_article, bert_model=bert_model, classifier_model=model, le=le)\n",
        "print(\"Bias Score:\", bias_score)"
      ],
      "metadata": {
        "id": "IhS-rI2jgJEd"
      },
      "id": "IhS-rI2jgJEd",
      "execution_count": null,
      "outputs": []
    },
    {
      "cell_type": "code",
      "source": [
        "print(\"Label mapping:\", list(le.classes_))"
      ],
      "metadata": {
        "id": "odq32P2wgJPr"
      },
      "id": "odq32P2wgJPr",
      "execution_count": null,
      "outputs": []
    },
    {
      "cell_type": "code",
      "execution_count": null,
      "id": "fc33714b",
      "metadata": {
        "id": "fc33714b"
      },
      "outputs": [],
      "source": [
        "article_text = get_wikipedia_article(\"2024 United States presidential election\")\n",
        "\n",
        "print(article_text)"
      ]
    },
    {
      "cell_type": "code",
      "source": [
        "if article_text:\n",
        "   bias_score = get_bias_score(article_text, bert_model=bert_model, classifier_model=model, le=le) # Corrected argument order\n",
        "   print(\"Bias score:\", bias_score)\n"
      ],
      "metadata": {
        "id": "E5P-tvbqgSru"
      },
      "id": "E5P-tvbqgSru",
      "execution_count": null,
      "outputs": []
    },
    {
      "cell_type": "code",
      "execution_count": null,
      "id": "4a5566f6",
      "metadata": {
        "id": "4a5566f6"
      },
      "outputs": [],
      "source": [
        "lemmatizer = WordNetLemmatizer()\n",
        "\n",
        "def clean_and_lemmatize(text):\n",
        "    text = re.sub(r'[^a-zA-Z\\s]', '', text)\n",
        "    text = text.lower()\n",
        "    tokens = text.split()\n",
        "    lemmatized = [lemmatizer.lemmatize(token) for token in tokens]\n",
        "    return ' '.join(lemmatized)\n",
        "\n",
        "sentences = sent_tokenize(article_text)\n",
        "cleaned_sentences = [clean_and_lemmatize(s) for s in sentences]"
      ]
    },
    {
      "cell_type": "code",
      "execution_count": null,
      "id": "930fd218",
      "metadata": {
        "id": "930fd218"
      },
      "outputs": [],
      "source": [
        "display(cleaned_sentences)"
      ]
    },
    {
      "cell_type": "code",
      "execution_count": null,
      "id": "e6cead07",
      "metadata": {
        "id": "e6cead07"
      },
      "outputs": [],
      "source": [
        "vectorizer = TfidfVectorizer(max_features=5000)\n",
        "# Fit the vectorizer to training data (e.g., cleaned_sentences)\n",
        "vectorizer.fit(cleaned_sentences) # this line is added to fit the vectorizer\n",
        "x_article_vec = vectorizer.transform(cleaned_sentences) #then we can transform the data"
      ]
    },
    {
      "cell_type": "code",
      "execution_count": null,
      "id": "b702fd4f",
      "metadata": {
        "id": "b702fd4f"
      },
      "outputs": [],
      "source": [
        "# Get BERT embeddings for the sentences\n",
        "embeddings_article = BERT_text_to_embeddings(cleaned_sentences)\n",
        "\n",
        "# Make predictions using the Keras model\n",
        "predictions = model.predict(embeddings_article)\n",
        "\n",
        "# Calculate bias score\n",
        "bias_score = predictions.sum() / len(predictions)\n",
        "#change 2\n",
        "#predictions = model.predict(x_article_vec)"
      ]
    },
    {
      "cell_type": "code",
      "execution_count": null,
      "id": "8e1b205e",
      "metadata": {
        "id": "8e1b205e"
      },
      "outputs": [],
      "source": [
        "bias_score = predictions.sum() / len(predictions)"
      ]
    },
    {
      "cell_type": "code",
      "execution_count": null,
      "id": "dfd4837c",
      "metadata": {
        "id": "dfd4837c"
      },
      "outputs": [],
      "source": [
        "df_sent = pd.Series(sentences, name='sentence')\n",
        "df_clean = pd.Series(cleaned_sentences, name='cleaned')\n",
        "# Extract the predicted probabilities for the 'biased' class (assuming it's the second class)\n",
        "df_pred = pd.Series(predictions[:, 1], name='is_biased')\n",
        "results_df = pd.concat([df_sent, df_clean, df_pred], axis=1)"
      ]
    },
    {
      "cell_type": "code",
      "execution_count": null,
      "id": "9706d509",
      "metadata": {
        "id": "9706d509"
      },
      "outputs": [],
      "source": [
        "bias_score = results_df['is_biased'].sum() / len(results_df)\n",
        "\n",
        "bias_score = round(bias_score, 2)\n",
        "\n",
        "print(f\"Bias Score for this article: {bias_score}\")"
      ]
    },
    {
      "cell_type": "code",
      "source": [
        "#Bubble chart showing article distribution across bias types\n",
        "\n",
        "#results_df is  DataFrame with 'sentence', 'cleaned', and 'is_biased' columns\n",
        "plt.figure(figsize=(10, 6))\n",
        "plt.scatter(results_df.index, results_df['is_biased'], s=results_df['is_biased'] * 100, alpha=1)  # Adjust marker size as needed\n",
        "plt.xlabel('Sentence Index')\n",
        "plt.ylabel('Bias Probability')\n",
        "plt.title('Bias Probability Distribution across Sentences')\n",
        "plt.grid(True)\n",
        "plt.show()\n"
      ],
      "metadata": {
        "id": "12Cy6RYLKCWk"
      },
      "id": "12Cy6RYLKCWk",
      "execution_count": null,
      "outputs": []
    },
    {
      "cell_type": "markdown",
      "source": [
        "## Conclusion"
      ],
      "metadata": {
        "id": "d4TQpp_CQJ2N"
      },
      "id": "d4TQpp_CQJ2N"
    }
  ],
  "metadata": {
    "colab": {
      "provenance": [],
      "gpuType": "T4"
    },
    "kernelspec": {
      "display_name": "Python 3",
      "name": "python3"
    },
    "language_info": {
      "codemirror_mode": {
        "name": "ipython",
        "version": 3
      },
      "file_extension": ".py",
      "mimetype": "text/x-python",
      "name": "python",
      "nbconvert_exporter": "python",
      "pygments_lexer": "ipython3",
      "version": "3.12.4"
    },
    "accelerator": "GPU"
  },
  "nbformat": 4,
  "nbformat_minor": 5
}