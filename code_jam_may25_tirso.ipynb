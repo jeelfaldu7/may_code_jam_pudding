{
  "nbformat": 4,
  "nbformat_minor": 0,
  "metadata": {
    "colab": {
      "provenance": [],
      "toc_visible": true,
      "gpuType": "T4"
    },
    "kernelspec": {
      "name": "python3",
      "display_name": "Python 3"
    },
    "language_info": {
      "name": "python"
    },
    "accelerator": "GPU"
  },
  "cells": [
    {
      "cell_type": "code",
      "execution_count": 39,
      "metadata": {
        "colab": {
          "base_uri": "https://localhost:8080/"
        },
        "id": "OgbUSb8sOpvk",
        "outputId": "fbea911e-a3c9-47ad-9b1b-45abd3b26a19"
      },
      "outputs": [
        {
          "output_type": "stream",
          "name": "stdout",
          "text": [
            "Drive already mounted at /content/drive; to attempt to forcibly remount, call drive.mount(\"/content/drive\", force_remount=True).\n"
          ]
        }
      ],
      "source": [
        "from google.colab import drive\n",
        "drive.mount('/content/drive')"
      ]
    },
    {
      "cell_type": "markdown",
      "source": [
        "# Libraries"
      ],
      "metadata": {
        "id": "E6ZV3SuGAp68"
      }
    },
    {
      "cell_type": "code",
      "source": [
        "import pandas as pd\n",
        "from sklearn.model_selection import train_test_split\n",
        "from sklearn.metrics import accuracy_score, f1_score, precision_score, recall_score\n",
        "from nltk.tokenize import sent_tokenize\n",
        "import tensorflow as tf\n",
        "import numpy as np\n",
        "from nltk.tokenize import sent_tokenize\n"
      ],
      "metadata": {
        "id": "P1RWM7_RO1dQ"
      },
      "execution_count": 40,
      "outputs": []
    },
    {
      "cell_type": "markdown",
      "source": [
        "# Loading Data"
      ],
      "metadata": {
        "id": "YBBe73bZAtn-"
      }
    },
    {
      "cell_type": "code",
      "source": [
        "ds = pd.read_csv('/content/drive/MyDrive/datasets/code_jam_may25/data/final_labels_SG2.csv', sep=';')"
      ],
      "metadata": {
        "id": "Kdu6SAq5P7EV"
      },
      "execution_count": 41,
      "outputs": []
    },
    {
      "cell_type": "code",
      "source": [
        "ds"
      ],
      "metadata": {
        "id": "YWCPag9wQGwd",
        "colab": {
          "base_uri": "https://localhost:8080/",
          "height": 947
        },
        "outputId": "bebd4fa2-07d7-457e-cc20-d77e46a5e09e"
      },
      "execution_count": 42,
      "outputs": [
        {
          "output_type": "execute_result",
          "data": {
            "text/plain": [
              "                                                   text  \\\n",
              "0     \"Orange Is the New Black\" star Yael Stone is r...   \n",
              "1     \"We have one beautiful law,\" Trump recently sa...   \n",
              "2     ...immigrants as criminals and eugenics, all o...   \n",
              "3     ...we sounded the alarm in the early months of...   \n",
              "4     [Black Lives Matter] is essentially a non-fals...   \n",
              "...                                                 ...   \n",
              "3669  You’ve heard of Jim Crow and Southern Segregat...   \n",
              "3670  Young female athletes’ dreams and accomplishme...   \n",
              "3671  Young white men, reacting to social and educat...   \n",
              "3672  Young women taking part in high school and col...   \n",
              "3673  YouTube is making clear there will be no “birt...   \n",
              "\n",
              "                                              news_link      outlet  \\\n",
              "0     https://www.foxnews.com/entertainment/australi...    Fox News   \n",
              "1     https://www.alternet.org/2020/06/law-and-order...    Alternet   \n",
              "2     https://www.nbcnews.com/news/latino/after-step...       MSNBC   \n",
              "3     https://www.alternet.org/2019/07/fox-news-has-...    Alternet   \n",
              "4     http://feedproxy.google.com/~r/breitbart/~3/-v...   Breitbart   \n",
              "...                                                 ...         ...   \n",
              "3669  http://feedproxy.google.com/~r/breitbart/~3/ei...   Breitbart   \n",
              "3670  http://feedproxy.google.com/~r/breitbart/~3/eW...   Breitbart   \n",
              "3671  https://thefederalist.com/2016/05/23/how-anti-...  Federalist   \n",
              "3672                                                NaN   Breitbart   \n",
              "3673  https://eu.usatoday.com/story/tech/2020/02/03/...   USA Today   \n",
              "\n",
              "                  topic    type  label_bias  \\\n",
              "0           environment   right  Non-biased   \n",
              "1           gun control    left      Biased   \n",
              "2     white-nationalism    left      Biased   \n",
              "3     white-nationalism    left      Biased   \n",
              "4     marriage-equality     NaN      Biased   \n",
              "...                 ...     ...         ...   \n",
              "3669  marriage-equality     NaN      Biased   \n",
              "3670  marriage-equality     NaN      Biased   \n",
              "3671  white-nationalism   right      Biased   \n",
              "3672              sport   right      Biased   \n",
              "3673     elections-2020  center      Biased   \n",
              "\n",
              "                              label_opinion  \\\n",
              "0                          Entirely factual   \n",
              "1     Somewhat factual but also opinionated   \n",
              "2                Expresses writer’s opinion   \n",
              "3     Somewhat factual but also opinionated   \n",
              "4                Expresses writer’s opinion   \n",
              "...                                     ...   \n",
              "3669             Expresses writer’s opinion   \n",
              "3670             Expresses writer’s opinion   \n",
              "3671             Expresses writer’s opinion   \n",
              "3672  Somewhat factual but also opinionated   \n",
              "3673                       Entirely factual   \n",
              "\n",
              "                            biased_words  \n",
              "0                                     []  \n",
              "1      ['bizarre', 'characteristically']  \n",
              "2     ['criminals', 'fringe', 'extreme']  \n",
              "3                                     []  \n",
              "4                               ['cult']  \n",
              "...                                  ...  \n",
              "3669                             ['ALL']  \n",
              "3670            ['dashed', '\"identify\"']  \n",
              "3671                   ['evil', 'white']  \n",
              "3672            ['dashed', '\"identify\"']  \n",
              "3673                      ['birtherism']  \n",
              "\n",
              "[3674 rows x 8 columns]"
            ],
            "text/html": [
              "\n",
              "  <div id=\"df-21bd45c7-e9c3-47ec-b0a9-eec9e9133dd4\" class=\"colab-df-container\">\n",
              "    <div>\n",
              "<style scoped>\n",
              "    .dataframe tbody tr th:only-of-type {\n",
              "        vertical-align: middle;\n",
              "    }\n",
              "\n",
              "    .dataframe tbody tr th {\n",
              "        vertical-align: top;\n",
              "    }\n",
              "\n",
              "    .dataframe thead th {\n",
              "        text-align: right;\n",
              "    }\n",
              "</style>\n",
              "<table border=\"1\" class=\"dataframe\">\n",
              "  <thead>\n",
              "    <tr style=\"text-align: right;\">\n",
              "      <th></th>\n",
              "      <th>text</th>\n",
              "      <th>news_link</th>\n",
              "      <th>outlet</th>\n",
              "      <th>topic</th>\n",
              "      <th>type</th>\n",
              "      <th>label_bias</th>\n",
              "      <th>label_opinion</th>\n",
              "      <th>biased_words</th>\n",
              "    </tr>\n",
              "  </thead>\n",
              "  <tbody>\n",
              "    <tr>\n",
              "      <th>0</th>\n",
              "      <td>\"Orange Is the New Black\" star Yael Stone is r...</td>\n",
              "      <td>https://www.foxnews.com/entertainment/australi...</td>\n",
              "      <td>Fox News</td>\n",
              "      <td>environment</td>\n",
              "      <td>right</td>\n",
              "      <td>Non-biased</td>\n",
              "      <td>Entirely factual</td>\n",
              "      <td>[]</td>\n",
              "    </tr>\n",
              "    <tr>\n",
              "      <th>1</th>\n",
              "      <td>\"We have one beautiful law,\" Trump recently sa...</td>\n",
              "      <td>https://www.alternet.org/2020/06/law-and-order...</td>\n",
              "      <td>Alternet</td>\n",
              "      <td>gun control</td>\n",
              "      <td>left</td>\n",
              "      <td>Biased</td>\n",
              "      <td>Somewhat factual but also opinionated</td>\n",
              "      <td>['bizarre', 'characteristically']</td>\n",
              "    </tr>\n",
              "    <tr>\n",
              "      <th>2</th>\n",
              "      <td>...immigrants as criminals and eugenics, all o...</td>\n",
              "      <td>https://www.nbcnews.com/news/latino/after-step...</td>\n",
              "      <td>MSNBC</td>\n",
              "      <td>white-nationalism</td>\n",
              "      <td>left</td>\n",
              "      <td>Biased</td>\n",
              "      <td>Expresses writer’s opinion</td>\n",
              "      <td>['criminals', 'fringe', 'extreme']</td>\n",
              "    </tr>\n",
              "    <tr>\n",
              "      <th>3</th>\n",
              "      <td>...we sounded the alarm in the early months of...</td>\n",
              "      <td>https://www.alternet.org/2019/07/fox-news-has-...</td>\n",
              "      <td>Alternet</td>\n",
              "      <td>white-nationalism</td>\n",
              "      <td>left</td>\n",
              "      <td>Biased</td>\n",
              "      <td>Somewhat factual but also opinionated</td>\n",
              "      <td>[]</td>\n",
              "    </tr>\n",
              "    <tr>\n",
              "      <th>4</th>\n",
              "      <td>[Black Lives Matter] is essentially a non-fals...</td>\n",
              "      <td>http://feedproxy.google.com/~r/breitbart/~3/-v...</td>\n",
              "      <td>Breitbart</td>\n",
              "      <td>marriage-equality</td>\n",
              "      <td>NaN</td>\n",
              "      <td>Biased</td>\n",
              "      <td>Expresses writer’s opinion</td>\n",
              "      <td>['cult']</td>\n",
              "    </tr>\n",
              "    <tr>\n",
              "      <th>...</th>\n",
              "      <td>...</td>\n",
              "      <td>...</td>\n",
              "      <td>...</td>\n",
              "      <td>...</td>\n",
              "      <td>...</td>\n",
              "      <td>...</td>\n",
              "      <td>...</td>\n",
              "      <td>...</td>\n",
              "    </tr>\n",
              "    <tr>\n",
              "      <th>3669</th>\n",
              "      <td>You’ve heard of Jim Crow and Southern Segregat...</td>\n",
              "      <td>http://feedproxy.google.com/~r/breitbart/~3/ei...</td>\n",
              "      <td>Breitbart</td>\n",
              "      <td>marriage-equality</td>\n",
              "      <td>NaN</td>\n",
              "      <td>Biased</td>\n",
              "      <td>Expresses writer’s opinion</td>\n",
              "      <td>['ALL']</td>\n",
              "    </tr>\n",
              "    <tr>\n",
              "      <th>3670</th>\n",
              "      <td>Young female athletes’ dreams and accomplishme...</td>\n",
              "      <td>http://feedproxy.google.com/~r/breitbart/~3/eW...</td>\n",
              "      <td>Breitbart</td>\n",
              "      <td>marriage-equality</td>\n",
              "      <td>NaN</td>\n",
              "      <td>Biased</td>\n",
              "      <td>Expresses writer’s opinion</td>\n",
              "      <td>['dashed', '\"identify\"']</td>\n",
              "    </tr>\n",
              "    <tr>\n",
              "      <th>3671</th>\n",
              "      <td>Young white men, reacting to social and educat...</td>\n",
              "      <td>https://thefederalist.com/2016/05/23/how-anti-...</td>\n",
              "      <td>Federalist</td>\n",
              "      <td>white-nationalism</td>\n",
              "      <td>right</td>\n",
              "      <td>Biased</td>\n",
              "      <td>Expresses writer’s opinion</td>\n",
              "      <td>['evil', 'white']</td>\n",
              "    </tr>\n",
              "    <tr>\n",
              "      <th>3672</th>\n",
              "      <td>Young women taking part in high school and col...</td>\n",
              "      <td>NaN</td>\n",
              "      <td>Breitbart</td>\n",
              "      <td>sport</td>\n",
              "      <td>right</td>\n",
              "      <td>Biased</td>\n",
              "      <td>Somewhat factual but also opinionated</td>\n",
              "      <td>['dashed', '\"identify\"']</td>\n",
              "    </tr>\n",
              "    <tr>\n",
              "      <th>3673</th>\n",
              "      <td>YouTube is making clear there will be no “birt...</td>\n",
              "      <td>https://eu.usatoday.com/story/tech/2020/02/03/...</td>\n",
              "      <td>USA Today</td>\n",
              "      <td>elections-2020</td>\n",
              "      <td>center</td>\n",
              "      <td>Biased</td>\n",
              "      <td>Entirely factual</td>\n",
              "      <td>['birtherism']</td>\n",
              "    </tr>\n",
              "  </tbody>\n",
              "</table>\n",
              "<p>3674 rows × 8 columns</p>\n",
              "</div>\n",
              "    <div class=\"colab-df-buttons\">\n",
              "\n",
              "  <div class=\"colab-df-container\">\n",
              "    <button class=\"colab-df-convert\" onclick=\"convertToInteractive('df-21bd45c7-e9c3-47ec-b0a9-eec9e9133dd4')\"\n",
              "            title=\"Convert this dataframe to an interactive table.\"\n",
              "            style=\"display:none;\">\n",
              "\n",
              "  <svg xmlns=\"http://www.w3.org/2000/svg\" height=\"24px\" viewBox=\"0 -960 960 960\">\n",
              "    <path d=\"M120-120v-720h720v720H120Zm60-500h600v-160H180v160Zm220 220h160v-160H400v160Zm0 220h160v-160H400v160ZM180-400h160v-160H180v160Zm440 0h160v-160H620v160ZM180-180h160v-160H180v160Zm440 0h160v-160H620v160Z\"/>\n",
              "  </svg>\n",
              "    </button>\n",
              "\n",
              "  <style>\n",
              "    .colab-df-container {\n",
              "      display:flex;\n",
              "      gap: 12px;\n",
              "    }\n",
              "\n",
              "    .colab-df-convert {\n",
              "      background-color: #E8F0FE;\n",
              "      border: none;\n",
              "      border-radius: 50%;\n",
              "      cursor: pointer;\n",
              "      display: none;\n",
              "      fill: #1967D2;\n",
              "      height: 32px;\n",
              "      padding: 0 0 0 0;\n",
              "      width: 32px;\n",
              "    }\n",
              "\n",
              "    .colab-df-convert:hover {\n",
              "      background-color: #E2EBFA;\n",
              "      box-shadow: 0px 1px 2px rgba(60, 64, 67, 0.3), 0px 1px 3px 1px rgba(60, 64, 67, 0.15);\n",
              "      fill: #174EA6;\n",
              "    }\n",
              "\n",
              "    .colab-df-buttons div {\n",
              "      margin-bottom: 4px;\n",
              "    }\n",
              "\n",
              "    [theme=dark] .colab-df-convert {\n",
              "      background-color: #3B4455;\n",
              "      fill: #D2E3FC;\n",
              "    }\n",
              "\n",
              "    [theme=dark] .colab-df-convert:hover {\n",
              "      background-color: #434B5C;\n",
              "      box-shadow: 0px 1px 3px 1px rgba(0, 0, 0, 0.15);\n",
              "      filter: drop-shadow(0px 1px 2px rgba(0, 0, 0, 0.3));\n",
              "      fill: #FFFFFF;\n",
              "    }\n",
              "  </style>\n",
              "\n",
              "    <script>\n",
              "      const buttonEl =\n",
              "        document.querySelector('#df-21bd45c7-e9c3-47ec-b0a9-eec9e9133dd4 button.colab-df-convert');\n",
              "      buttonEl.style.display =\n",
              "        google.colab.kernel.accessAllowed ? 'block' : 'none';\n",
              "\n",
              "      async function convertToInteractive(key) {\n",
              "        const element = document.querySelector('#df-21bd45c7-e9c3-47ec-b0a9-eec9e9133dd4');\n",
              "        const dataTable =\n",
              "          await google.colab.kernel.invokeFunction('convertToInteractive',\n",
              "                                                    [key], {});\n",
              "        if (!dataTable) return;\n",
              "\n",
              "        const docLinkHtml = 'Like what you see? Visit the ' +\n",
              "          '<a target=\"_blank\" href=https://colab.research.google.com/notebooks/data_table.ipynb>data table notebook</a>'\n",
              "          + ' to learn more about interactive tables.';\n",
              "        element.innerHTML = '';\n",
              "        dataTable['output_type'] = 'display_data';\n",
              "        await google.colab.output.renderOutput(dataTable, element);\n",
              "        const docLink = document.createElement('div');\n",
              "        docLink.innerHTML = docLinkHtml;\n",
              "        element.appendChild(docLink);\n",
              "      }\n",
              "    </script>\n",
              "  </div>\n",
              "\n",
              "\n",
              "    <div id=\"df-954a2b71-ba2e-4438-a441-834cd000509a\">\n",
              "      <button class=\"colab-df-quickchart\" onclick=\"quickchart('df-954a2b71-ba2e-4438-a441-834cd000509a')\"\n",
              "                title=\"Suggest charts\"\n",
              "                style=\"display:none;\">\n",
              "\n",
              "<svg xmlns=\"http://www.w3.org/2000/svg\" height=\"24px\"viewBox=\"0 0 24 24\"\n",
              "     width=\"24px\">\n",
              "    <g>\n",
              "        <path d=\"M19 3H5c-1.1 0-2 .9-2 2v14c0 1.1.9 2 2 2h14c1.1 0 2-.9 2-2V5c0-1.1-.9-2-2-2zM9 17H7v-7h2v7zm4 0h-2V7h2v10zm4 0h-2v-4h2v4z\"/>\n",
              "    </g>\n",
              "</svg>\n",
              "      </button>\n",
              "\n",
              "<style>\n",
              "  .colab-df-quickchart {\n",
              "      --bg-color: #E8F0FE;\n",
              "      --fill-color: #1967D2;\n",
              "      --hover-bg-color: #E2EBFA;\n",
              "      --hover-fill-color: #174EA6;\n",
              "      --disabled-fill-color: #AAA;\n",
              "      --disabled-bg-color: #DDD;\n",
              "  }\n",
              "\n",
              "  [theme=dark] .colab-df-quickchart {\n",
              "      --bg-color: #3B4455;\n",
              "      --fill-color: #D2E3FC;\n",
              "      --hover-bg-color: #434B5C;\n",
              "      --hover-fill-color: #FFFFFF;\n",
              "      --disabled-bg-color: #3B4455;\n",
              "      --disabled-fill-color: #666;\n",
              "  }\n",
              "\n",
              "  .colab-df-quickchart {\n",
              "    background-color: var(--bg-color);\n",
              "    border: none;\n",
              "    border-radius: 50%;\n",
              "    cursor: pointer;\n",
              "    display: none;\n",
              "    fill: var(--fill-color);\n",
              "    height: 32px;\n",
              "    padding: 0;\n",
              "    width: 32px;\n",
              "  }\n",
              "\n",
              "  .colab-df-quickchart:hover {\n",
              "    background-color: var(--hover-bg-color);\n",
              "    box-shadow: 0 1px 2px rgba(60, 64, 67, 0.3), 0 1px 3px 1px rgba(60, 64, 67, 0.15);\n",
              "    fill: var(--button-hover-fill-color);\n",
              "  }\n",
              "\n",
              "  .colab-df-quickchart-complete:disabled,\n",
              "  .colab-df-quickchart-complete:disabled:hover {\n",
              "    background-color: var(--disabled-bg-color);\n",
              "    fill: var(--disabled-fill-color);\n",
              "    box-shadow: none;\n",
              "  }\n",
              "\n",
              "  .colab-df-spinner {\n",
              "    border: 2px solid var(--fill-color);\n",
              "    border-color: transparent;\n",
              "    border-bottom-color: var(--fill-color);\n",
              "    animation:\n",
              "      spin 1s steps(1) infinite;\n",
              "  }\n",
              "\n",
              "  @keyframes spin {\n",
              "    0% {\n",
              "      border-color: transparent;\n",
              "      border-bottom-color: var(--fill-color);\n",
              "      border-left-color: var(--fill-color);\n",
              "    }\n",
              "    20% {\n",
              "      border-color: transparent;\n",
              "      border-left-color: var(--fill-color);\n",
              "      border-top-color: var(--fill-color);\n",
              "    }\n",
              "    30% {\n",
              "      border-color: transparent;\n",
              "      border-left-color: var(--fill-color);\n",
              "      border-top-color: var(--fill-color);\n",
              "      border-right-color: var(--fill-color);\n",
              "    }\n",
              "    40% {\n",
              "      border-color: transparent;\n",
              "      border-right-color: var(--fill-color);\n",
              "      border-top-color: var(--fill-color);\n",
              "    }\n",
              "    60% {\n",
              "      border-color: transparent;\n",
              "      border-right-color: var(--fill-color);\n",
              "    }\n",
              "    80% {\n",
              "      border-color: transparent;\n",
              "      border-right-color: var(--fill-color);\n",
              "      border-bottom-color: var(--fill-color);\n",
              "    }\n",
              "    90% {\n",
              "      border-color: transparent;\n",
              "      border-bottom-color: var(--fill-color);\n",
              "    }\n",
              "  }\n",
              "</style>\n",
              "\n",
              "      <script>\n",
              "        async function quickchart(key) {\n",
              "          const quickchartButtonEl =\n",
              "            document.querySelector('#' + key + ' button');\n",
              "          quickchartButtonEl.disabled = true;  // To prevent multiple clicks.\n",
              "          quickchartButtonEl.classList.add('colab-df-spinner');\n",
              "          try {\n",
              "            const charts = await google.colab.kernel.invokeFunction(\n",
              "                'suggestCharts', [key], {});\n",
              "          } catch (error) {\n",
              "            console.error('Error during call to suggestCharts:', error);\n",
              "          }\n",
              "          quickchartButtonEl.classList.remove('colab-df-spinner');\n",
              "          quickchartButtonEl.classList.add('colab-df-quickchart-complete');\n",
              "        }\n",
              "        (() => {\n",
              "          let quickchartButtonEl =\n",
              "            document.querySelector('#df-954a2b71-ba2e-4438-a441-834cd000509a button');\n",
              "          quickchartButtonEl.style.display =\n",
              "            google.colab.kernel.accessAllowed ? 'block' : 'none';\n",
              "        })();\n",
              "      </script>\n",
              "    </div>\n",
              "\n",
              "  <div id=\"id_9906bd53-1b50-4c49-bff1-a4915744b749\">\n",
              "    <style>\n",
              "      .colab-df-generate {\n",
              "        background-color: #E8F0FE;\n",
              "        border: none;\n",
              "        border-radius: 50%;\n",
              "        cursor: pointer;\n",
              "        display: none;\n",
              "        fill: #1967D2;\n",
              "        height: 32px;\n",
              "        padding: 0 0 0 0;\n",
              "        width: 32px;\n",
              "      }\n",
              "\n",
              "      .colab-df-generate:hover {\n",
              "        background-color: #E2EBFA;\n",
              "        box-shadow: 0px 1px 2px rgba(60, 64, 67, 0.3), 0px 1px 3px 1px rgba(60, 64, 67, 0.15);\n",
              "        fill: #174EA6;\n",
              "      }\n",
              "\n",
              "      [theme=dark] .colab-df-generate {\n",
              "        background-color: #3B4455;\n",
              "        fill: #D2E3FC;\n",
              "      }\n",
              "\n",
              "      [theme=dark] .colab-df-generate:hover {\n",
              "        background-color: #434B5C;\n",
              "        box-shadow: 0px 1px 3px 1px rgba(0, 0, 0, 0.15);\n",
              "        filter: drop-shadow(0px 1px 2px rgba(0, 0, 0, 0.3));\n",
              "        fill: #FFFFFF;\n",
              "      }\n",
              "    </style>\n",
              "    <button class=\"colab-df-generate\" onclick=\"generateWithVariable('ds')\"\n",
              "            title=\"Generate code using this dataframe.\"\n",
              "            style=\"display:none;\">\n",
              "\n",
              "  <svg xmlns=\"http://www.w3.org/2000/svg\" height=\"24px\"viewBox=\"0 0 24 24\"\n",
              "       width=\"24px\">\n",
              "    <path d=\"M7,19H8.4L18.45,9,17,7.55,7,17.6ZM5,21V16.75L18.45,3.32a2,2,0,0,1,2.83,0l1.4,1.43a1.91,1.91,0,0,1,.58,1.4,1.91,1.91,0,0,1-.58,1.4L9.25,21ZM18.45,9,17,7.55Zm-12,3A5.31,5.31,0,0,0,4.9,8.1,5.31,5.31,0,0,0,1,6.5,5.31,5.31,0,0,0,4.9,4.9,5.31,5.31,0,0,0,6.5,1,5.31,5.31,0,0,0,8.1,4.9,5.31,5.31,0,0,0,12,6.5,5.46,5.46,0,0,0,6.5,12Z\"/>\n",
              "  </svg>\n",
              "    </button>\n",
              "    <script>\n",
              "      (() => {\n",
              "      const buttonEl =\n",
              "        document.querySelector('#id_9906bd53-1b50-4c49-bff1-a4915744b749 button.colab-df-generate');\n",
              "      buttonEl.style.display =\n",
              "        google.colab.kernel.accessAllowed ? 'block' : 'none';\n",
              "\n",
              "      buttonEl.onclick = () => {\n",
              "        google.colab.notebook.generateWithVariable('ds');\n",
              "      }\n",
              "      })();\n",
              "    </script>\n",
              "  </div>\n",
              "\n",
              "    </div>\n",
              "  </div>\n"
            ],
            "application/vnd.google.colaboratory.intrinsic+json": {
              "type": "dataframe",
              "variable_name": "ds",
              "summary": "{\n  \"name\": \"ds\",\n  \"rows\": 3674,\n  \"fields\": [\n    {\n      \"column\": \"text\",\n      \"properties\": {\n        \"dtype\": \"string\",\n        \"num_unique_values\": 3674,\n        \"samples\": [\n          \"President Trump's two-day visit to India turned to substance Tuesday after opening with a heavy dose of pomp and pageantry, but few concrete accomplishments were expected from the whirlwind trip.\",\n          \"Mississippi\\u2019s Republican governor signed one of America\\u2019s strictest abortion bills on Thursday banning women from obtaining an abortion once a fetal heartbeat is detected, which can often occur before a woman even realizes she is pregnant.\",\n          \"The reason for the attacks becomes clearer when considering that\\u00a0Black Lives Matter\\u00a0and\\u00a0Antifa\\u00a0are Marxist organizations and Marxism is an enemy of Christianity.\"\n        ],\n        \"semantic_type\": \"\",\n        \"description\": \"\"\n      }\n    },\n    {\n      \"column\": \"news_link\",\n      \"properties\": {\n        \"dtype\": \"string\",\n        \"num_unique_values\": 2095,\n        \"samples\": [\n          \"http://www.msnbc.com/rachel-maddow-show/his-environmental-record-trump-turns-greenhouse-gaslighting\",\n          \"https://www.foxnews.com/opinion/new-york-times-editorial-page-editor-resignation-alex-berenson\",\n          \"https://www.reuters.com/article/health-coronavirus-lgbt-africa/rpt-feature-arrests-evictions-and-scapegoating-coronavirus-takes-a-toll-on-lgbt-africans-idUSL8N2C40JE\"\n        ],\n        \"semantic_type\": \"\",\n        \"description\": \"\"\n      }\n    },\n    {\n      \"column\": \"outlet\",\n      \"properties\": {\n        \"dtype\": \"category\",\n        \"num_unique_values\": 11,\n        \"samples\": [\n          \"Reuters\",\n          \"Fox News\",\n          \"Daily Stormer\"\n        ],\n        \"semantic_type\": \"\",\n        \"description\": \"\"\n      }\n    },\n    {\n      \"column\": \"topic\",\n      \"properties\": {\n        \"dtype\": \"category\",\n        \"num_unique_values\": 23,\n        \"samples\": [\n          \"immigration\",\n          \"islam\",\n          \"environment\"\n        ],\n        \"semantic_type\": \"\",\n        \"description\": \"\"\n      }\n    },\n    {\n      \"column\": \"type\",\n      \"properties\": {\n        \"dtype\": \"category\",\n        \"num_unique_values\": 3,\n        \"samples\": [\n          \"right\",\n          \"left\",\n          \"center\"\n        ],\n        \"semantic_type\": \"\",\n        \"description\": \"\"\n      }\n    },\n    {\n      \"column\": \"label_bias\",\n      \"properties\": {\n        \"dtype\": \"category\",\n        \"num_unique_values\": 3,\n        \"samples\": [\n          \"Non-biased\",\n          \"Biased\",\n          \"No agreement\"\n        ],\n        \"semantic_type\": \"\",\n        \"description\": \"\"\n      }\n    },\n    {\n      \"column\": \"label_opinion\",\n      \"properties\": {\n        \"dtype\": \"category\",\n        \"num_unique_values\": 4,\n        \"samples\": [\n          \"Somewhat factual but also opinionated\",\n          \"No agreement\",\n          \"Entirely factual\"\n        ],\n        \"semantic_type\": \"\",\n        \"description\": \"\"\n      }\n    },\n    {\n      \"column\": \"biased_words\",\n      \"properties\": {\n        \"dtype\": \"category\",\n        \"num_unique_values\": 1623,\n        \"samples\": [\n          \"['Christian-sharia-loving', 'bigot']\",\n          \"['lied', 'Wuhan', 'bloom']\",\n          \"['murdering', 'endorsing']\"\n        ],\n        \"semantic_type\": \"\",\n        \"description\": \"\"\n      }\n    }\n  ]\n}"
            }
          },
          "metadata": {},
          "execution_count": 42
        }
      ]
    },
    {
      "cell_type": "code",
      "source": [
        "# Nan values\n",
        "ds.isna().sum()"
      ],
      "metadata": {
        "id": "RgRxOo1r3Fol",
        "colab": {
          "base_uri": "https://localhost:8080/",
          "height": 335
        },
        "outputId": "0f7d91a6-9884-4636-92d8-2d1eefa1145e"
      },
      "execution_count": 43,
      "outputs": [
        {
          "output_type": "execute_result",
          "data": {
            "text/plain": [
              "text                0\n",
              "news_link          32\n",
              "outlet              0\n",
              "topic               0\n",
              "type             1000\n",
              "label_bias          0\n",
              "label_opinion       0\n",
              "biased_words        0\n",
              "dtype: int64"
            ],
            "text/html": [
              "<div>\n",
              "<style scoped>\n",
              "    .dataframe tbody tr th:only-of-type {\n",
              "        vertical-align: middle;\n",
              "    }\n",
              "\n",
              "    .dataframe tbody tr th {\n",
              "        vertical-align: top;\n",
              "    }\n",
              "\n",
              "    .dataframe thead th {\n",
              "        text-align: right;\n",
              "    }\n",
              "</style>\n",
              "<table border=\"1\" class=\"dataframe\">\n",
              "  <thead>\n",
              "    <tr style=\"text-align: right;\">\n",
              "      <th></th>\n",
              "      <th>0</th>\n",
              "    </tr>\n",
              "  </thead>\n",
              "  <tbody>\n",
              "    <tr>\n",
              "      <th>text</th>\n",
              "      <td>0</td>\n",
              "    </tr>\n",
              "    <tr>\n",
              "      <th>news_link</th>\n",
              "      <td>32</td>\n",
              "    </tr>\n",
              "    <tr>\n",
              "      <th>outlet</th>\n",
              "      <td>0</td>\n",
              "    </tr>\n",
              "    <tr>\n",
              "      <th>topic</th>\n",
              "      <td>0</td>\n",
              "    </tr>\n",
              "    <tr>\n",
              "      <th>type</th>\n",
              "      <td>1000</td>\n",
              "    </tr>\n",
              "    <tr>\n",
              "      <th>label_bias</th>\n",
              "      <td>0</td>\n",
              "    </tr>\n",
              "    <tr>\n",
              "      <th>label_opinion</th>\n",
              "      <td>0</td>\n",
              "    </tr>\n",
              "    <tr>\n",
              "      <th>biased_words</th>\n",
              "      <td>0</td>\n",
              "    </tr>\n",
              "  </tbody>\n",
              "</table>\n",
              "</div><br><label><b>dtype:</b> int64</label>"
            ]
          },
          "metadata": {},
          "execution_count": 43
        }
      ]
    },
    {
      "cell_type": "code",
      "source": [
        "ds.iloc[0][0]"
      ],
      "metadata": {
        "colab": {
          "base_uri": "https://localhost:8080/",
          "height": 107
        },
        "id": "5MtPDdnDAROX",
        "outputId": "64e79fca-6e53-484e-c493-17085c210282"
      },
      "execution_count": 44,
      "outputs": [
        {
          "output_type": "stream",
          "name": "stderr",
          "text": [
            "<ipython-input-44-a6d6193478d9>:1: FutureWarning: Series.__getitem__ treating keys as positions is deprecated. In a future version, integer keys will always be treated as labels (consistent with DataFrame behavior). To access a value by position, use `ser.iloc[pos]`\n",
            "  ds.iloc[0][0]\n"
          ]
        },
        {
          "output_type": "execute_result",
          "data": {
            "text/plain": [
              "'\"Orange Is the New Black\" star Yael Stone is renouncing her U.S. green card to return to her native Australia in order to fight climate change.'"
            ],
            "application/vnd.google.colaboratory.intrinsic+json": {
              "type": "string"
            }
          },
          "metadata": {},
          "execution_count": 44
        }
      ]
    },
    {
      "cell_type": "code",
      "source": [
        "ds['text']"
      ],
      "metadata": {
        "colab": {
          "base_uri": "https://localhost:8080/",
          "height": 458
        },
        "id": "hmgyd6hWA_NL",
        "outputId": "5d388cbc-8468-41ec-e636-9a6db1dd1e6d"
      },
      "execution_count": 45,
      "outputs": [
        {
          "output_type": "execute_result",
          "data": {
            "text/plain": [
              "0       \"Orange Is the New Black\" star Yael Stone is r...\n",
              "1       \"We have one beautiful law,\" Trump recently sa...\n",
              "2       ...immigrants as criminals and eugenics, all o...\n",
              "3       ...we sounded the alarm in the early months of...\n",
              "4       [Black Lives Matter] is essentially a non-fals...\n",
              "                              ...                        \n",
              "3669    You’ve heard of Jim Crow and Southern Segregat...\n",
              "3670    Young female athletes’ dreams and accomplishme...\n",
              "3671    Young white men, reacting to social and educat...\n",
              "3672    Young women taking part in high school and col...\n",
              "3673    YouTube is making clear there will be no “birt...\n",
              "Name: text, Length: 3674, dtype: object"
            ],
            "text/html": [
              "<div>\n",
              "<style scoped>\n",
              "    .dataframe tbody tr th:only-of-type {\n",
              "        vertical-align: middle;\n",
              "    }\n",
              "\n",
              "    .dataframe tbody tr th {\n",
              "        vertical-align: top;\n",
              "    }\n",
              "\n",
              "    .dataframe thead th {\n",
              "        text-align: right;\n",
              "    }\n",
              "</style>\n",
              "<table border=\"1\" class=\"dataframe\">\n",
              "  <thead>\n",
              "    <tr style=\"text-align: right;\">\n",
              "      <th></th>\n",
              "      <th>text</th>\n",
              "    </tr>\n",
              "  </thead>\n",
              "  <tbody>\n",
              "    <tr>\n",
              "      <th>0</th>\n",
              "      <td>\"Orange Is the New Black\" star Yael Stone is r...</td>\n",
              "    </tr>\n",
              "    <tr>\n",
              "      <th>1</th>\n",
              "      <td>\"We have one beautiful law,\" Trump recently sa...</td>\n",
              "    </tr>\n",
              "    <tr>\n",
              "      <th>2</th>\n",
              "      <td>...immigrants as criminals and eugenics, all o...</td>\n",
              "    </tr>\n",
              "    <tr>\n",
              "      <th>3</th>\n",
              "      <td>...we sounded the alarm in the early months of...</td>\n",
              "    </tr>\n",
              "    <tr>\n",
              "      <th>4</th>\n",
              "      <td>[Black Lives Matter] is essentially a non-fals...</td>\n",
              "    </tr>\n",
              "    <tr>\n",
              "      <th>...</th>\n",
              "      <td>...</td>\n",
              "    </tr>\n",
              "    <tr>\n",
              "      <th>3669</th>\n",
              "      <td>You’ve heard of Jim Crow and Southern Segregat...</td>\n",
              "    </tr>\n",
              "    <tr>\n",
              "      <th>3670</th>\n",
              "      <td>Young female athletes’ dreams and accomplishme...</td>\n",
              "    </tr>\n",
              "    <tr>\n",
              "      <th>3671</th>\n",
              "      <td>Young white men, reacting to social and educat...</td>\n",
              "    </tr>\n",
              "    <tr>\n",
              "      <th>3672</th>\n",
              "      <td>Young women taking part in high school and col...</td>\n",
              "    </tr>\n",
              "    <tr>\n",
              "      <th>3673</th>\n",
              "      <td>YouTube is making clear there will be no “birt...</td>\n",
              "    </tr>\n",
              "  </tbody>\n",
              "</table>\n",
              "<p>3674 rows × 1 columns</p>\n",
              "</div><br><label><b>dtype:</b> object</label>"
            ]
          },
          "metadata": {},
          "execution_count": 45
        }
      ]
    },
    {
      "cell_type": "markdown",
      "source": [
        "# Useful functions"
      ],
      "metadata": {
        "id": "f6VfSXhbAnKc"
      }
    },
    {
      "cell_type": "code",
      "source": [
        "from transformers import BertTokenizer, BertModel\n",
        "import torch\n",
        "import math\n",
        "import numpy as np\n",
        "from tqdm import tqdm\n",
        "\n",
        "# Load pre-trained model and tokenizer\n",
        "tokenizer = BertTokenizer.from_pretrained('bert-base-uncased')\n",
        "bert_model = BertModel.from_pretrained('bert-base-uncased')\n",
        "\n",
        "def BERT_text_to_embeddings(texts, max_length=512, batch_size=100, force_device=None, disable_progress_bar=False):\n",
        "    # Tokenize the texts\n",
        "    ids_list = []\n",
        "    attention_mask_list = []\n",
        "\n",
        "    # Tokenize each text and create the input_ids and attention masks\n",
        "    for text in texts:\n",
        "        encoded = tokenizer.encode_plus(\n",
        "            text,\n",
        "            add_special_tokens=True,          # Add [CLS] and [SEP]\n",
        "            max_length=max_length,            # Pad or truncate text to max length\n",
        "            padding='max_length',             # Pad to max length\n",
        "            return_attention_mask=True,       # Create attention mask\n",
        "            return_tensors='pt',              # Return PyTorch tensors\n",
        "            truncation=True\n",
        "        )\n",
        "        ids_list.append(encoded['input_ids'].squeeze().tolist())\n",
        "        attention_mask_list.append(encoded['attention_mask'].squeeze().tolist())\n",
        "\n",
        "    # Set device\n",
        "    if force_device is not None:\n",
        "        device = torch.device(force_device)\n",
        "    else:\n",
        "        device = torch.device('cuda' if torch.cuda.is_available() else 'cpu')\n",
        "\n",
        "    bert_model.to(device)\n",
        "\n",
        "    if not disable_progress_bar:\n",
        "        print(f'Using the {device} device.')\n",
        "\n",
        "    # Getting embeddings in batches\n",
        "    embeddings = []\n",
        "\n",
        "    for i in tqdm(range(math.ceil(len(ids_list) / batch_size)), disable=disable_progress_bar):\n",
        "        ids_batch = torch.LongTensor(ids_list[batch_size * i:batch_size * (i + 1)]).to(device)\n",
        "        attention_mask_batch = torch.LongTensor(attention_mask_list[batch_size * i:batch_size * (i + 1)]).to(device)\n",
        "\n",
        "        with torch.no_grad():\n",
        "            bert_model.eval()\n",
        "            # Extracting the hidden state of the [CLS] token for each batch\n",
        "            batch_embeddings = bert_model(input_ids=ids_batch, attention_mask=attention_mask_batch)\n",
        "\n",
        "        # We only take the embedding corresponding to the [CLS] token (first token)\n",
        "        embeddings.append(batch_embeddings[0][:, 0, :].detach().cpu().numpy())\n",
        "\n",
        "    return np.concatenate(embeddings)\n"
      ],
      "metadata": {
        "id": "nd49BSs325mk"
      },
      "execution_count": 46,
      "outputs": []
    },
    {
      "cell_type": "code",
      "source": [
        "def train_val_test_split (df, rstate = 42, shuffle=True, stratify=None):\n",
        "    if stratify != None:\n",
        "        strat=df[stratify]\n",
        "    else:\n",
        "        strat = None\n",
        "    train_set, test_set = train_test_split(df, test_size=0.4, random_state=rstate, shuffle=shuffle, stratify=strat)\n",
        "\n",
        "    if stratify!=None:\n",
        "        strat=test_set[stratify]\n",
        "    else:\n",
        "        strat = None\n",
        "    val_set, test_set=train_test_split(test_set, test_size=0.5, random_state=rstate, shuffle=shuffle, stratify=strat)\n",
        "\n",
        "    return (train_set, val_set, test_set)"
      ],
      "metadata": {
        "id": "PvsRveD4C7kY"
      },
      "execution_count": 47,
      "outputs": []
    },
    {
      "cell_type": "markdown",
      "source": [
        "# Data Preprocessing"
      ],
      "metadata": {
        "id": "RiGezLXyBfpj"
      }
    },
    {
      "cell_type": "code",
      "source": [
        "label_counts = ds['label_bias'].value_counts()\n",
        "valid_labels = label_counts[label_counts > 1].index\n",
        "\n",
        "ds = ds[ds['label_bias'].isin(valid_labels)]"
      ],
      "metadata": {
        "id": "-H1U8J8cLQm6"
      },
      "execution_count": 48,
      "outputs": []
    },
    {
      "cell_type": "code",
      "source": [
        "# Only keeping input and output\n",
        "df = ds[['text', 'label_bias']]"
      ],
      "metadata": {
        "id": "laFBNmhwCh_w"
      },
      "execution_count": 49,
      "outputs": []
    },
    {
      "cell_type": "code",
      "source": [
        "from sklearn.preprocessing import LabelEncoder\n",
        "\n",
        "le = LabelEncoder()\n",
        "df['label_encoded'] = le.fit_transform(df['label_bias'])\n"
      ],
      "metadata": {
        "colab": {
          "base_uri": "https://localhost:8080/"
        },
        "id": "tjd_8I6RCBP6",
        "outputId": "75331173-26d0-435c-b8c6-ba0feb41d4be"
      },
      "execution_count": 50,
      "outputs": [
        {
          "output_type": "stream",
          "name": "stderr",
          "text": [
            "<ipython-input-50-e6a932c8f2b8>:4: SettingWithCopyWarning: \n",
            "A value is trying to be set on a copy of a slice from a DataFrame.\n",
            "Try using .loc[row_indexer,col_indexer] = value instead\n",
            "\n",
            "See the caveats in the documentation: https://pandas.pydata.org/pandas-docs/stable/user_guide/indexing.html#returning-a-view-versus-a-copy\n",
            "  df['label_encoded'] = le.fit_transform(df['label_bias'])\n"
          ]
        }
      ]
    },
    {
      "cell_type": "code",
      "source": [
        "df['label_encoded'].value_counts()"
      ],
      "metadata": {
        "colab": {
          "base_uri": "https://localhost:8080/",
          "height": 178
        },
        "id": "qu7lg3YjCKxW",
        "outputId": "a3320e66-f33f-4c99-d72c-9d854765b0c0"
      },
      "execution_count": 51,
      "outputs": [
        {
          "output_type": "execute_result",
          "data": {
            "text/plain": [
              "label_encoded\n",
              "1    1863\n",
              "0    1810\n",
              "Name: count, dtype: int64"
            ],
            "text/html": [
              "<div>\n",
              "<style scoped>\n",
              "    .dataframe tbody tr th:only-of-type {\n",
              "        vertical-align: middle;\n",
              "    }\n",
              "\n",
              "    .dataframe tbody tr th {\n",
              "        vertical-align: top;\n",
              "    }\n",
              "\n",
              "    .dataframe thead th {\n",
              "        text-align: right;\n",
              "    }\n",
              "</style>\n",
              "<table border=\"1\" class=\"dataframe\">\n",
              "  <thead>\n",
              "    <tr style=\"text-align: right;\">\n",
              "      <th></th>\n",
              "      <th>count</th>\n",
              "    </tr>\n",
              "    <tr>\n",
              "      <th>label_encoded</th>\n",
              "      <th></th>\n",
              "    </tr>\n",
              "  </thead>\n",
              "  <tbody>\n",
              "    <tr>\n",
              "      <th>1</th>\n",
              "      <td>1863</td>\n",
              "    </tr>\n",
              "    <tr>\n",
              "      <th>0</th>\n",
              "      <td>1810</td>\n",
              "    </tr>\n",
              "  </tbody>\n",
              "</table>\n",
              "</div><br><label><b>dtype:</b> int64</label>"
            ]
          },
          "metadata": {},
          "execution_count": 51
        }
      ]
    },
    {
      "cell_type": "code",
      "source": [
        "# Splitting in train and test\n",
        "train_set, val_set, test_set = train_val_test_split(df, stratify='label_encoded')\n",
        "xtrain, ytrain = train_set['text'], train_set['label_encoded']\n",
        "xval, yval = val_set['text'], val_set['label_encoded']\n",
        "xtest, ytest = test_set['text'], test_set['label_encoded']\n"
      ],
      "metadata": {
        "id": "G_t3N8H7BiTl"
      },
      "execution_count": 52,
      "outputs": []
    },
    {
      "cell_type": "markdown",
      "source": [
        "# Model"
      ],
      "metadata": {
        "id": "vpev4QRsA7HZ"
      }
    },
    {
      "cell_type": "code",
      "source": [
        "xtrain"
      ],
      "metadata": {
        "colab": {
          "base_uri": "https://localhost:8080/",
          "height": 458
        },
        "id": "_DT5xKVNCeUI",
        "outputId": "4bc015f7-aa4b-426b-af9b-6729cf75a3db"
      },
      "execution_count": 53,
      "outputs": [
        {
          "output_type": "execute_result",
          "data": {
            "text/plain": [
              "3525    When carrying a firearm, you have the ultimate...\n",
              "905     During the campaign, it was clear that much of...\n",
              "397     As proof of the racism still inherent in the g...\n",
              "2698    The Heroes Act contains many leftist provision...\n",
              "171     Activists’ frustration has only compounded sin...\n",
              "                              ...                        \n",
              "774     Curiously, both Kelly and Yen seem unaware of ...\n",
              "2129    President-elect Joe Biden campaigned to have a...\n",
              "1806    Netflix disappointed investors when the stream...\n",
              "1289    Immigration Voice claims to be an independent ...\n",
              "1857    Now Republicans, who are working hard to destr...\n",
              "Name: text, Length: 2203, dtype: object"
            ],
            "text/html": [
              "<div>\n",
              "<style scoped>\n",
              "    .dataframe tbody tr th:only-of-type {\n",
              "        vertical-align: middle;\n",
              "    }\n",
              "\n",
              "    .dataframe tbody tr th {\n",
              "        vertical-align: top;\n",
              "    }\n",
              "\n",
              "    .dataframe thead th {\n",
              "        text-align: right;\n",
              "    }\n",
              "</style>\n",
              "<table border=\"1\" class=\"dataframe\">\n",
              "  <thead>\n",
              "    <tr style=\"text-align: right;\">\n",
              "      <th></th>\n",
              "      <th>text</th>\n",
              "    </tr>\n",
              "  </thead>\n",
              "  <tbody>\n",
              "    <tr>\n",
              "      <th>3525</th>\n",
              "      <td>When carrying a firearm, you have the ultimate...</td>\n",
              "    </tr>\n",
              "    <tr>\n",
              "      <th>905</th>\n",
              "      <td>During the campaign, it was clear that much of...</td>\n",
              "    </tr>\n",
              "    <tr>\n",
              "      <th>397</th>\n",
              "      <td>As proof of the racism still inherent in the g...</td>\n",
              "    </tr>\n",
              "    <tr>\n",
              "      <th>2698</th>\n",
              "      <td>The Heroes Act contains many leftist provision...</td>\n",
              "    </tr>\n",
              "    <tr>\n",
              "      <th>171</th>\n",
              "      <td>Activists’ frustration has only compounded sin...</td>\n",
              "    </tr>\n",
              "    <tr>\n",
              "      <th>...</th>\n",
              "      <td>...</td>\n",
              "    </tr>\n",
              "    <tr>\n",
              "      <th>774</th>\n",
              "      <td>Curiously, both Kelly and Yen seem unaware of ...</td>\n",
              "    </tr>\n",
              "    <tr>\n",
              "      <th>2129</th>\n",
              "      <td>President-elect Joe Biden campaigned to have a...</td>\n",
              "    </tr>\n",
              "    <tr>\n",
              "      <th>1806</th>\n",
              "      <td>Netflix disappointed investors when the stream...</td>\n",
              "    </tr>\n",
              "    <tr>\n",
              "      <th>1289</th>\n",
              "      <td>Immigration Voice claims to be an independent ...</td>\n",
              "    </tr>\n",
              "    <tr>\n",
              "      <th>1857</th>\n",
              "      <td>Now Republicans, who are working hard to destr...</td>\n",
              "    </tr>\n",
              "  </tbody>\n",
              "</table>\n",
              "<p>2203 rows × 1 columns</p>\n",
              "</div><br><label><b>dtype:</b> object</label>"
            ]
          },
          "metadata": {},
          "execution_count": 53
        }
      ]
    },
    {
      "cell_type": "code",
      "source": [
        "embeddings_train = BERT_text_to_embeddings(xtrain)\n",
        "embeddings_val = BERT_text_to_embeddings(xval)\n",
        "embeddings_test = BERT_text_to_embeddings(xtest)"
      ],
      "metadata": {
        "colab": {
          "base_uri": "https://localhost:8080/"
        },
        "id": "ETvyPYn_Ac4P",
        "outputId": "f2433bf7-d507-403a-832d-16ac791de813"
      },
      "execution_count": 54,
      "outputs": [
        {
          "output_type": "stream",
          "name": "stdout",
          "text": [
            "Using the cuda device.\n"
          ]
        },
        {
          "output_type": "stream",
          "name": "stderr",
          "text": [
            "100%|██████████| 23/23 [01:04<00:00,  2.82s/it]\n"
          ]
        },
        {
          "output_type": "stream",
          "name": "stdout",
          "text": [
            "Using the cuda device.\n"
          ]
        },
        {
          "output_type": "stream",
          "name": "stderr",
          "text": [
            "100%|██████████| 8/8 [00:20<00:00,  2.62s/it]\n"
          ]
        },
        {
          "output_type": "stream",
          "name": "stdout",
          "text": [
            "Using the cuda device.\n"
          ]
        },
        {
          "output_type": "stream",
          "name": "stderr",
          "text": [
            "100%|██████████| 8/8 [00:21<00:00,  2.71s/it]\n"
          ]
        }
      ]
    },
    {
      "cell_type": "code",
      "source": [
        "print(le.classes_)\n",
        "print(type(le.classes_[0]))\n"
      ],
      "metadata": {
        "colab": {
          "base_uri": "https://localhost:8080/"
        },
        "id": "YYoqDPscKnX_",
        "outputId": "a0fea35a-db55-40fb-eef3-3bb9d68eb267"
      },
      "execution_count": 55,
      "outputs": [
        {
          "output_type": "stream",
          "name": "stdout",
          "text": [
            "['Biased' 'Non-biased']\n",
            "<class 'str'>\n"
          ]
        }
      ]
    },
    {
      "cell_type": "markdown",
      "source": [
        "## Logistic Regression"
      ],
      "metadata": {
        "id": "isn-qzqkeK4n"
      }
    },
    {
      "cell_type": "code",
      "source": [
        "from sklearn.linear_model import LogisticRegression\n",
        "from sklearn.metrics import classification_report\n",
        "\n",
        "clf = LogisticRegression()\n",
        "clf.fit(embeddings_train, ytrain)\n",
        "\n",
        "y_pred = clf.predict(embeddings_test)\n",
        "print(classification_report(ytest, y_pred, target_names=[str(label) for label in le.classes_]))\n"
      ],
      "metadata": {
        "colab": {
          "base_uri": "https://localhost:8080/"
        },
        "id": "u0Tg83_8DsyG",
        "outputId": "9bf1eeab-524f-4f45-93b2-5b43d18b8d69"
      },
      "execution_count": 56,
      "outputs": [
        {
          "output_type": "stream",
          "name": "stdout",
          "text": [
            "              precision    recall  f1-score   support\n",
            "\n",
            "      Biased       0.72      0.71      0.71       362\n",
            "  Non-biased       0.72      0.73      0.73       373\n",
            "\n",
            "    accuracy                           0.72       735\n",
            "   macro avg       0.72      0.72      0.72       735\n",
            "weighted avg       0.72      0.72      0.72       735\n",
            "\n"
          ]
        },
        {
          "output_type": "stream",
          "name": "stderr",
          "text": [
            "/usr/local/lib/python3.11/dist-packages/sklearn/linear_model/_logistic.py:465: ConvergenceWarning: lbfgs failed to converge (status=1):\n",
            "STOP: TOTAL NO. OF ITERATIONS REACHED LIMIT.\n",
            "\n",
            "Increase the number of iterations (max_iter) or scale the data as shown in:\n",
            "    https://scikit-learn.org/stable/modules/preprocessing.html\n",
            "Please also refer to the documentation for alternative solver options:\n",
            "    https://scikit-learn.org/stable/modules/linear_model.html#logistic-regression\n",
            "  n_iter_i = _check_optimize_result(\n"
          ]
        }
      ]
    },
    {
      "cell_type": "markdown",
      "source": [
        "## XGB Classifier"
      ],
      "metadata": {
        "id": "oi8ZrOVreOAg"
      }
    },
    {
      "cell_type": "code",
      "source": [
        "from xgboost import XGBClassifier\n",
        "\n",
        "clf = XGBClassifier()\n",
        "clf.fit(embeddings_train, ytrain)\n",
        "\n",
        "y_pred = clf.predict(embeddings_test)\n",
        "print(classification_report(ytest, y_pred, target_names=[str(label) for label in le.classes_]))"
      ],
      "metadata": {
        "colab": {
          "base_uri": "https://localhost:8080/"
        },
        "id": "VLq2GuK1GNQO",
        "outputId": "82909779-d186-4fd0-963b-d0cb671bed32"
      },
      "execution_count": 57,
      "outputs": [
        {
          "output_type": "stream",
          "name": "stdout",
          "text": [
            "              precision    recall  f1-score   support\n",
            "\n",
            "      Biased       0.75      0.72      0.74       362\n",
            "  Non-biased       0.74      0.77      0.75       373\n",
            "\n",
            "    accuracy                           0.74       735\n",
            "   macro avg       0.74      0.74      0.74       735\n",
            "weighted avg       0.74      0.74      0.74       735\n",
            "\n"
          ]
        }
      ]
    },
    {
      "cell_type": "markdown",
      "source": [
        "## Random Forest"
      ],
      "metadata": {
        "id": "pKqAe3preXuy"
      }
    },
    {
      "cell_type": "code",
      "source": [
        "from sklearn.ensemble import RandomForestClassifier\n",
        "\n",
        "rf_clf = RandomForestClassifier()\n",
        "rf_clf.fit(embeddings_train, ytrain)\n",
        "\n",
        "y_pred = rf_clf.predict(embeddings_test)\n",
        "print(classification_report(ytest, y_pred, target_names=[str(label) for label in le.classes_]))"
      ],
      "metadata": {
        "colab": {
          "base_uri": "https://localhost:8080/"
        },
        "id": "GUxqvzKreSeT",
        "outputId": "8a821468-a3c8-4b77-ebc2-43d514cf4070"
      },
      "execution_count": 58,
      "outputs": [
        {
          "output_type": "stream",
          "name": "stdout",
          "text": [
            "              precision    recall  f1-score   support\n",
            "\n",
            "      Biased       0.75      0.70      0.72       362\n",
            "  Non-biased       0.73      0.77      0.75       373\n",
            "\n",
            "    accuracy                           0.74       735\n",
            "   macro avg       0.74      0.74      0.74       735\n",
            "weighted avg       0.74      0.74      0.74       735\n",
            "\n"
          ]
        }
      ]
    },
    {
      "cell_type": "markdown",
      "source": [
        "## Neural Network with Keras"
      ],
      "metadata": {
        "id": "J1cwVopFqPG9"
      }
    },
    {
      "cell_type": "code",
      "source": [
        "import tensorflow as tf\n",
        "from tensorflow.keras.models import Sequential\n",
        "from tensorflow.keras.layers import Dense, Dropout\n",
        "from tensorflow.keras.callbacks import EarlyStopping\n",
        "from sklearn.metrics import classification_report\n",
        "\n",
        "ytrain_nn = ytrain.values\n",
        "yval_nn = yval.values\n",
        "ytest_nn = ytest.values"
      ],
      "metadata": {
        "id": "6EdvZhO4ee4P"
      },
      "execution_count": 59,
      "outputs": []
    },
    {
      "cell_type": "code",
      "source": [
        "model = Sequential([\n",
        "    Dense(512, activation='gelu', input_shape=(embeddings_train.shape[1],)),\n",
        "    Dropout(0.3),\n",
        "    Dense(256, activation='gelu'),\n",
        "    Dropout(0.3),\n",
        "    # Dense(128, activation='gelu'),\n",
        "    # Dropout(0.3),\n",
        "    # Dense(64, activation='gelu'),\n",
        "    # Dropout(0.3),\n",
        "    Dense(len(set(ytrain)), activation='softmax')\n",
        "])\n",
        "\n",
        "\n",
        "model.compile(\n",
        "    optimizer=tf.keras.optimizers.Adam(learning_rate=0.0001),\n",
        "    loss='sparse_categorical_crossentropy',  # use this for integer labels\n",
        "    metrics=['accuracy']\n",
        ")\n",
        "\n"
      ],
      "metadata": {
        "colab": {
          "base_uri": "https://localhost:8080/"
        },
        "id": "BUnv-_JdqgCT",
        "outputId": "d4b14be7-1c3c-4e08-de74-78f789a1655e"
      },
      "execution_count": 60,
      "outputs": [
        {
          "output_type": "stream",
          "name": "stderr",
          "text": [
            "/usr/local/lib/python3.11/dist-packages/keras/src/layers/core/dense.py:87: UserWarning: Do not pass an `input_shape`/`input_dim` argument to a layer. When using Sequential models, prefer using an `Input(shape)` object as the first layer in the model instead.\n",
            "  super().__init__(activity_regularizer=activity_regularizer, **kwargs)\n"
          ]
        }
      ]
    },
    {
      "cell_type": "code",
      "source": [
        "early_stop = EarlyStopping(monitor='val_loss', patience=3, restore_best_weights=True)\n",
        "\n",
        "history = model.fit(\n",
        "    embeddings_train, ytrain,\n",
        "    validation_data=(embeddings_val, yval),\n",
        "    epochs=60,\n",
        "    batch_size=32,\n",
        "    callbacks=[early_stop],\n",
        "    verbose=1\n",
        ")\n"
      ],
      "metadata": {
        "colab": {
          "base_uri": "https://localhost:8080/"
        },
        "id": "WQsUXDaZq5G7",
        "outputId": "10c60084-3d4d-4979-883a-e7bfb619bd72"
      },
      "execution_count": 61,
      "outputs": [
        {
          "output_type": "stream",
          "name": "stdout",
          "text": [
            "Epoch 1/60\n",
            "\u001b[1m69/69\u001b[0m \u001b[32m━━━━━━━━━━━━━━━━━━━━\u001b[0m\u001b[37m\u001b[0m \u001b[1m6s\u001b[0m 33ms/step - accuracy: 0.6105 - loss: 0.6559 - val_accuracy: 0.7456 - val_loss: 0.5209\n",
            "Epoch 2/60\n",
            "\u001b[1m69/69\u001b[0m \u001b[32m━━━━━━━━━━━━━━━━━━━━\u001b[0m\u001b[37m\u001b[0m \u001b[1m1s\u001b[0m 4ms/step - accuracy: 0.7424 - loss: 0.5336 - val_accuracy: 0.7524 - val_loss: 0.5151\n",
            "Epoch 3/60\n",
            "\u001b[1m69/69\u001b[0m \u001b[32m━━━━━━━━━━━━━━━━━━━━\u001b[0m\u001b[37m\u001b[0m \u001b[1m0s\u001b[0m 4ms/step - accuracy: 0.7487 - loss: 0.5174 - val_accuracy: 0.7837 - val_loss: 0.4764\n",
            "Epoch 4/60\n",
            "\u001b[1m69/69\u001b[0m \u001b[32m━━━━━━━━━━━━━━━━━━━━\u001b[0m\u001b[37m\u001b[0m \u001b[1m0s\u001b[0m 4ms/step - accuracy: 0.7551 - loss: 0.4997 - val_accuracy: 0.7810 - val_loss: 0.4678\n",
            "Epoch 5/60\n",
            "\u001b[1m69/69\u001b[0m \u001b[32m━━━━━━━━━━━━━━━━━━━━\u001b[0m\u001b[37m\u001b[0m \u001b[1m0s\u001b[0m 4ms/step - accuracy: 0.7728 - loss: 0.4632 - val_accuracy: 0.7701 - val_loss: 0.4748\n",
            "Epoch 6/60\n",
            "\u001b[1m69/69\u001b[0m \u001b[32m━━━━━━━━━━━━━━━━━━━━\u001b[0m\u001b[37m\u001b[0m \u001b[1m0s\u001b[0m 4ms/step - accuracy: 0.7723 - loss: 0.4778 - val_accuracy: 0.7796 - val_loss: 0.4658\n",
            "Epoch 7/60\n",
            "\u001b[1m69/69\u001b[0m \u001b[32m━━━━━━━━━━━━━━━━━━━━\u001b[0m\u001b[37m\u001b[0m \u001b[1m0s\u001b[0m 4ms/step - accuracy: 0.7779 - loss: 0.4658 - val_accuracy: 0.7837 - val_loss: 0.4665\n",
            "Epoch 8/60\n",
            "\u001b[1m69/69\u001b[0m \u001b[32m━━━━━━━━━━━━━━━━━━━━\u001b[0m\u001b[37m\u001b[0m \u001b[1m0s\u001b[0m 5ms/step - accuracy: 0.8039 - loss: 0.4178 - val_accuracy: 0.7796 - val_loss: 0.4679\n",
            "Epoch 9/60\n",
            "\u001b[1m69/69\u001b[0m \u001b[32m━━━━━━━━━━━━━━━━━━━━\u001b[0m\u001b[37m\u001b[0m \u001b[1m1s\u001b[0m 4ms/step - accuracy: 0.7922 - loss: 0.4396 - val_accuracy: 0.7782 - val_loss: 0.4623\n",
            "Epoch 10/60\n",
            "\u001b[1m69/69\u001b[0m \u001b[32m━━━━━━━━━━━━━━━━━━━━\u001b[0m\u001b[37m\u001b[0m \u001b[1m0s\u001b[0m 4ms/step - accuracy: 0.8057 - loss: 0.4356 - val_accuracy: 0.7782 - val_loss: 0.4713\n",
            "Epoch 11/60\n",
            "\u001b[1m69/69\u001b[0m \u001b[32m━━━━━━━━━━━━━━━━━━━━\u001b[0m\u001b[37m\u001b[0m \u001b[1m0s\u001b[0m 4ms/step - accuracy: 0.8047 - loss: 0.4269 - val_accuracy: 0.7782 - val_loss: 0.4674\n",
            "Epoch 12/60\n",
            "\u001b[1m69/69\u001b[0m \u001b[32m━━━━━━━━━━━━━━━━━━━━\u001b[0m\u001b[37m\u001b[0m \u001b[1m0s\u001b[0m 4ms/step - accuracy: 0.8203 - loss: 0.3872 - val_accuracy: 0.7782 - val_loss: 0.4716\n"
          ]
        }
      ]
    },
    {
      "cell_type": "code",
      "source": [
        "from sklearn.metrics import confusion_matrix, ConfusionMatrixDisplay\n",
        "\n",
        "ypred = model.predict(embeddings_test).argmax(axis=1)\n",
        "ConfusionMatrixDisplay.from_predictions(ytest, ypred, display_labels=le.classes_)\n"
      ],
      "metadata": {
        "colab": {
          "base_uri": "https://localhost:8080/",
          "height": 484
        },
        "id": "bouYIP5UrGe6",
        "outputId": "5cd9b7b9-b5a7-4071-ee64-b59222122c4a"
      },
      "execution_count": 62,
      "outputs": [
        {
          "output_type": "stream",
          "name": "stdout",
          "text": [
            "\u001b[1m23/23\u001b[0m \u001b[32m━━━━━━━━━━━━━━━━━━━━\u001b[0m\u001b[37m\u001b[0m \u001b[1m0s\u001b[0m 8ms/step\n"
          ]
        },
        {
          "output_type": "execute_result",
          "data": {
            "text/plain": [
              "<sklearn.metrics._plot.confusion_matrix.ConfusionMatrixDisplay at 0x7b4f6d961f90>"
            ]
          },
          "metadata": {},
          "execution_count": 62
        },
        {
          "output_type": "display_data",
          "data": {
            "text/plain": [
              "<Figure size 640x480 with 2 Axes>"
            ],
            "image/png": "[encoded data removed]"
          },
          "metadata": {}
        }
      ]
    },
    {
      "cell_type": "markdown",
      "source": [
        "The neural network is the best performing one so we are gonna proceed with that one"
      ],
      "metadata": {
        "id": "5XldyWdmA3s6"
      }
    },
    {
      "cell_type": "markdown",
      "source": [
        "# Article analysis"
      ],
      "metadata": {
        "id": "KmVSZM_rA89B"
      }
    },
    {
      "cell_type": "code",
      "source": [
        "def get_bias_score(article_text, bert_model, classifier_model, le):\n",
        "    \"\"\"\n",
        "    Predicts how biased a Wikipedia article is using a BERT + Keras classifier.\n",
        "    Returns a float between 0 and 1.\n",
        "    \"\"\"\n",
        "    sentences = sent_tokenize(article_text)\n",
        "    if not sentences:\n",
        "        return 0.0\n",
        "\n",
        "    embeddings = BERT_text_to_embeddings(sentences)\n",
        "\n",
        "    preds = classifier_model.predict(embeddings)\n",
        "    predicted_classes = np.argmax(preds, axis=1)\n",
        "\n",
        "    # Get the integer value that corresponds to 'biased'\n",
        "    biased_index = np.where(le.classes_ == 'biased')[0][0]\n",
        "    bias_score = np.mean(predicted_classes == biased_index)\n",
        "\n",
        "    return round(bias_score, 3)\n"
      ],
      "metadata": {
        "id": "cypWLbI458RQ"
      },
      "execution_count": 63,
      "outputs": []
    },
    {
      "cell_type": "code",
      "source": [
        "import requests\n",
        "\n",
        "def get_wikipedia_article(title, lang='en'):\n",
        "    \"\"\"\n",
        "    Robustly fetches the plain text content of a Wikipedia article using the MediaWiki API.\n",
        "    Supports redirects and unusual titles.\n",
        "    \"\"\"\n",
        "    api_url = f\"https://{lang}.wikipedia.org/w/api.php\"\n",
        "    params = {\n",
        "        \"action\": \"query\",\n",
        "        \"format\": \"json\",\n",
        "        \"prop\": \"extracts\",\n",
        "        \"explaintext\": True,\n",
        "        \"redirects\": 1,\n",
        "        \"titles\": title\n",
        "    }\n",
        "\n",
        "    response = requests.get(api_url, params=params)\n",
        "    data = response.json()\n",
        "\n",
        "    pages = data[\"query\"][\"pages\"]\n",
        "    page = next(iter(pages.values()))\n",
        "\n",
        "    if \"extract\" in page:\n",
        "        print(f\"✅ Article found: {title}\")\n",
        "        return page[\"extract\"]\n",
        "    else:\n",
        "        print(f\"❌ Article not found: {title}\")\n",
        "        return None\n"
      ],
      "metadata": {
        "id": "fSBamCdCCebu"
      },
      "execution_count": 64,
      "outputs": []
    },
    {
      "cell_type": "code",
      "source": [
        "sample_article = \"\"\"\n",
        "The politician claimed the tax cut would help the middle class, but experts say it overwhelmingly benefits the wealthy.\n",
        "Critics have called this policy a disaster, citing numerous studies.\n",
        "Meanwhile, supporters insist the economy has improved as a result.\n",
        "\"\"\"\n",
        "\n",
        "bias_score = get_bias_score(sample_article, bert_model=bert_model, classifier_model=model, le=le)\n",
        "print(\"Bias Score:\", bias_score)\n"
      ],
      "metadata": {
        "colab": {
          "base_uri": "https://localhost:8080/",
          "height": 367
        },
        "id": "9wDG2l9TEuc5",
        "outputId": "640dd819-2520-439d-a59b-efe2f8c1f4b1"
      },
      "execution_count": 65,
      "outputs": [
        {
          "output_type": "stream",
          "name": "stdout",
          "text": [
            "Using the cuda device.\n"
          ]
        },
        {
          "output_type": "stream",
          "name": "stderr",
          "text": [
            "100%|██████████| 1/1 [00:00<00:00,  7.53it/s]\n"
          ]
        },
        {
          "output_type": "stream",
          "name": "stdout",
          "text": [
            "\u001b[1m1/1\u001b[0m \u001b[32m━━━━━━━━━━━━━━━━━━━━\u001b[0m\u001b[37m\u001b[0m \u001b[1m0s\u001b[0m 112ms/step\n"
          ]
        },
        {
          "output_type": "error",
          "ename": "IndexError",
          "evalue": "index 0 is out of bounds for axis 0 with size 0",
          "traceback": [
            "\u001b[0;31m---------------------------------------------------------------------------\u001b[0m",
            "\u001b[0;31mIndexError\u001b[0m                                Traceback (most recent call last)",
            "\u001b[0;32m<ipython-input-65-d924ebbd442f>\u001b[0m in \u001b[0;36m<cell line: 0>\u001b[0;34m()\u001b[0m\n\u001b[1;32m      5\u001b[0m \"\"\"\n\u001b[1;32m      6\u001b[0m \u001b[0;34m\u001b[0m\u001b[0m\n\u001b[0;32m----> 7\u001b[0;31m \u001b[0mbias_score\u001b[0m \u001b[0;34m=\u001b[0m \u001b[0mget_bias_score\u001b[0m\u001b[0;34m(\u001b[0m\u001b[0msample_article\u001b[0m\u001b[0;34m,\u001b[0m \u001b[0mbert_model\u001b[0m\u001b[0;34m=\u001b[0m\u001b[0mbert_model\u001b[0m\u001b[0;34m,\u001b[0m \u001b[0mclassifier_model\u001b[0m\u001b[0;34m=\u001b[0m\u001b[0mmodel\u001b[0m\u001b[0;34m,\u001b[0m \u001b[0mle\u001b[0m\u001b[0;34m=\u001b[0m\u001b[0mle\u001b[0m\u001b[0;34m)\u001b[0m\u001b[0;34m\u001b[0m\u001b[0;34m\u001b[0m\u001b[0m\n\u001b[0m\u001b[1;32m      8\u001b[0m \u001b[0mprint\u001b[0m\u001b[0;34m(\u001b[0m\u001b[0;34m\"Bias Score:\"\u001b[0m\u001b[0;34m,\u001b[0m \u001b[0mbias_score\u001b[0m\u001b[0;34m)\u001b[0m\u001b[0;34m\u001b[0m\u001b[0;34m\u001b[0m\u001b[0m\n",
            "\u001b[0;32m<ipython-input-63-76d350f88215>\u001b[0m in \u001b[0;36mget_bias_score\u001b[0;34m(article_text, bert_model, classifier_model, le)\u001b[0m\n\u001b[1;32m     14\u001b[0m \u001b[0;34m\u001b[0m\u001b[0m\n\u001b[1;32m     15\u001b[0m     \u001b[0;31m# Get the integer value that corresponds to 'biased'\u001b[0m\u001b[0;34m\u001b[0m\u001b[0;34m\u001b[0m\u001b[0m\n\u001b[0;32m---> 16\u001b[0;31m     \u001b[0mbiased_index\u001b[0m \u001b[0;34m=\u001b[0m \u001b[0mnp\u001b[0m\u001b[0;34m.\u001b[0m\u001b[0mwhere\u001b[0m\u001b[0;34m(\u001b[0m\u001b[0mle\u001b[0m\u001b[0;34m.\u001b[0m\u001b[0mclasses_\u001b[0m \u001b[0;34m==\u001b[0m \u001b[0;34m'biased'\u001b[0m\u001b[0;34m)\u001b[0m\u001b[0;34m[\u001b[0m\u001b[0;36m0\u001b[0m\u001b[0;34m]\u001b[0m\u001b[0;34m[\u001b[0m\u001b[0;36m0\u001b[0m\u001b[0;34m]\u001b[0m\u001b[0;34m\u001b[0m\u001b[0;34m\u001b[0m\u001b[0m\n\u001b[0m\u001b[1;32m     17\u001b[0m     \u001b[0mbias_score\u001b[0m \u001b[0;34m=\u001b[0m \u001b[0mnp\u001b[0m\u001b[0;34m.\u001b[0m\u001b[0mmean\u001b[0m\u001b[0;34m(\u001b[0m\u001b[0mpredicted_classes\u001b[0m \u001b[0;34m==\u001b[0m \u001b[0mbiased_index\u001b[0m\u001b[0;34m)\u001b[0m\u001b[0;34m\u001b[0m\u001b[0;34m\u001b[0m\u001b[0m\n\u001b[1;32m     18\u001b[0m \u001b[0;34m\u001b[0m\u001b[0m\n",
            "\u001b[0;31mIndexError\u001b[0m: index 0 is out of bounds for axis 0 with size 0"
          ]
        }
      ]
    },
    {
      "cell_type": "code",
      "source": [
        "print(\"Label mapping:\", list(le.classes_))\n"
      ],
      "metadata": {
        "id": "v-5PEP6uMCfN"
      },
      "execution_count": null,
      "outputs": []
    },
    {
      "cell_type": "code",
      "source": [
        "article_text = get_wikipedia_article(\"2024 United States presidential election\")\n",
        "print(article_text)\n",
        "if article_text:\n",
        "    bias_score = get_bias_score(article_text, model, tokenizer, le)\n",
        "    print(\"Bias score:\", bias_score)\n"
      ],
      "metadata": {
        "id": "bo-4fq2XCrH8"
      },
      "execution_count": null,
      "outputs": []
    },
    {
      "cell_type": "code",
      "source": [],
      "metadata": {
        "id": "l3B2LLP9DLBS"
      },
      "execution_count": null,
      "outputs": []
    }
  ]
}